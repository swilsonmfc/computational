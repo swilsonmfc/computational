{
 "cells": [
  {
   "cell_type": "markdown",
   "metadata": {},
   "source": [
    "# Producer - Consumer"
   ]
  },
  {
   "cell_type": "markdown",
   "metadata": {},
   "source": [
    "# Setup"
   ]
  },
  {
   "cell_type": "code",
   "execution_count": 4,
   "metadata": {},
   "outputs": [],
   "source": [
    "import threading\n",
    "import time\n",
    "import random\n",
    "\n",
    "from threading import Thread\n",
    "\n",
    "from queue import Queue\n",
    "\n",
    "from concurrent.futures import ThreadPoolExecutor"
   ]
  },
  {
   "cell_type": "markdown",
   "metadata": {},
   "source": [
    "# Logging"
   ]
  },
  {
   "cell_type": "code",
   "execution_count": 2,
   "metadata": {},
   "outputs": [
    {
     "name": "stdout",
     "output_type": "stream",
     "text": [
      "DEBUG:root:Hello\n"
     ]
    }
   ],
   "source": [
    "import logging\n",
    "import sys\n",
    "logging.basicConfig(stream=sys.stdout, level=logging.DEBUG)\n",
    "logger = logging.getLogger()\n",
    "#logger.setLevel(logging.DEBUG)\n",
    "logger.debug('Hello')"
   ]
  },
  {
   "cell_type": "markdown",
   "metadata": {},
   "source": [
    "# Workers\n",
    "* Our main thread creates some work for a pool of workers to complete"
   ]
  },
  {
   "cell_type": "code",
   "execution_count": null,
   "metadata": {},
   "outputs": [],
   "source": [
    "q = Queue()\n",
    "results = []\n",
    "\n",
    "# Creates 25 pieces of work on the queue\n",
    "def create_work():\n",
    "    for i in range(25):\n",
    "        q.put(i)\n",
    "        \n",
    "# Works the queue\n",
    "def do_work():\n",
    "    while True:\n",
    "        # Take a number off the queue & multiply by 4\n",
    "        number = q.get()\n",
    "        if number is None:\n",
    "            logger.debug(f'  Thread {threading.current_thread().name} Finished')\n",
    "            break\n",
    "            \n",
    "        logger.debug(f'  Thread {threading.current_thread().name} : Getting Value {number}')\n",
    "        result = (number, number * 4)\n",
    "        \n",
    "        # Apprend to the results\n",
    "        time.sleep(1)\n",
    "        results.append(result)\n",
    "        \n",
    "        # Signal done\n",
    "        q.task_done()\n",
    "   \n",
    "# Create daemon five worker threads\n",
    "logger.debug('Main Starting Threads')\n",
    "workers = 5\n",
    "threads = [Thread(target=do_work, daemon=True) for i in range(workers)]\n",
    "[t.start() for t in threads]\n",
    "\n",
    "# Run the produce function\n",
    "logger.debug('Main Creating Work')\n",
    "create_work()\n",
    "\n",
    "# Join the queue\n",
    "logger.debug('Main Joining Queue')\n",
    "q.join()\n",
    "\n",
    "# Join the threads\n",
    "logger.debug(results)\n",
    "\n",
    "# Stop workers\n",
    "logger.debug('Stopping Workers Threads')\n",
    "[q.put(None) for i in range(workers)]\n",
    "[t.join() for t in threads];"
   ]
  },
  {
   "cell_type": "markdown",
   "metadata": {},
   "source": [
    "# Producer - Consumer\n",
    "* We extend the pattern\n",
    "* Now we have a producer that creates a between 1 and 5 jobs\n",
    "* We have a worker that waits for work\n",
    "* The worker can do three things before needing a break"
   ]
  },
  {
   "cell_type": "markdown",
   "metadata": {},
   "source": [
    "## Work Loop"
   ]
  },
  {
   "cell_type": "code",
   "execution_count": 31,
   "metadata": {},
   "outputs": [
    {
     "name": "stdout",
     "output_type": "stream",
     "text": [
      "DEBUG:root:Producing Job 1:1\n",
      "DEBUG:root:Producing Job 1:2\n",
      "DEBUG:root:  Consuming: Job 1:1 Remaining: 1\n",
      "DEBUG:root:  Consuming: Job 1:2 Remaining: 1\n",
      "DEBUG:root:Producing Job 2:1\n",
      "DEBUG:root:Producing Job 2:2\n",
      "DEBUG:root:  Consuming: Job 2:1 Remaining: 0\n",
      "DEBUG:root:  Consuming: Job 2:2 Remaining: 1\n",
      "DEBUG:root:  Taking Break\n",
      "DEBUG:root:Producing Job 3:1\n",
      "DEBUG:root:  Consuming: Job 3:1 Remaining: 0\n",
      "DEBUG:root:Producing Job 4:1\n",
      "DEBUG:root:  Consuming: Job 4:1 Remaining: 0\n",
      "DEBUG:root:Producing Job 5:1\n",
      "DEBUG:root:  Consuming: Job 5:1 Remaining: 0\n"
     ]
    }
   ],
   "source": [
    "q = Queue()\n",
    "producing = True\n",
    "\n",
    "def produce():\n",
    "    loop = 1\n",
    "    while producing == True:\n",
    "        for i in range(random.randint(1,5)):\n",
    "            work = f'Job {loop}:{i + 1}'\n",
    "            logger.debug(f'Producing {work}')\n",
    "            q.put(work)\n",
    "        loop += 1\n",
    "        time.sleep(3)\n",
    "\n",
    "def consume():\n",
    "    completed = 0\n",
    "    while True:\n",
    "        jobs = q.qsize()\n",
    "        job  = q.get()\n",
    "        \n",
    "        if job is None:\n",
    "            break\n",
    "        \n",
    "        logger.debug(f'  Consuming: {job} Remaining: {jobs}')\n",
    "        q.task_done()\n",
    "        \n",
    "        completed += 1\n",
    "        if completed > 3:\n",
    "            logger.debug(f'  Consumer: Taking Break')\n",
    "            time.sleep(2)\n",
    "            completed = 0\n",
    "\n",
    "producer = Thread(target=produce)\n",
    "consumer = Thread(target=consume)\n",
    "\n",
    "producer.start()\n",
    "consumer.start()"
   ]
  },
  {
   "cell_type": "markdown",
   "metadata": {},
   "source": [
    "## Cleanup"
   ]
  },
  {
   "cell_type": "code",
   "execution_count": 32,
   "metadata": {},
   "outputs": [],
   "source": [
    "producing = False\n",
    "q.put(None)\n",
    "producer.join()\n",
    "consumer.join()"
   ]
  }
 ],
 "metadata": {
  "kernelspec": {
   "display_name": "Python 3",
   "language": "python",
   "name": "python3"
  },
  "language_info": {
   "codemirror_mode": {
    "name": "ipython",
    "version": 3
   },
   "file_extension": ".py",
   "mimetype": "text/x-python",
   "name": "python",
   "nbconvert_exporter": "python",
   "pygments_lexer": "ipython3",
   "version": "3.7.6"
  }
 },
 "nbformat": 4,
 "nbformat_minor": 4
}
