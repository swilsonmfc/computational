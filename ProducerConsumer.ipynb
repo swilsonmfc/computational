{
 "cells": [
  {
   "cell_type": "markdown",
   "metadata": {},
   "source": [
    "# Producer - Consumer"
   ]
  },
  {
   "cell_type": "markdown",
   "metadata": {},
   "source": [
    "# Setup"
   ]
  },
  {
   "cell_type": "code",
   "execution_count": 1,
   "metadata": {},
   "outputs": [],
   "source": [
    "import threading\n",
    "import time\n",
    "import random\n",
    "\n",
    "from threading import Thread\n",
    "from threading import Event\n",
    "from threading import Lock\n",
    "from threading import Condition\n",
    "\n",
    "from queue import Queue\n",
    "\n",
    "from concurrent.futures import ThreadPoolExecutor"
   ]
  },
  {
   "cell_type": "markdown",
   "metadata": {},
   "source": [
    "# Logging"
   ]
  },
  {
   "cell_type": "code",
   "execution_count": 2,
   "metadata": {},
   "outputs": [
    {
     "name": "stdout",
     "output_type": "stream",
     "text": [
      "DEBUG:root:Hello\n"
     ]
    }
   ],
   "source": [
    "import logging\n",
    "import sys\n",
    "logging.basicConfig(stream=sys.stdout, level=logging.DEBUG)\n",
    "logger = logging.getLogger()\n",
    "#logger.setLevel(logging.DEBUG)\n",
    "logger.debug('Hello')"
   ]
  },
  {
   "cell_type": "markdown",
   "metadata": {},
   "source": [
    "# Event\n",
    "* To kick off this notebook, we have some worker threads\n",
    "* We'd like to have them pause and receive an event that has them work\n",
    "* We can use the Event class to wait and signal"
   ]
  },
  {
   "cell_type": "code",
   "execution_count": 3,
   "metadata": {},
   "outputs": [
    {
     "name": "stdout",
     "output_type": "stream",
     "text": [
      "DEBUG:root:Main Starting Waiter Threads\n",
      "DEBUG:root:  Waiter 1: Waiting for Event\n",
      "DEBUG:root:  Waiter 2: Waiting for Event\n",
      "DEBUG:root:Main Sleeping\n",
      "DEBUG:root:Main Setting Event\n",
      "DEBUG:root:  Waiter 2: Received Event\n",
      "DEBUG:root:  Waiter 1: Received Event\n",
      "DEBUG:root:  Waiter 2: Working\n",
      "DEBUG:root:  Waiter 1: Working\n"
     ]
    }
   ],
   "source": [
    "event = Event()\n",
    "\n",
    "def wait_for_event(thread_name):\n",
    "    logger.debug(f'  Waiter {thread_name}: Waiting for Event')\n",
    "    event.wait()\n",
    "    logger.debug(f'  Waiter {thread_name}: Received Event')\n",
    "    logger.debug(f'  Waiter {thread_name}: Working')\n",
    "    \n",
    "logger.debug('Main Starting Waiter Threads')\n",
    "waiter1 = Thread(target=wait_for_event, args=(1,))\n",
    "waiter2 = Thread(target=wait_for_event, args=(2,))\n",
    "waiter1.start()\n",
    "waiter2.start()\n",
    "\n",
    "logger.debug('Main Sleeping')\n",
    "time.sleep(2)\n",
    "\n",
    "logger.debug('Main Setting Event')\n",
    "event.set()\n",
    "event.clear()\n",
    "waiter1.join()\n",
    "waiter2.join()"
   ]
  },
  {
   "cell_type": "markdown",
   "metadata": {},
   "source": [
    "# Condition\n",
    "* Building on the Event\n",
    "* We have an amount of work to complete\n",
    "* We want to use multiple workers to finish the job\n",
    "* We need a mechanism for controlling access to the work list\n",
    "* We need a way to signal that there is work for workers to do"
   ]
  },
  {
   "cell_type": "code",
   "execution_count": 8,
   "metadata": {},
   "outputs": [
    {
     "name": "stdout",
     "output_type": "stream",
     "text": [
      "DEBUG:root:Main Starting Threads\n",
      "DEBUG:root:Main Creating Work\n",
      "DEBUG:root:Main Producing Work : 0\n",
      "DEBUG:root:Main Producing Work : 1\n",
      "DEBUG:root:Main Producing Work : 2\n",
      "DEBUG:root:Main Producing Work : 3\n",
      "DEBUG:root:Main Producing Work : 4\n",
      "DEBUG:root:  Thread Thread-13 : Getting Value 4\n",
      "DEBUG:root:  Thread Thread-14 : Getting Value 3\n",
      "DEBUG:root:  Thread Thread-14 : Getting Value 2\n",
      "DEBUG:root:  Thread Thread-14 : Getting Value 1\n",
      "DEBUG:root:  Thread Thread-14 : Getting Value 0\n",
      "DEBUG:root:Main Producing Work : 5\n",
      "DEBUG:root:Main Producing Work : 6\n",
      "DEBUG:root:Main Producing Work : 7\n",
      "DEBUG:root:Main Producing Work : 8\n",
      "DEBUG:root:Main Producing Work : 9\n",
      "DEBUG:root:  Thread Thread-11 : Getting Value 9\n",
      "DEBUG:root:  Thread Thread-12 : Getting Value 8\n",
      "DEBUG:root:  Thread Thread-12 : Getting Value 7\n",
      "DEBUG:root:  Thread Thread-12 : Getting Value 6\n",
      "DEBUG:root:  Thread Thread-15 : Getting Value 5\n",
      "DEBUG:root:Main Producing Work : 10\n",
      "DEBUG:root:Main Producing Work : 11\n",
      "DEBUG:root:Main Producing Work : 12\n",
      "DEBUG:root:Main Producing Work : 13\n",
      "DEBUG:root:Main Producing Work : 14\n",
      "DEBUG:root:  Thread Thread-12 : Getting Value 14\n",
      "DEBUG:root:  Thread Thread-11 : Getting Value 13\n",
      "DEBUG:root:  Thread Thread-11 : Getting Value 12\n",
      "DEBUG:root:  Thread Thread-15 : Getting Value 11\n",
      "DEBUG:root:  Thread Thread-14 : Getting Value 10\n",
      "DEBUG:root:Main Producing Work : 15\n",
      "DEBUG:root:Main Producing Work : 16\n",
      "DEBUG:root:Main Producing Work : 17\n",
      "DEBUG:root:Main Producing Work : 18\n",
      "DEBUG:root:Main Producing Work : 19\n",
      "DEBUG:root:  Thread Thread-14 : Getting Value 19\n",
      "DEBUG:root:  Thread Thread-15 : Getting Value 18\n",
      "DEBUG:root:  Thread Thread-15 : Getting Value 17\n",
      "DEBUG:root:  Thread Thread-15 : Getting Value 16\n",
      "DEBUG:root:  Thread Thread-15 : Getting Value 15\n",
      "DEBUG:root:Main Producing Work : 20\n",
      "DEBUG:root:Main Producing Work : 21\n",
      "DEBUG:root:Main Producing Work : 22\n",
      "DEBUG:root:Main Producing Work : 23\n",
      "DEBUG:root:Main Producing Work : 24\n",
      "DEBUG:root:  Thread Thread-13 : Getting Value 24\n",
      "DEBUG:root:  Thread Thread-12 : Getting Value 23\n",
      "DEBUG:root:  Thread Thread-11 : Getting Value 22\n",
      "DEBUG:root:  Thread Thread-15 : Getting Value 21\n",
      "DEBUG:root:  Thread Thread-14 : Getting Value 20\n",
      "DEBUG:root:Main Waiting for Shift End\n",
      "DEBUG:root:Ending Work\n",
      "DEBUG:root:Waiting for Workers Threads\n",
      "DEBUG:root:[(4, 16), (3, 12), (2, 8), (1, 4), (0, 0), (9, 36), (8, 32), (7, 28), (6, 24), (5, 20), (14, 56), (13, 52), (12, 48), (11, 44), (10, 40), (19, 76), (18, 72), (17, 68), (16, 64), (15, 60), (24, 96), (23, 92), (22, 88), (21, 84), (20, 80)]\n"
     ]
    }
   ],
   "source": [
    "work    = []\n",
    "results = []\n",
    "\n",
    "condition = Condition()\n",
    "\n",
    "class Producer():\n",
    "    def __init__(self, workers=5):\n",
    "        self.workers = workers\n",
    "        self.threads = None\n",
    "        \n",
    "    def create_workers(self):\n",
    "        # Create daemon five worker threads\n",
    "        logger.debug('Main Starting Threads')\n",
    "        self.threads = [Worker(i) for i in range(self.workers)]\n",
    "        [t.start() for t in self.threads]\n",
    "        \n",
    "    def create_work(self, batches = 5, items = 5, sleeping = 1):\n",
    "        logger.debug('Main Creating Work')\n",
    "        for b in range(batches):\n",
    "            with condition:\n",
    "                for i in range(items):\n",
    "                    number = b * items + i\n",
    "                    logger.debug(f'Main Producing Work : {number}')\n",
    "                    work.append(number)\n",
    "                    condition.notifyAll()\n",
    "            time.sleep(sleeping)\n",
    "            \n",
    "    def wait_for_shift(self):\n",
    "        logger.debug('Main Waiting for Shift End')\n",
    "        time.sleep(5)\n",
    "            \n",
    "    def end_work(self):\n",
    "        logger.debug('Ending Work')\n",
    "        with condition:\n",
    "            [t.end() for t in threads]\n",
    "            condition.notifyAll()\n",
    "        logger.debug('Waiting for Workers Threads')\n",
    "        [t.join() for t in threads];\n",
    "    \n",
    "class Worker(Thread):\n",
    "    def __init__(self, name):\n",
    "        self.running = True\n",
    "        threading.Thread.__init__(self)\n",
    "    \n",
    "    def end(self):\n",
    "        self.running = False\n",
    "        \n",
    "    def run(self):\n",
    "        while self.running:\n",
    "            with condition:\n",
    "                # No work, wait\n",
    "                if len(work) == 0:\n",
    "                    condition.wait()\n",
    "\n",
    "                # Take a number off the queue & multiply by 4\n",
    "                try:\n",
    "                    number = work.pop()\n",
    "                    logger.debug(f'  Thread {threading.current_thread().name} : Getting Value {number}')\n",
    "                    time.sleep(.1)\n",
    "                    result = (number, number * 4)\n",
    "                    results.append(result)\n",
    "                except: # Popped an Empty List -- Are we done?\n",
    "                    pass\n",
    "        logger.debug(f'  Thread {threading.current_thread().name} Finished')\n",
    "\n",
    "# Run the produce function\n",
    "p = Producer()\n",
    "p.create_workers()\n",
    "p.create_work()\n",
    "p.wait_for_shift()\n",
    "p.end_work()\n",
    "\n",
    "# Print out Results\n",
    "logger.debug(results)"
   ]
  },
  {
   "cell_type": "markdown",
   "metadata": {},
   "source": [
    "# Queue & Workers\n",
    "* Our main thread creates some work for a pool of workers to complete\n",
    "* Rather than managing access to the work array, we'll use a Queue\n",
    "* Queue handles both the Condition and Lock"
   ]
  },
  {
   "cell_type": "code",
   "execution_count": null,
   "metadata": {},
   "outputs": [],
   "source": [
    "q = Queue()\n",
    "results = []\n",
    "\n",
    "# Creates 25 pieces of work on the queue\n",
    "def create_work():\n",
    "    for i in range(25):\n",
    "        q.put(i)\n",
    "        \n",
    "# Works the queue\n",
    "def do_work():\n",
    "    while True:\n",
    "        # Take a number off the queue & multiply by 4\n",
    "        number = q.get()\n",
    "        if number is None:\n",
    "            logger.debug(f'  Thread {threading.current_thread().name} Finished')\n",
    "            break\n",
    "            \n",
    "        logger.debug(f'  Thread {threading.current_thread().name} : Getting Value {number}')\n",
    "        result = (number, number * 4)\n",
    "        \n",
    "        # Append to the results\n",
    "        time.sleep(1)\n",
    "        results.append(result)\n",
    "        \n",
    "        # Signal done\n",
    "        q.task_done()\n",
    "   \n",
    "# Create daemon five worker threads\n",
    "logger.debug('Main Starting Threads')\n",
    "workers = 5\n",
    "threads = [Thread(target=do_work, daemon=True) for i in range(workers)]\n",
    "[t.start() for t in threads]\n",
    "\n",
    "# Run the produce function\n",
    "logger.debug('Main Creating Work')\n",
    "create_work()\n",
    "\n",
    "# Join the queue\n",
    "logger.debug('Main Joining Queue')\n",
    "q.join()\n",
    "\n",
    "# Join the threads\n",
    "logger.debug(results)\n",
    "\n",
    "# Stop workers\n",
    "logger.debug('Stopping Workers Threads')\n",
    "[q.put(None) for i in range(workers)]\n",
    "[t.join() for t in threads];"
   ]
  },
  {
   "cell_type": "markdown",
   "metadata": {},
   "source": [
    "# Producer - Consumer\n",
    "* We extend the pattern\n",
    "* Now we have a producer that creates a between 1 and 5 jobs\n",
    "* We have a worker that waits for work\n",
    "* The worker can do three things before needing a break"
   ]
  },
  {
   "cell_type": "markdown",
   "metadata": {},
   "source": [
    "## Work Loop"
   ]
  },
  {
   "cell_type": "code",
   "execution_count": 31,
   "metadata": {},
   "outputs": [
    {
     "name": "stdout",
     "output_type": "stream",
     "text": [
      "DEBUG:root:Producing Job 1:1\n",
      "DEBUG:root:Producing Job 1:2\n",
      "DEBUG:root:  Consuming: Job 1:1 Remaining: 1\n",
      "DEBUG:root:  Consuming: Job 1:2 Remaining: 1\n",
      "DEBUG:root:Producing Job 2:1\n",
      "DEBUG:root:Producing Job 2:2\n",
      "DEBUG:root:  Consuming: Job 2:1 Remaining: 0\n",
      "DEBUG:root:  Consuming: Job 2:2 Remaining: 1\n",
      "DEBUG:root:  Taking Break\n",
      "DEBUG:root:Producing Job 3:1\n",
      "DEBUG:root:  Consuming: Job 3:1 Remaining: 0\n",
      "DEBUG:root:Producing Job 4:1\n",
      "DEBUG:root:  Consuming: Job 4:1 Remaining: 0\n",
      "DEBUG:root:Producing Job 5:1\n",
      "DEBUG:root:  Consuming: Job 5:1 Remaining: 0\n"
     ]
    }
   ],
   "source": [
    "q = Queue()\n",
    "producing = True\n",
    "\n",
    "def produce():\n",
    "    loop = 1\n",
    "    while producing == True:\n",
    "        for i in range(random.randint(1,5)):\n",
    "            work = f'Job {loop}:{i + 1}'\n",
    "            logger.debug(f'Producing {work}')\n",
    "            q.put(work)\n",
    "        loop += 1\n",
    "        time.sleep(3)\n",
    "\n",
    "def consume():\n",
    "    completed = 0\n",
    "    while True:\n",
    "        jobs = q.qsize()\n",
    "        job  = q.get()\n",
    "        \n",
    "        if job is None:\n",
    "            break\n",
    "        \n",
    "        logger.debug(f'  Consuming: {job} Remaining: {jobs}')\n",
    "        q.task_done()\n",
    "        \n",
    "        completed += 1\n",
    "        if completed > 3:\n",
    "            logger.debug(f'  Consumer: Taking Break')\n",
    "            time.sleep(2)\n",
    "            completed = 0\n",
    "\n",
    "producer = Thread(target=produce)\n",
    "consumer = Thread(target=consume)\n",
    "\n",
    "producer.start()\n",
    "consumer.start()"
   ]
  },
  {
   "cell_type": "markdown",
   "metadata": {},
   "source": [
    "## Cleanup"
   ]
  },
  {
   "cell_type": "code",
   "execution_count": 32,
   "metadata": {},
   "outputs": [],
   "source": [
    "producing = False\n",
    "q.put(None)\n",
    "producer.join()\n",
    "consumer.join()"
   ]
  }
 ],
 "metadata": {
  "kernelspec": {
   "display_name": "Python 3",
   "language": "python",
   "name": "python3"
  },
  "language_info": {
   "codemirror_mode": {
    "name": "ipython",
    "version": 3
   },
   "file_extension": ".py",
   "mimetype": "text/x-python",
   "name": "python",
   "nbconvert_exporter": "python",
   "pygments_lexer": "ipython3",
   "version": "3.7.6"
  }
 },
 "nbformat": 4,
 "nbformat_minor": 4
}
