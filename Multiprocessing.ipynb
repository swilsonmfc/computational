{
 "cells": [
  {
   "cell_type": "markdown",
   "metadata": {},
   "source": [
    "# Multiprocessing"
   ]
  },
  {
   "cell_type": "markdown",
   "metadata": {},
   "source": [
    "# Setup"
   ]
  },
  {
   "cell_type": "code",
   "execution_count": 18,
   "metadata": {},
   "outputs": [],
   "source": [
    "import os\n",
    "import multiprocessing\n",
    "from multiprocessing import Process\n",
    "from multiprocessing import Pipe\n",
    "from multiprocessing import Pool\n",
    "from multiprocessing import Queue\n",
    "from multiprocessing import Manager\n",
    "from multiprocessing import Barrier\n",
    "from multiprocessing import BoundedSemaphore\n",
    "import random\n",
    "import time"
   ]
  },
  {
   "cell_type": "code",
   "execution_count": 2,
   "metadata": {},
   "outputs": [
    {
     "name": "stdout",
     "output_type": "stream",
     "text": [
      "DEBUG:root:Hello\n"
     ]
    }
   ],
   "source": [
    "import logging\n",
    "import sys\n",
    "logging.basicConfig(stream=sys.stdout, level=logging.DEBUG)\n",
    "logger = logging.getLogger()\n",
    "#logger.setLevel(logging.DEBUG)\n",
    "logger.debug('Hello')"
   ]
  },
  {
   "cell_type": "markdown",
   "metadata": {},
   "source": [
    "# Ping Pong Pipe\n",
    "* We'll use a Process as a client\n",
    "* We'll have our parent & child communicate over a Pipe object\n",
    "* Pipe creates two Connection objects which can facilitate communication"
   ]
  },
  {
   "cell_type": "code",
   "execution_count": 9,
   "metadata": {},
   "outputs": [
    {
     "name": "stdout",
     "output_type": "stream",
     "text": [
      "DEBUG:root:Child Sending Ping\n",
      "DEBUG:root:Parent Received Ping\n",
      "DEBUG:root:Parent Sending Pong\n",
      "DEBUG:root:Child Received Pong\n"
     ]
    }
   ],
   "source": [
    "def play(connection):\n",
    "    logger.debug('Child Sending Ping')\n",
    "    connection.send('Ping')\n",
    "    data = connection.recv()\n",
    "    logger.debug(f'Child Received {data}')\n",
    "    \n",
    "parent_connection, child_connection = Pipe()\n",
    "child = Process(target=play, args=(child_connection, ))\n",
    "child.start()\n",
    "\n",
    "data = parent_connection.recv()\n",
    "logger.debug(f'Parent Received {data}')\n",
    "logger.debug('Parent Sending Pong')\n",
    "parent_connection.send('Pong')\n",
    "\n",
    "child.join()"
   ]
  },
  {
   "cell_type": "markdown",
   "metadata": {},
   "source": [
    "# Ping Pong Queue\n",
    "* We continue to use a Process as a client\n",
    "* We'll swap out the Pipe for a Queue"
   ]
  },
  {
   "cell_type": "code",
   "execution_count": 13,
   "metadata": {},
   "outputs": [
    {
     "name": "stdout",
     "output_type": "stream",
     "text": [
      "DEBUG:root:Child Sending Ping\n",
      "DEBUG:root:Parent Received Ping\n",
      "DEBUG:root:Parent Sending Pong\n",
      "DEBUG:root:Child Received Ping\n"
     ]
    }
   ],
   "source": [
    "def play(q):\n",
    "    logger.debug('Child Sending Ping')\n",
    "    q.put('Ping')\n",
    "    q.get()\n",
    "    logger.debug(f'Child Received {data}')\n",
    "    \n",
    "q = Queue()\n",
    "child = Process(target=play, args=(q, ))\n",
    "child.start()\n",
    "\n",
    "data = q.get()\n",
    "logger.debug(f'Parent Received {data}')\n",
    "logger.debug('Parent Sending Pong')\n",
    "q.put('Pong')\n",
    "\n",
    "child.join()"
   ]
  },
  {
   "cell_type": "markdown",
   "metadata": {},
   "source": [
    "# Pools\n",
    "* Here we have several examples of a pool of processes to handle tasks\n",
    "\n",
    "## Send Multiple Jobs"
   ]
  },
  {
   "cell_type": "code",
   "execution_count": 25,
   "metadata": {},
   "outputs": [
    {
     "name": "stdout",
     "output_type": "stream",
     "text": [
      "DEBUG:root:0\n",
      "DEBUG:root:1\n",
      "DEBUG:root:4\n",
      "DEBUG:root:9\n",
      "DEBUG:root:16\n"
     ]
    }
   ],
   "source": [
    "def work(data):\n",
    "    return data * data\n",
    "\n",
    "pool = Pool(processes=2)\n",
    "for item in pool.imap_unordered(work, range(5)):\n",
    "     logger.debug(item)\n",
    "        \n",
    "pool.close()\n",
    "pool.join()"
   ]
  },
  {
   "cell_type": "markdown",
   "metadata": {},
   "source": [
    "## Send Single Job"
   ]
  },
  {
   "cell_type": "code",
   "execution_count": 29,
   "metadata": {},
   "outputs": [
    {
     "name": "stdout",
     "output_type": "stream",
     "text": [
      "DEBUG:root:400\n"
     ]
    }
   ],
   "source": [
    "def work(data):\n",
    "    return data * data\n",
    "\n",
    "pool = Pool(processes=2)\n",
    "reply = pool.apply_async(work, (20,))    \n",
    "logger.debug(reply.get(timeout=1))\n",
    "        \n",
    "pool.close()\n",
    "pool.join()"
   ]
  },
  {
   "cell_type": "markdown",
   "metadata": {},
   "source": [
    "## Get PID"
   ]
  },
  {
   "cell_type": "code",
   "execution_count": 40,
   "metadata": {},
   "outputs": [
    {
     "name": "stdout",
     "output_type": "stream",
     "text": [
      "DEBUG:root:Handle 0 PID 3489\n",
      "DEBUG:root:Handle 1 PID 3490\n",
      "DEBUG:root:Handle 2 PID 3489\n",
      "DEBUG:root:Handle 3 PID 3491\n",
      "DEBUG:root:Handle 4 PID 3490\n",
      "DEBUG:root:Handle 5 PID 3489\n",
      "DEBUG:root:Handle 6 PID 3491\n",
      "DEBUG:root:Handle 7 PID 3490\n",
      "DEBUG:root:Handle 8 PID 3489\n",
      "DEBUG:root:Handle 9 PID 3491\n"
     ]
    }
   ],
   "source": [
    "pool = Pool(processes=3)\n",
    "\n",
    "for i in range(10):\n",
    "    reply = pool.apply_async(os.getpid, ())\n",
    "    pid = reply.get(timeout=1)\n",
    "    logger.debug(f'Handle {i} PID {pid}')\n",
    "\n",
    "pool.close()\n",
    "pool.join()"
   ]
  },
  {
   "cell_type": "markdown",
   "metadata": {},
   "source": [
    "## With Context\n",
    "* Safely reclaim resources in a context block"
   ]
  },
  {
   "cell_type": "code",
   "execution_count": 51,
   "metadata": {},
   "outputs": [
    {
     "name": "stdout",
     "output_type": "stream",
     "text": [
      "DEBUG:root:PID 3691 Count 1 of 1\n",
      "DEBUG:root:PID 3692 Count 1 of 2\n",
      "DEBUG:root:PID 3693 Count 1 of 3\n",
      "DEBUG:root:PID 3692 Count 2 of 2\n",
      "DEBUG:root:PID 3693 Count 2 of 3\n",
      "DEBUG:root:PID 3691 Count 1 of 4\n",
      "DEBUG:root:PID 3692 Count 1 of 5\n",
      "DEBUG:root:PID 3693 Count 3 of 3\n",
      "DEBUG:root:PID 3691 Count 2 of 4\n",
      "DEBUG:root:PID 3692 Count 2 of 5\n",
      "DEBUG:root:PID 3691 Count 3 of 4\n",
      "DEBUG:root:PID 3692 Count 3 of 5\n",
      "DEBUG:root:PID 3691 Count 4 of 4\n",
      "DEBUG:root:PID 3692 Count 4 of 5\n",
      "DEBUG:root:PID 3692 Count 5 of 5\n"
     ]
    }
   ],
   "source": [
    "def work(items):\n",
    "    pid = os.getpid()\n",
    "    for i in range(items):\n",
    "        logger.debug(f'PID {pid} Count {i + 1} of {items}')\n",
    "        time.sleep(1)\n",
    "     \n",
    "with Pool(3) as p:\n",
    "    p.map(work, [1, 2, 3, 4, 5])"
   ]
  },
  {
   "cell_type": "markdown",
   "metadata": {},
   "source": [
    "# Multiprocessing Helpers"
   ]
  },
  {
   "cell_type": "markdown",
   "metadata": {},
   "source": [
    "## CPU Count"
   ]
  },
  {
   "cell_type": "code",
   "execution_count": 46,
   "metadata": {},
   "outputs": [
    {
     "name": "stdout",
     "output_type": "stream",
     "text": [
      "DEBUG:root:4\n"
     ]
    }
   ],
   "source": [
    "logger.debug(multiprocessing.cpu_count())"
   ]
  },
  {
   "cell_type": "markdown",
   "metadata": {},
   "source": [
    "## Child Processes"
   ]
  },
  {
   "cell_type": "code",
   "execution_count": 45,
   "metadata": {},
   "outputs": [
    {
     "name": "stdout",
     "output_type": "stream",
     "text": [
      "DEBUG:root:<ForkProcess(ForkPoolWorker-34, started daemon)>\n",
      "DEBUG:root:<ForkProcess(ForkPoolWorker-33, started daemon)>\n",
      "DEBUG:root:<ForkProcess(ForkPoolWorker-32, started daemon)>\n"
     ]
    }
   ],
   "source": [
    "pool = Pool(processes=3)\n",
    "for child in multiprocessing.active_children():\n",
    "    logger.debug(child)\n",
    "pool.close()\n",
    "pool.join()"
   ]
  },
  {
   "cell_type": "markdown",
   "metadata": {},
   "source": [
    "# Synchronous Map & Apply"
   ]
  },
  {
   "cell_type": "markdown",
   "metadata": {},
   "source": [
    "## Map\n",
    "* Map serializes (pickles) the current process and sends it to another core"
   ]
  },
  {
   "cell_type": "code",
   "execution_count": 54,
   "metadata": {},
   "outputs": [
    {
     "name": "stdout",
     "output_type": "stream",
     "text": [
      "DEBUG:root:PID: 3955 0 --> 0\n",
      "DEBUG:root:PID: 3957 30000 --> 900000000\n",
      "DEBUG:root:PID: 3956 10000 --> 100000000\n",
      "DEBUG:root:PID: 3958 20000 --> 400000000\n",
      "DEBUG:root:PID: 3955 40000 --> 1600000000\n",
      "DEBUG:root:PID: 3956 60000 --> 3600000000\n",
      "DEBUG:root:PID: 3957 50000 --> 2500000000\n",
      "DEBUG:root:PID: 3958 70000 --> 4900000000\n",
      "DEBUG:root:PID: 3956 80000 --> 6400000000\n",
      "DEBUG:root:PID: 3955 90000 --> 8100000000\n"
     ]
    }
   ],
   "source": [
    "def double(input):\n",
    "    val = input ** 2\n",
    "    if input % 10000 == 0:\n",
    "        logger.debug(f'PID: {os.getpid()} {input} --> {val}')\n",
    "        \n",
    "numbers = [x for x in range(0, 100000)]\n",
    "with Pool(multiprocessing.cpu_count()) as pool:\n",
    "    pool.map(double, numbers)"
   ]
  },
  {
   "cell_type": "markdown",
   "metadata": {},
   "source": [
    "## IMap\n",
    "* IMap is more efficient.  \n",
    "* Rather than copying the memory space of the process, it sends an iterator\n",
    "* Note:  We no longer get the logger (it's in a different process)"
   ]
  },
  {
   "cell_type": "code",
   "execution_count": 57,
   "metadata": {},
   "outputs": [],
   "source": [
    "def double(input):\n",
    "    val = input ** 2\n",
    "    if input % 10000 == 0:\n",
    "        logger.debug(f'PID: {os.getpid()} {input} --> {val}')\n",
    "        \n",
    "numbers = [x for x in range(0, 100000)]\n",
    "with Pool(multiprocessing.cpu_count()) as pool:\n",
    "    pool.imap(double, numbers)"
   ]
  },
  {
   "cell_type": "markdown",
   "metadata": {},
   "source": [
    "## StarMap\n",
    "* The final mapper is starmap\n",
    "* It behvaes like map, but can handle multiple arguments"
   ]
  },
  {
   "cell_type": "code",
   "execution_count": 60,
   "metadata": {},
   "outputs": [
    {
     "name": "stdout",
     "output_type": "stream",
     "text": [
      "DEBUG:root:PID: 3984 0 --> 0\n",
      "DEBUG:root:PID: 3985 10000 --> 100000000\n",
      "DEBUG:root:PID: 3984 30000 --> 900000000\n",
      "DEBUG:root:PID: 3985 40000 --> 1600000000\n",
      "DEBUG:root:PID: 3987 20000 --> 400000000\n",
      "DEBUG:root:PID: 3986 50000 --> 2500000000\n",
      "DEBUG:root:PID: 3987 60000 --> 3600000000\n",
      "DEBUG:root:PID: 3985 70000 --> 4900000000\n",
      "DEBUG:root:PID: 3987 80000 --> 6400000000\n",
      "DEBUG:root:PID: 3986 90000 --> 8100000000\n"
     ]
    }
   ],
   "source": [
    "def double(input, power):\n",
    "    val = input ** power\n",
    "    if input % 10000 == 0:\n",
    "        logger.debug(f'PID: {os.getpid()} {input} --> {val}')\n",
    "        \n",
    "size = 100000\n",
    "numbers = [(x, 2) for x in range(0, size)]\n",
    "with Pool(multiprocessing.cpu_count()) as pool:\n",
    "    pool.starmap(double, numbers)"
   ]
  },
  {
   "cell_type": "markdown",
   "metadata": {},
   "source": [
    "## Apply"
   ]
  },
  {
   "cell_type": "code",
   "execution_count": 83,
   "metadata": {},
   "outputs": [
    {
     "name": "stdout",
     "output_type": "stream",
     "text": [
      "DEBUG:root:PID: 4324 0 900 961 = 0\n",
      "DEBUG:root:PID: 4326 10 900 961 = 0\n",
      "DEBUG:root:PID: 4324 20 900 961 = 0\n",
      "DEBUG:root:PID: 4326 30 900 961 = 0\n",
      "DEBUG:root:PID: 4324 40 900 961 = 0\n",
      "DEBUG:root:PID: 4326 50 900 961 = 0\n",
      "DEBUG:root:PID: 4324 60 900 961 = 0\n",
      "DEBUG:root:PID: 4326 70 900 961 = 0\n",
      "DEBUG:root:PID: 4324 80 900 961 = 0\n",
      "DEBUG:root:PID: 4326 90 900 961 = 0\n",
      "DEBUG:root:PID: 4324 100 900 961 = 0\n",
      "DEBUG:root:PID: 4326 110 900 961 = 0\n",
      "DEBUG:root:PID: 4324 120 900 961 = 0\n",
      "DEBUG:root:PID: 4326 130 900 961 = 0\n",
      "DEBUG:root:PID: 4324 140 900 961 = 0\n",
      "DEBUG:root:PID: 4326 150 900 961 = 0\n",
      "DEBUG:root:PID: 4324 160 900 961 = 0\n",
      "DEBUG:root:PID: 4326 170 900 961 = 0\n",
      "DEBUG:root:PID: 4324 180 900 961 = 0\n",
      "DEBUG:root:PID: 4326 190 900 961 = 0\n",
      "DEBUG:root:PID: 4324 200 900 961 = 0\n",
      "DEBUG:root:PID: 4326 210 900 961 = 0\n",
      "DEBUG:root:PID: 4324 220 900 961 = 0\n",
      "DEBUG:root:PID: 4326 230 900 961 = 0\n",
      "DEBUG:root:PID: 4324 240 900 961 = 0\n",
      "DEBUG:root:PID: 4326 250 900 961 = 0\n",
      "DEBUG:root:PID: 4324 260 900 961 = 0\n",
      "DEBUG:root:PID: 4326 270 900 961 = 0\n",
      "DEBUG:root:PID: 4324 280 900 961 = 0\n",
      "DEBUG:root:PID: 4326 290 900 961 = 0\n",
      "DEBUG:root:PID: 4324 300 900 961 = 0\n",
      "DEBUG:root:PID: 4326 310 900 961 = 0\n",
      "DEBUG:root:PID: 4324 320 900 961 = 0\n",
      "DEBUG:root:PID: 4326 330 900 961 = 0\n",
      "DEBUG:root:PID: 4324 340 900 961 = 0\n",
      "DEBUG:root:PID: 4326 350 900 961 = 0\n",
      "DEBUG:root:PID: 4324 360 900 961 = 0\n",
      "DEBUG:root:PID: 4326 370 900 961 = 0\n",
      "DEBUG:root:PID: 4324 380 900 961 = 0\n",
      "DEBUG:root:PID: 4326 390 900 961 = 0\n",
      "DEBUG:root:PID: 4324 400 900 961 = 0\n",
      "DEBUG:root:PID: 4326 410 900 961 = 0\n",
      "DEBUG:root:PID: 4324 420 900 961 = 0\n",
      "DEBUG:root:PID: 4326 430 900 961 = 0\n",
      "DEBUG:root:PID: 4324 440 900 961 = 0\n",
      "DEBUG:root:PID: 4326 450 900 961 = 0\n",
      "DEBUG:root:PID: 4324 460 900 961 = 0\n",
      "DEBUG:root:PID: 4326 470 900 961 = 0\n",
      "DEBUG:root:PID: 4324 480 900 961 = 0\n",
      "DEBUG:root:PID: 4326 490 900 961 = 0\n",
      "DEBUG:root:PID: 4324 500 900 961 = 0\n",
      "DEBUG:root:PID: 4326 510 900 961 = 0\n",
      "DEBUG:root:PID: 4324 520 900 961 = 0\n",
      "DEBUG:root:PID: 4326 530 900 961 = 0\n",
      "DEBUG:root:PID: 4324 540 900 961 = 0\n",
      "DEBUG:root:PID: 4326 550 900 961 = 0\n",
      "DEBUG:root:PID: 4324 560 900 961 = 0\n",
      "DEBUG:root:PID: 4326 570 900 961 = 0\n",
      "DEBUG:root:PID: 4324 580 900 961 = 0\n",
      "DEBUG:root:PID: 4326 590 900 961 = 0\n",
      "DEBUG:root:PID: 4324 600 900 961 = 0\n",
      "DEBUG:root:PID: 4326 610 900 961 = 0\n",
      "DEBUG:root:PID: 4324 620 900 961 = 0\n",
      "DEBUG:root:PID: 4326 630 900 961 = 0\n",
      "DEBUG:root:PID: 4324 640 900 961 = 0\n",
      "DEBUG:root:PID: 4326 650 900 961 = 0\n",
      "DEBUG:root:PID: 4324 660 900 961 = 0\n",
      "DEBUG:root:PID: 4326 670 900 961 = 0\n",
      "DEBUG:root:PID: 4324 680 900 961 = 0\n",
      "DEBUG:root:PID: 4326 690 900 961 = 0\n",
      "DEBUG:root:PID: 4324 700 900 961 = 0\n",
      "DEBUG:root:PID: 4326 710 900 961 = 0\n",
      "DEBUG:root:PID: 4324 720 900 961 = 0\n",
      "DEBUG:root:PID: 4326 730 900 961 = 0\n",
      "DEBUG:root:PID: 4324 740 900 961 = 0\n",
      "DEBUG:root:PID: 4326 750 900 961 = 0\n",
      "DEBUG:root:PID: 4324 760 900 961 = 0\n",
      "DEBUG:root:PID: 4326 770 900 961 = 0\n",
      "DEBUG:root:PID: 4324 780 900 961 = 0\n",
      "DEBUG:root:PID: 4326 790 900 961 = 0\n",
      "DEBUG:root:PID: 4324 800 900 961 = 0\n",
      "DEBUG:root:PID: 4326 810 900 961 = 0\n",
      "DEBUG:root:PID: 4324 820 900 961 = 0\n",
      "DEBUG:root:PID: 4326 830 900 961 = 0\n",
      "DEBUG:root:PID: 4324 840 900 961 = 0\n",
      "DEBUG:root:PID: 4326 850 900 961 = 0\n",
      "DEBUG:root:PID: 4324 860 900 961 = 0\n",
      "DEBUG:root:PID: 4326 870 900 961 = 0\n",
      "DEBUG:root:PID: 4324 880 900 961 = 0\n",
      "DEBUG:root:PID: 4326 890 900 961 = 0\n",
      "DEBUG:root:PID: 4324 900 900 961 = 0\n",
      "DEBUG:root:PID: 4326 910 900 961 = 9045\n",
      "DEBUG:root:PID: 4324 920 900 961 = 18190\n",
      "DEBUG:root:PID: 4326 930 900 961 = 27435\n",
      "DEBUG:root:PID: 4324 940 900 961 = 36780\n",
      "DEBUG:root:PID: 4326 950 900 961 = 46225\n",
      "DEBUG:root:PID: 4324 960 900 961 = 55770\n",
      "DEBUG:root:PID: 4326 970 900 961 = 57691\n",
      "DEBUG:root:PID: 4324 980 900 961 = 57691\n",
      "DEBUG:root:PID: 4326 990 900 961 = 57691\n"
     ]
    }
   ],
   "source": [
    "def sum_between(numbers, start, end):\n",
    "    total = sum([i for i in range(numbers) if i >= start and i <= end])\n",
    "    if numbers % 10 == 0:\n",
    "        logger.debug(f'PID: {os.getpid()} {numbers} {start} {end} = {total}')\n",
    "    return total\n",
    "\n",
    "\n",
    "size = 1000\n",
    "with Pool(multiprocessing.cpu_count()) as pool:\n",
    "    start = random.randint(1, size)\n",
    "    end   = random.randint(start, size)\n",
    "    results = [pool.apply(sum_between, args=(x, start, end)) for x in range(size)]"
   ]
  },
  {
   "cell_type": "markdown",
   "metadata": {},
   "source": [
    "# Asynchronous Map & Apply\n",
    "* We can run map, imap, starmap and apply asynchonrously\n",
    "* We can send jobs without locking\n",
    "* The results can come back out of order, but the work may complete faster"
   ]
  },
  {
   "cell_type": "markdown",
   "metadata": {},
   "source": [
    "## Map_async\n",
    "* Note:  imap_async is not an available implementation"
   ]
  },
  {
   "cell_type": "code",
   "execution_count": 105,
   "metadata": {},
   "outputs": [
    {
     "name": "stdout",
     "output_type": "stream",
     "text": [
      "DEBUG:root:PID: 4423 0 --> 0\n",
      "DEBUG:root:PID: 4424 10000 --> 100000000\n",
      "DEBUG:root:PID: 4425 30000 --> 900000000\n",
      "DEBUG:root:PID: 4426 20000 --> 400000000\n",
      "DEBUG:root:PID: 4423 40000 --> 1600000000\n",
      "DEBUG:root:PID: 4424 50000 --> 2500000000\n",
      "DEBUG:root:PID: 4425 60000 --> 3600000000\n",
      "DEBUG:root:PID: 4423 70000 --> 4900000000\n",
      "DEBUG:root:PID: 4426 90000 --> 8100000000\n",
      "DEBUG:root:PID: 4425 80000 --> 6400000000\n"
     ]
    }
   ],
   "source": [
    "def double(input):\n",
    "    val = input ** 2\n",
    "    if input % 10000 == 0:\n",
    "        logger.debug(f'PID: {os.getpid()} {input} --> {val}')\n",
    "        \n",
    "numbers = [x for x in range(0, 100000)]\n",
    "with Pool(multiprocessing.cpu_count()) as pool:\n",
    "    pool.map_async(double, numbers)\n",
    "    pool.close()\n",
    "    pool.join()"
   ]
  },
  {
   "cell_type": "markdown",
   "metadata": {},
   "source": [
    "## Starmap"
   ]
  },
  {
   "cell_type": "code",
   "execution_count": 107,
   "metadata": {},
   "outputs": [
    {
     "name": "stdout",
     "output_type": "stream",
     "text": [
      "DEBUG:root:PID: 4457 0 --> 0\n",
      "DEBUG:root:PID: 4457 40000 --> 1600000000\n",
      "DEBUG:root:PID: 4457 50000 --> 2500000000\n",
      "DEBUG:root:PID: 4457 60000 --> 3600000000\n",
      "DEBUG:root:PID: 4457 70000 --> 4900000000\n",
      "DEBUG:root:PID: 4457 80000 --> 6400000000\n",
      "DEBUG:root:PID: 4460 20000 --> 400000000\n",
      "DEBUG:root:PID: 4458 10000 --> 100000000\n",
      "DEBUG:root:PID: 4459 30000 --> 900000000\n",
      "DEBUG:root:PID: 4459 90000 --> 8100000000\n"
     ]
    }
   ],
   "source": [
    "def double(input, power):\n",
    "    val = input ** power\n",
    "    if input % 10000 == 0:\n",
    "        logger.debug(f'PID: {os.getpid()} {input} --> {val}')\n",
    "        \n",
    "size = 100000\n",
    "numbers = [(x, 2) for x in range(0, size)]\n",
    "with Pool(multiprocessing.cpu_count()) as pool:\n",
    "    pool.starmap(double, numbers)\n",
    "    pool.close()\n",
    "    pool.join()"
   ]
  },
  {
   "cell_type": "markdown",
   "metadata": {},
   "source": [
    "## Apply_async\n",
    "* We call sum_between function and wait for the results to be handled in our gather callback\n",
    "* Note, because we're running asynchronously, we need to wait for the processes in the pool to complete\n",
    "* If we allow the context manager to exit, it's possible it will leave without some of the work having finished"
   ]
  },
  {
   "cell_type": "code",
   "execution_count": 37,
   "metadata": {},
   "outputs": [
    {
     "name": "stdout",
     "output_type": "stream",
     "text": [
      "DEBUG:root:PID: 5937 0 288 475 = 0\n",
      "DEBUG:root:PID: 5939 100 288 475 = 0\n",
      "DEBUG:root:PID: 5938 10 288 475 = 0\n",
      "DEBUG:root:PID: 5938 20 288 475 = 0\n",
      "DEBUG:root:PID: 5939 30 288 475 = 0\n",
      "DEBUG:root:PID: 5939 50 288 475 = 0\n",
      "DEBUG:root:PID: 5940 40 288 475 = 0\n",
      "DEBUG:root:PID: 5938 60 288 475 = 0\n",
      "DEBUG:root:PID: 5939 70 288 475 = 0\n",
      "DEBUG:root:PID: 5940 80 288 475 = 0\n",
      "DEBUG:root:PID: 5938 90 288 475 = 0\n",
      "DEBUG:root:PID: 5940 110 288 475 = 0\n",
      "DEBUG:root:PID: 5939 120 288 475 = 0\n",
      "DEBUG:root:PID: 5939 130 288 475 = 0\n",
      "DEBUG:root:PID: 5937 140 288 475 = 0\n",
      "DEBUG:root:PID: 5939 150 288 475 = 0\n",
      "DEBUG:root:PID: 5939 160 288 475 = 0\n",
      "DEBUG:root:PID: 5937 170 288 475 = 0\n",
      "DEBUG:root:PID: 5939 180 288 475 = 0\n",
      "DEBUG:root:PID: 5938 190 288 475 = 0\n",
      "DEBUG:root:PID: 5940 200 288 475 = 0\n",
      "DEBUG:root:PID: 5939 220 288 475 = 0\n",
      "DEBUG:root:PID: 5939 230 288 475 = 0\n",
      "DEBUG:root:PID: 5938 210 288 475 = 0\n",
      "DEBUG:root:PID: 5940 240 288 475 = 0\n",
      "DEBUG:root:PID: 5940 260 288 475 = 0\n",
      "DEBUG:root:PID: 5939 270 288 475 = 0\n",
      "DEBUG:root:PID: 5937 250 288 475 = 0\n",
      "DEBUG:root:PID: 5939 280 288 475 = 0\n",
      "DEBUG:root:PID: 5940 290 288 475 = 577\n",
      "DEBUG:root:PID: 5938 310 288 475 = 6567\n",
      "DEBUG:root:PID: 5939 320 288 475 = 9712\n",
      "DEBUG:root:PID: 5937 300 288 475 = 3522\n",
      "DEBUG:root:PID: 5938 330 288 475 = 12957\n",
      "DEBUG:root:PID: 5940 340 288 475 = 16302\n",
      "DEBUG:root:PID: 5938 350 288 475 = 19747\n",
      "DEBUG:root:PID: 5939 370 288 475 = 26937\n",
      "DEBUG:root:PID: 5940 360 288 475 = 23292\n",
      "DEBUG:root:PID: 5939 380 288 475 = 30682\n",
      "DEBUG:root:PID: 5937 390 288 475 = 34527\n",
      "DEBUG:root:PID: 5938 400 288 475 = 38472\n",
      "DEBUG:root:PID: 5937 410 288 475 = 42517\n",
      "DEBUG:root:PID: 5939 430 288 475 = 50907\n",
      "DEBUG:root:PID: 5938 420 288 475 = 46662\n",
      "DEBUG:root:PID: 5937 440 288 475 = 55252\n",
      "DEBUG:root:PID: 5940 450 288 475 = 59697\n",
      "DEBUG:root:PID: 5939 460 288 475 = 64242\n",
      "DEBUG:root:PID: 5939 470 288 475 = 68887\n",
      "DEBUG:root:PID: 5939 480 288 475 = 71722\n",
      "DEBUG:root:PID: 5940 490 288 475 = 71722\n",
      "DEBUG:root:PID: 5937 500 288 475 = 71722\n",
      "DEBUG:root:PID: 5940 510 288 475 = 71722\n",
      "DEBUG:root:PID: 5938 520 288 475 = 71722\n",
      "DEBUG:root:PID: 5940 530 288 475 = 71722\n",
      "DEBUG:root:PID: 5937 540 288 475 = 71722\n",
      "DEBUG:root:PID: 5938 550 288 475 = 71722\n",
      "DEBUG:root:PID: 5940 560 288 475 = 71722\n",
      "DEBUG:root:PID: 5937 570 288 475 = 71722\n",
      "DEBUG:root:PID: 5937 580 288 475 = 71722\n",
      "DEBUG:root:PID: 5937 600 288 475 = 71722\n",
      "DEBUG:root:PID: 5940 590 288 475 = 71722\n",
      "DEBUG:root:PID: 5940 610 288 475 = 71722\n",
      "DEBUG:root:PID: 5938 620 288 475 = 71722\n",
      "DEBUG:root:PID: 5938 630 288 475 = 71722\n",
      "DEBUG:root:PID: 5940 640 288 475 = 71722\n",
      "DEBUG:root:PID: 5938 650 288 475 = 71722\n",
      "DEBUG:root:PID: 5937 660 288 475 = 71722\n",
      "DEBUG:root:PID: 5937 670 288 475 = 71722\n",
      "DEBUG:root:PID: 5940 680 288 475 = 71722\n",
      "DEBUG:root:PID: 5937 690 288 475 = 71722\n",
      "DEBUG:root:PID: 5937 700 288 475 = 71722\n",
      "DEBUG:root:PID: 5940 710 288 475 = 71722\n",
      "DEBUG:root:PID: 5938 720 288 475 = 71722\n",
      "DEBUG:root:PID: 5940 730 288 475 = 71722\n",
      "DEBUG:root:PID: 5938 740 288 475 = 71722\n",
      "DEBUG:root:PID: 5938 750 288 475 = 71722\n",
      "DEBUG:root:PID: 5937 760 288 475 = 71722\n",
      "DEBUG:root:PID: 5940 770 288 475 = 71722\n",
      "DEBUG:root:PID: 5937 780 288 475 = 71722\n",
      "DEBUG:root:PID: 5938 790 288 475 = 71722\n",
      "DEBUG:root:PID: 5940 800 288 475 = 71722\n",
      "DEBUG:root:PID: 5938 810 288 475 = 71722\n",
      "DEBUG:root:PID: 5940 820 288 475 = 71722\n",
      "DEBUG:root:PID: 5937 830 288 475 = 71722\n",
      "DEBUG:root:PID: 5940 840 288 475 = 71722\n",
      "DEBUG:root:PID: 5938 850 288 475 = 71722\n",
      "DEBUG:root:PID: 5940 860 288 475 = 71722\n",
      "DEBUG:root:PID: 5938 870 288 475 = 71722\n",
      "DEBUG:root:PID: 5937 880 288 475 = 71722\n",
      "DEBUG:root:PID: 5938 890 288 475 = 71722\n",
      "DEBUG:root:PID: 5940 900 288 475 = 71722\n",
      "DEBUG:root:PID: 5938 910 288 475 = 71722\n",
      "DEBUG:root:PID: 5937 920 288 475 = 71722\n",
      "DEBUG:root:PID: 5940 930 288 475 = 71722\n",
      "DEBUG:root:PID: 5937 940 288 475 = 71722\n",
      "DEBUG:root:PID: 5940 950 288 475 = 71722\n",
      "DEBUG:root:PID: 5937 960 288 475 = 71722\n",
      "DEBUG:root:PID: 5940 970 288 475 = 71722\n",
      "DEBUG:root:PID: 5939 980 288 475 = 71722\n",
      "DEBUG:root:PID: 5939 990 288 475 = 71722\n"
     ]
    }
   ],
   "source": [
    "def sum_between(numbers, start, end):\n",
    "    total = sum([i for i in range(numbers) if i >= start and i <= end])\n",
    "    if numbers % 10 == 0:\n",
    "        logger.debug(f'PID: {os.getpid()} {numbers} {start} {end} = {total}')\n",
    "    return total\n",
    "\n",
    "results = []\n",
    "def gather(result):\n",
    "    results.append(result)\n",
    "    \n",
    "with Pool(multiprocessing.cpu_count()) as pool:\n",
    "    size = 1000\n",
    "    start = random.randint(1, size)\n",
    "    end   = random.randint(start, size)\n",
    "    for x in range(size): pool.apply_async(sum_between, args=(x, start, end), callback=gather)\n",
    "    pool.close()\n",
    "    pool.join()"
   ]
  },
  {
   "cell_type": "markdown",
   "metadata": {},
   "source": [
    "# Synchronizing Access"
   ]
  },
  {
   "cell_type": "markdown",
   "metadata": {},
   "source": [
    "## Barrier\n",
    "* We create 3 processes that need to wait for all three to complete\n",
    "* When the third reaches the barrier, we continue"
   ]
  },
  {
   "cell_type": "code",
   "execution_count": 36,
   "metadata": {},
   "outputs": [
    {
     "name": "stdout",
     "output_type": "stream",
     "text": [
      "DEBUG:root:MAIN - Starting Worker\n",
      "DEBUG:root:PID: 5934 - Waiting\n",
      "DEBUG:root:MAIN - Starting Worker\n",
      "DEBUG:root:PID: 5935 - Waiting\n",
      "DEBUG:root:MAIN - Starting Worker\n",
      "DEBUG:root:PID: 5936 - Waiting\n",
      "DEBUG:root:PID: 5934 - Continuing\n",
      "DEBUG:root:PID: 5935 - Continuing\n",
      "DEBUG:root:PID: 5936 - Continuing\n",
      "DEBUG:root:MAIN - Closing Worker\n",
      "DEBUG:root:MAIN - Closing Worker\n",
      "DEBUG:root:MAIN - Closing Worker\n"
     ]
    }
   ],
   "source": [
    "barrier = Barrier(3)\n",
    "\n",
    "def work():\n",
    "    pid = os.getpid()\n",
    "    logger.debug(f'PID: {pid} - Waiting')\n",
    "    barrier.wait()\n",
    "    logger.debug(f'PID: {pid} - Continuing')\n",
    "  \n",
    "def startup(p):\n",
    "    logger.debug(f'MAIN - Starting Worker')\n",
    "    p.start()\n",
    "    time.sleep(2)\n",
    "    \n",
    "def cleanup(p):\n",
    "    logger.debug(f'MAIN - Closing Worker')\n",
    "    p.join()\n",
    "\n",
    "processes = [Process(target=work, args=()) for p in range(3)]\n",
    "for p in processes: startup(p) \n",
    "for p in processes: cleanup(p)"
   ]
  },
  {
   "cell_type": "markdown",
   "metadata": {},
   "source": [
    "# Managers\n",
    "* A manager allows the coordinates state across processes\n",
    "* In this example we have a tracking dict\n",
    "* We would like each process to update the job / pid to tracking"
   ]
  },
  {
   "cell_type": "code",
   "execution_count": 15,
   "metadata": {},
   "outputs": [],
   "source": [
    "manager = multiprocessing.Manager()\n",
    "shared = manager.Namespace()\n",
    "shared.tracker = manager.dict()"
   ]
  },
  {
   "cell_type": "code",
   "execution_count": 17,
   "metadata": {},
   "outputs": [
    {
     "name": "stdout",
     "output_type": "stream",
     "text": [
      "Job Worked By: {}\n",
      "Job Worked By: {0: 5085, 1: 5086, 2: 5087, 3: 5088, 4: 5089}\n"
     ]
    }
   ],
   "source": [
    "def work(job_number, state):\n",
    "    pid = os.getpid()\n",
    "    state.tracker[job_number] = pid\n",
    "\n",
    "jobs = [Process(target=work, args=(i, shared)) for i in range(5)]\n",
    "\n",
    "print(f'Job Worked By: {shared.tracker}')\n",
    "\n",
    "for job in jobs:\n",
    "    job.start()\n",
    "    \n",
    "for job in jobs:\n",
    "    job.join()\n",
    "\n",
    "print(f'Job Worked By: {shared.tracker}')"
   ]
  }
 ],
 "metadata": {
  "kernelspec": {
   "display_name": "Python 3",
   "language": "python",
   "name": "python3"
  },
  "language_info": {
   "codemirror_mode": {
    "name": "ipython",
    "version": 3
   },
   "file_extension": ".py",
   "mimetype": "text/x-python",
   "name": "python",
   "nbconvert_exporter": "python",
   "pygments_lexer": "ipython3",
   "version": "3.7.6"
  }
 },
 "nbformat": 4,
 "nbformat_minor": 4
}
