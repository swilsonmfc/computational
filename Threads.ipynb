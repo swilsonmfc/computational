{
 "cells": [
  {
   "cell_type": "markdown",
   "metadata": {},
   "source": [
    "# Threading\n",
    "* Simple notebook to illustrate several mechanics of threads in python\n",
    "* A thread is an execution path within a process. "
   ]
  },
  {
   "cell_type": "markdown",
   "metadata": {},
   "source": [
    "# Setup"
   ]
  },
  {
   "cell_type": "code",
   "execution_count": 1,
   "metadata": {},
   "outputs": [],
   "source": [
    "import threading\n",
    "import time\n",
    "\n",
    "from threading import Thread\n",
    "from threading import Lock\n",
    "from threading import Barrier\n",
    "from threading import Semaphore\n",
    "\n",
    "from queue import Queue\n",
    "\n",
    "from concurrent.futures import ThreadPoolExecutor"
   ]
  },
  {
   "cell_type": "markdown",
   "metadata": {},
   "source": [
    "# Logging\n",
    "* Using a logger in this notebook because stdout will get mangled as multiple threads write to it"
   ]
  },
  {
   "cell_type": "code",
   "execution_count": 2,
   "metadata": {},
   "outputs": [
    {
     "name": "stdout",
     "output_type": "stream",
     "text": [
      "DEBUG:root:Hello\n"
     ]
    }
   ],
   "source": [
    "import logging\n",
    "import sys\n",
    "logging.basicConfig(stream=sys.stdout, level=logging.DEBUG)\n",
    "logger = logging.getLogger()\n",
    "#logger.setLevel(logging.DEBUG)\n",
    "logger.debug('Hello')"
   ]
  },
  {
   "cell_type": "markdown",
   "metadata": {},
   "source": [
    "# Current Thread\n",
    "* We can get a reference to the running thread and report it's name"
   ]
  },
  {
   "cell_type": "code",
   "execution_count": 3,
   "metadata": {},
   "outputs": [
    {
     "name": "stdout",
     "output_type": "stream",
     "text": [
      "MainThread\n"
     ]
    }
   ],
   "source": [
    "print(threading.current_thread().name)"
   ]
  },
  {
   "cell_type": "markdown",
   "metadata": {},
   "source": [
    "# Thread Count"
   ]
  },
  {
   "cell_type": "code",
   "execution_count": 4,
   "metadata": {
    "scrolled": true
   },
   "outputs": [
    {
     "name": "stdout",
     "output_type": "stream",
     "text": [
      "5\n"
     ]
    }
   ],
   "source": [
    "print(threading.active_count())"
   ]
  },
  {
   "cell_type": "markdown",
   "metadata": {},
   "source": [
    "# Enumerating Active Threads"
   ]
  },
  {
   "cell_type": "code",
   "execution_count": 5,
   "metadata": {},
   "outputs": [
    {
     "name": "stdout",
     "output_type": "stream",
     "text": [
      "Thread: MainThread Id: 140735275814912 Alive: True\n",
      "Thread: Thread-2 Id: 123145308631040 Alive: True\n",
      "Thread: Thread-3 Id: 123145313886208 Alive: True\n",
      "Thread: IPythonHistorySavingThread Id: 123145320214528 Alive: True\n",
      "Thread: Thread-1 Id: 123145325469696 Alive: True\n"
     ]
    }
   ],
   "source": [
    "for thread in threading.enumerate():\n",
    "    print(f'Thread: {thread.name} Id: {thread.ident} Alive: {thread.is_alive()}')"
   ]
  },
  {
   "cell_type": "markdown",
   "metadata": {},
   "source": [
    "# Thread Class\n",
    "* We override a thread class\n",
    "* We must provide a run method\n",
    "* The run method is called when our thread is started"
   ]
  },
  {
   "cell_type": "code",
   "execution_count": 6,
   "metadata": {},
   "outputs": [
    {
     "name": "stdout",
     "output_type": "stream",
     "text": [
      "DEBUG:root:Starting Thread\n",
      "DEBUG:root:  Running Thread 1\n",
      "DEBUG:root:Joining Thread\n",
      "DEBUG:root:Main completed\n"
     ]
    }
   ],
   "source": [
    "class MyThread(Thread):\n",
    "    def __init__(self, id): \n",
    "        self.id = id\n",
    "        threading.Thread.__init__(self)\n",
    "        \n",
    "    def run(self): \n",
    "        logger.debug(f'  Running Thread {self.id}')\n",
    "        \n",
    "# We have create a thread object\n",
    "# It doesn't do anything until we tell it to start\n",
    "thread1 = MyThread(1)\n",
    "\n",
    "# We start the thread\n",
    "logger.debug('Starting Thread')\n",
    "thread1.start()\n",
    "\n",
    "# Our main loop will wait here to join the \n",
    "# worker thread when it completes and exits\n",
    "logger.debug('Joining Thread')\n",
    "thread1.join()\n",
    "\n",
    "logger.debug('Main completed')"
   ]
  },
  {
   "cell_type": "markdown",
   "metadata": {},
   "source": [
    "# Threads & Functions\n",
    "* In addition to subclassing thread we can create a thread to execute an arbitrary function"
   ]
  },
  {
   "cell_type": "code",
   "execution_count": 7,
   "metadata": {},
   "outputs": [],
   "source": [
    "def work(thread_name, seconds=5):\n",
    "    logging.debug(f'  Thread {thread_name} is working for {seconds} seconds.')\n",
    "    time.sleep(seconds)\n",
    "    logging.debug(f'  Thread {thread_name} is complete.')"
   ]
  },
  {
   "cell_type": "markdown",
   "metadata": {},
   "source": [
    "## Creating & Joining a Thread"
   ]
  },
  {
   "cell_type": "code",
   "execution_count": 8,
   "metadata": {},
   "outputs": [
    {
     "name": "stdout",
     "output_type": "stream",
     "text": [
      "DEBUG:root:Main creating thread\n",
      "DEBUG:root:Starting thread\n",
      "DEBUG:root:  Thread 1 is working for 10 seconds.\n",
      "DEBUG:root:Waiting to complete\n",
      "DEBUG:root:  Thread 1 is complete.\n",
      "DEBUG:root:Main finished\n"
     ]
    }
   ],
   "source": [
    "# We have create a thread object\n",
    "# It doesn't do anything until we tell it to start\n",
    "logger.debug('Main creating thread')\n",
    "t = threading.Thread(target=work, args=(1,10))\n",
    "\n",
    "# We start the thread\n",
    "logger.debug('Starting thread')\n",
    "t.start()\n",
    "\n",
    "# Our main loop will wait here to join the \n",
    "# worker thread when it completes and exits\n",
    "logger.debug('Waiting to complete')\n",
    "t.join()\n",
    "\n",
    "logger.debug('Main finished')"
   ]
  },
  {
   "cell_type": "markdown",
   "metadata": {},
   "source": [
    "## Creating Multiple Worker Threads"
   ]
  },
  {
   "cell_type": "code",
   "execution_count": 9,
   "metadata": {},
   "outputs": [
    {
     "name": "stdout",
     "output_type": "stream",
     "text": [
      "DEBUG:root:Main creating threads\n",
      "DEBUG:root:Starting all threads\n",
      "DEBUG:root:  Thread 0 is working for 10 seconds.\n",
      "DEBUG:root:  Thread 1 is working for 10 seconds.\n",
      "DEBUG:root:  Thread 2 is working for 10 seconds.\n",
      "DEBUG:root:  Thread 3 is working for 10 seconds.\n",
      "DEBUG:root:  Thread 4 is working for 10 seconds.\n",
      "DEBUG:root:  Thread 5 is working for 10 seconds.\n",
      "DEBUG:root:  Thread 6 is working for 10 seconds.\n",
      "DEBUG:root:  Thread 7 is working for 10 seconds.\n",
      "DEBUG:root:  Thread 8 is working for 10 seconds.\n",
      "DEBUG:root:  Thread 9 is working for 10 seconds.\n",
      "DEBUG:root:Waiting for all threads to complete\n",
      "DEBUG:root:  Thread 0 is complete.\n",
      "DEBUG:root:  Thread 1 is complete.\n",
      "DEBUG:root:  Thread 2 is complete.\n",
      "DEBUG:root:  Thread 3 is complete.\n",
      "DEBUG:root:  Thread 4 is complete.\n",
      "DEBUG:root:  Thread 5 is complete.\n",
      "DEBUG:root:  Thread 6 is complete.\n",
      "DEBUG:root:  Thread 7 is complete.\n",
      "DEBUG:root:  Thread 8 is complete.\n",
      "DEBUG:root:  Thread 9 is complete.\n",
      "DEBUG:root:Main finished\n"
     ]
    }
   ],
   "source": [
    "# We create multiple threads\n",
    "logger.debug('Main creating threads')\n",
    "threads = [Thread(target=work, args=(x, 10)) for x in range(10)]\n",
    "\n",
    "# We start all the threads\n",
    "logger.debug('Starting all threads')\n",
    "[t.start() for t in threads]\n",
    "\n",
    "# We join the completed threads\n",
    "logger.debug('Waiting for all threads to complete')\n",
    "[t.join() for t in threads]\n",
    "\n",
    "logger.debug('Main finished')"
   ]
  },
  {
   "cell_type": "markdown",
   "metadata": {},
   "source": [
    "# Using a Thread Pool\n",
    "* This is a safe and convenieny way to launch threads\n",
    "* Because we create the pool in a with block, it will join all threads on exit"
   ]
  },
  {
   "cell_type": "code",
   "execution_count": 10,
   "metadata": {},
   "outputs": [
    {
     "name": "stdout",
     "output_type": "stream",
     "text": [
      "DEBUG:root:Starting Pool\n",
      "DEBUG:root:  Thread 0 is working for 5 seconds.\n",
      "DEBUG:root:  Thread 1 is working for 5 seconds.\n",
      "DEBUG:root:  Thread 2 is working for 5 seconds.\n",
      "DEBUG:root:  Thread 3 is working for 5 seconds.\n",
      "DEBUG:root:  Thread 4 is working for 5 seconds.\n",
      "DEBUG:root:  Thread 0 is complete.\n",
      "DEBUG:root:  Thread 1 is complete.\n",
      "DEBUG:root:  Thread 2 is complete.\n",
      "DEBUG:root:  Thread 3 is complete.\n",
      "DEBUG:root:  Thread 4 is complete.\n",
      "DEBUG:root:Finishing Pool\n"
     ]
    }
   ],
   "source": [
    "workers=5\n",
    "seconds=10\n",
    "\n",
    "logger.debug('Starting Pool')\n",
    "with ThreadPoolExecutor(max_workers=workers) as pool:\n",
    "    pool.map(work, range(workers))\n",
    "logger.debug('Finishing Pool')"
   ]
  },
  {
   "cell_type": "markdown",
   "metadata": {},
   "source": [
    "## Passing Multiple Values to Work\n",
    "* Our work function takes both the thread name (number) & seconds of work\n",
    "* Use a lambda to wrap the function & unpack our arguments"
   ]
  },
  {
   "cell_type": "code",
   "execution_count": 11,
   "metadata": {},
   "outputs": [
    {
     "name": "stdout",
     "output_type": "stream",
     "text": [
      "DEBUG:root:Starting Pool\n",
      "DEBUG:root:  Thread 0 is working for 10 seconds.\n",
      "DEBUG:root:  Thread 1 is working for 10 seconds.\n",
      "DEBUG:root:  Thread 2 is working for 10 seconds.\n",
      "DEBUG:root:  Thread 3 is working for 10 seconds.\n",
      "DEBUG:root:  Thread 4 is working for 10 seconds.\n",
      "DEBUG:root:  Thread 0 is complete.\n",
      "DEBUG:root:  Thread 1 is complete.\n",
      "DEBUG:root:  Thread 2 is complete.\n",
      "DEBUG:root:  Thread 4 is complete.\n",
      "DEBUG:root:  Thread 3 is complete.\n",
      "DEBUG:root:Finishing Pool\n"
     ]
    }
   ],
   "source": [
    "workers=5\n",
    "seconds=10\n",
    "\n",
    "logger.debug('Starting Pool')\n",
    "with ThreadPoolExecutor(max_workers=workers) as pool:\n",
    "    args = ((i, seconds) for i in range(workers))\n",
    "    pool.map(lambda p: work(*p), args)\n",
    "logger.debug('Finishing Pool')"
   ]
  },
  {
   "cell_type": "markdown",
   "metadata": {},
   "source": [
    "# Threads & Shared State\n",
    "* In this simple example:\n",
    "    * We have some shared state in a class\n",
    "    * We create three threads \n",
    "    * Each thread reads the current value, performs work and reads the current value\n",
    "    * Finally it updates the current value\n",
    "* We do not expect a consistency problem in the shared state, meaning:\n",
    "    * When we expect the value before starting work and after working to be the same"
   ]
  },
  {
   "cell_type": "code",
   "execution_count": 12,
   "metadata": {},
   "outputs": [
    {
     "name": "stdout",
     "output_type": "stream",
     "text": [
      "DEBUG:root:Starting Pool\n",
      "DEBUG:root:  Thread 0 : Starting 0 Ending 0 ... Valid True\n",
      "DEBUG:root:  Thread 4 : Starting 0 Ending 0 ... Valid True\n",
      "DEBUG:root:  Thread 2 : Starting 0 Ending 0 ... Valid True\n",
      "DEBUG:root:  Thread 3 : Starting 0 Ending 1 ... Valid False\n",
      "DEBUG:root:  Thread 1 : Starting 0 Ending 1 ... Valid False\n",
      "DEBUG:root:Finishing Pool\n"
     ]
    }
   ],
   "source": [
    "class Shared:\n",
    "    def __init__(self):\n",
    "        self.shared = 0\n",
    "    \n",
    "    def get(self):\n",
    "        return self.shared\n",
    "    \n",
    "    def increment(self):\n",
    "        self.shared += 1\n",
    "        \n",
    "shared = Shared()\n",
    "\n",
    "def update(thread_name, seconds=1):\n",
    "    start = shared.get()\n",
    "    time.sleep(seconds)\n",
    "    end = shared.get()\n",
    "    valid = True if start == end else False\n",
    "    logging.debug(f'  Thread {thread_name} : Starting {start} Ending {end} ... Valid {valid}' )\n",
    "    shared.increment()\n",
    "    \n",
    "workers = 5\n",
    "logger.debug('Starting Pool')\n",
    "with ThreadPoolExecutor(max_workers=workers) as pool:\n",
    "    pool.map(update, range(workers))\n",
    "logger.debug('Finishing Pool')"
   ]
  },
  {
   "cell_type": "markdown",
   "metadata": {},
   "source": [
    "## Synchronizing Access\n",
    "* We fix our shared state class using a Lock\n",
    "* Requires the coordination of our threads to:\n",
    "    * Obtain the lock\n",
    "    * Perform work with the shared state\n",
    "    * Release the lock\n",
    "* We'll use a with block to avoid having to explicitly obtain and release"
   ]
  },
  {
   "cell_type": "code",
   "execution_count": 13,
   "metadata": {},
   "outputs": [
    {
     "name": "stdout",
     "output_type": "stream",
     "text": [
      "DEBUG:root:Starting Pool\n",
      "DEBUG:root:  Thread 0 : Trying to obtain lock\n",
      "DEBUG:root:  Thread 1 : Trying to obtain lock\n",
      "DEBUG:root:  Thread 0 : Obtained lock\n",
      "DEBUG:root:  Thread 2 : Trying to obtain lock\n",
      "DEBUG:root:  Thread 3 : Trying to obtain lock\n",
      "DEBUG:root:  Thread 4 : Trying to obtain lock\n",
      "DEBUG:root:  Thread 0 : Starting 0 Ending 0 Valid True\n",
      "DEBUG:root:  Thread 0 : Releasing lock\n",
      "DEBUG:root:  Thread 1 : Obtained lock\n",
      "DEBUG:root:  Thread 1 : Starting 1 Ending 1 Valid True\n",
      "DEBUG:root:  Thread 1 : Releasing lock\n",
      "DEBUG:root:  Thread 2 : Obtained lock\n",
      "DEBUG:root:  Thread 2 : Starting 2 Ending 2 Valid True\n",
      "DEBUG:root:  Thread 2 : Releasing lock\n",
      "DEBUG:root:  Thread 3 : Obtained lock\n",
      "DEBUG:root:  Thread 3 : Starting 3 Ending 3 Valid True\n",
      "DEBUG:root:  Thread 3 : Releasing lock\n",
      "DEBUG:root:  Thread 4 : Obtained lock\n",
      "DEBUG:root:  Thread 4 : Starting 4 Ending 4 Valid True\n",
      "DEBUG:root:  Thread 4 : Releasing lock\n",
      "DEBUG:root:Finishing Pool\n"
     ]
    }
   ],
   "source": [
    "class Shared:\n",
    "    def __init__(self):\n",
    "        self.shared = 0\n",
    "        self.lock = Lock()\n",
    "    \n",
    "    def get(self):\n",
    "        return self.shared\n",
    "    \n",
    "    def increment(self):\n",
    "        self.shared += 1\n",
    "        \n",
    "shared = Shared()\n",
    "\n",
    "def update(thread_name, seconds=1):\n",
    "    logging.debug(f'  Thread {thread_name} : Trying to obtain lock')\n",
    "    with shared.lock:\n",
    "        logging.debug(f'  Thread {thread_name} : Obtained lock')\n",
    "        start = shared.get()\n",
    "        time.sleep(seconds)\n",
    "        end = shared.get()\n",
    "        valid = True if start == end else False\n",
    "        logging.debug(f'  Thread {thread_name} : Starting {start} Ending {end} Valid {valid}' )\n",
    "        shared.increment()\n",
    "        logging.debug(f'  Thread {thread_name} : Releasing lock')\n",
    "    \n",
    "workers = 5\n",
    "logger.debug('Starting Pool')\n",
    "with ThreadPoolExecutor(max_workers=workers) as pool:\n",
    "    pool.map(update, range(workers))\n",
    "logger.debug('Finishing Pool')"
   ]
  },
  {
   "cell_type": "markdown",
   "metadata": {},
   "source": [
    "# Barrier\n",
    "* A barrier blocks until the number of desired threads wait (or timeout)\n",
    "* Useful in compiling results on multiple threads"
   ]
  },
  {
   "cell_type": "code",
   "execution_count": 15,
   "metadata": {},
   "outputs": [
    {
     "name": "stdout",
     "output_type": "stream",
     "text": [
      "DEBUG:root:Main creating threads\n",
      "DEBUG:root:Starting all threads\n",
      "DEBUG:root:  Running Thread 0\n",
      "DEBUG:root:  Running Thread 1\n",
      "DEBUG:root:  Running Thread 2\n",
      "DEBUG:root:Main Waiting for barrier to be reached\n",
      "DEBUG:root:  Work Completed 0\n",
      "DEBUG:root:  Work Completed 1\n",
      "DEBUG:root:  Work Completed 2\n",
      "DEBUG:root:Main Barrier reached\n",
      "DEBUG:root:Joining all threads\n"
     ]
    }
   ],
   "source": [
    "workers = 3\n",
    "barrier = Barrier(workers + 1)\n",
    "\n",
    "class MyThread(threading.Thread):\n",
    "    def __init__(self, id): \n",
    "        self.id = id\n",
    "        Thread.__init__(self)\n",
    "        \n",
    "    def run(self): \n",
    "        logger.debug(f'  Running Thread {self.id}')\n",
    "        time.sleep(5)\n",
    "        logger.debug(f'  Work Completed {self.id}')\n",
    "        barrier.wait()\n",
    "        \n",
    "# We create multiple threads\n",
    "logger.debug('Main creating threads')\n",
    "threads = [MyThread(x) for x in range(workers)]\n",
    "\n",
    "# We start all the threads\n",
    "logger.debug('Starting all threads')\n",
    "[t.start() for t in threads]\n",
    "\n",
    "# Wait for the barrier to be reached\n",
    "logger.debug('Main Waiting for barrier to be reached')\n",
    "barrier.wait()\n",
    "logger.debug('Main Barrier reached')\n",
    "\n",
    "# We join the completed threads\n",
    "logger.debug('Joining all threads')\n",
    "[t.join() for t in threads];"
   ]
  },
  {
   "cell_type": "markdown",
   "metadata": {},
   "source": [
    "# Semaphore\n",
    "* A semaphore is often used to guard scarce resources"
   ]
  },
  {
   "cell_type": "code",
   "execution_count": 16,
   "metadata": {},
   "outputs": [
    {
     "name": "stdout",
     "output_type": "stream",
     "text": [
      "DEBUG:root:Starting Pool\n",
      "DEBUG:root:  Thread 0 is attempting to acquire resource.\n",
      "DEBUG:root:  Thread 0 is working for 5 seconds.\n",
      "DEBUG:root:  Thread 1 is attempting to acquire resource.\n",
      "DEBUG:root:  Thread 1 is working for 5 seconds.\n",
      "DEBUG:root:  Thread 2 is attempting to acquire resource.\n",
      "DEBUG:root:  Thread 3 is attempting to acquire resource.\n",
      "DEBUG:root:  Thread 4 is attempting to acquire resource.\n",
      "DEBUG:root:  Thread 0 is complete.\n",
      "DEBUG:root:  Thread 2 is working for 5 seconds.\n",
      "DEBUG:root:  Thread 1 is complete.\n",
      "DEBUG:root:  Thread 3 is working for 5 seconds.\n",
      "DEBUG:root:  Thread 2 is complete.\n",
      "DEBUG:root:  Thread 4 is working for 5 seconds.\n",
      "DEBUG:root:  Thread 3 is complete.\n",
      "DEBUG:root:  Thread 4 is complete.\n",
      "DEBUG:root:Finishing Pool\n"
     ]
    }
   ],
   "source": [
    "max_resources = 2\n",
    "sema = Semaphore(value = max_resources)\n",
    "\n",
    "def sema_work(thread_name, seconds=5):\n",
    "    logging.debug(f'  Thread {thread_name} is attempting to acquire resource.')\n",
    "    sema.acquire()\n",
    "    logging.debug(f'  Thread {thread_name} is working for {seconds} seconds.')\n",
    "    time.sleep(seconds)\n",
    "    logging.debug(f'  Thread {thread_name} is complete.')\n",
    "    sema.release()\n",
    "\n",
    "workers = 5\n",
    "logger.debug('Starting Pool')\n",
    "with ThreadPoolExecutor(max_workers=workers) as pool:\n",
    "    pool.map(sema_work, range(workers))\n",
    "logger.debug('Finishing Pool')"
   ]
  },
  {
   "cell_type": "markdown",
   "metadata": {},
   "source": [
    "# Timers\n",
    "* We can easily create a time to start a thread and execute a function"
   ]
  },
  {
   "cell_type": "code",
   "execution_count": 17,
   "metadata": {},
   "outputs": [
    {
     "name": "stdout",
     "output_type": "stream",
     "text": [
      "DEBUG:root:Main completed\n",
      "DEBUG:root:Our timer fired\n"
     ]
    }
   ],
   "source": [
    "def timer_event(): \n",
    "    logger.debug('Our timer fired')\n",
    "  \n",
    "timer = threading.Timer(5.0, timer_event) \n",
    "timer.start() \n",
    "logger.debug('Main completed')"
   ]
  },
  {
   "cell_type": "markdown",
   "metadata": {},
   "source": [
    "# Limitations of Threads in Python\n",
    "* GIL - Global Interpreter Lock\n",
    "* Only one thread can be running python code at a time\n",
    "* That dramatically reduces the value of the threading modules for many use cases\n",
    "* It can be valuable for I/O wait where we're blocking on external locks"
   ]
  },
  {
   "cell_type": "code",
   "execution_count": null,
   "metadata": {},
   "outputs": [],
   "source": []
  }
 ],
 "metadata": {
  "kernelspec": {
   "display_name": "Python 3",
   "language": "python",
   "name": "python3"
  },
  "language_info": {
   "codemirror_mode": {
    "name": "ipython",
    "version": 3
   },
   "file_extension": ".py",
   "mimetype": "text/x-python",
   "name": "python",
   "nbconvert_exporter": "python",
   "pygments_lexer": "ipython3",
   "version": "3.7.6"
  }
 },
 "nbformat": 4,
 "nbformat_minor": 4
}
