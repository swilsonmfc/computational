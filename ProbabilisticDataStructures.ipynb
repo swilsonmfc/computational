{
  "nbformat": 4,
  "nbformat_minor": 0,
  "metadata": {
    "colab": {
      "name": "ProbabilisticDataStructures.ipynb",
      "provenance": [],
      "collapsed_sections": [],
      "toc_visible": true,
      "authorship_tag": "ABX9TyM1g+EUMWJyRf2V8661m6K5",
      "include_colab_link": true
    },
    "kernelspec": {
      "name": "python3",
      "display_name": "Python 3"
    }
  },
  "cells": [
    {
      "cell_type": "markdown",
      "metadata": {
        "id": "view-in-github",
        "colab_type": "text"
      },
      "source": [
        "<a href=\"https://colab.research.google.com/github/swilsonmfc/computational/blob/master/ProbabilisticDataStructures.ipynb\" target=\"_parent\"><img src=\"https://colab.research.google.com/assets/colab-badge.svg\" alt=\"Open In Colab\"/></a>"
      ]
    },
    {
      "cell_type": "markdown",
      "metadata": {
        "id": "KT5VSrYeOu2v"
      },
      "source": [
        "# Probabilistic Data Structures\n",
        "\n",
        "![](https://previews.123rf.com/images/toonartist/toonartist1406/toonartist140600186/29370854-yes-no-maybe-concept-with-three-red-dice-on-a-white-background-.jpg)"
      ]
    },
    {
      "cell_type": "markdown",
      "metadata": {
        "id": "whCnkcoOYAT1"
      },
      "source": [
        "# Install"
      ]
    },
    {
      "cell_type": "code",
      "metadata": {
        "id": "TJilCXtWYD2M",
        "outputId": "5853edb8-e2a2-484d-c0a5-39c6c5b12363",
        "colab": {
          "base_uri": "https://localhost:8080/"
        }
      },
      "source": [
        "!pip install pdsa"
      ],
      "execution_count": 2,
      "outputs": [
        {
          "output_type": "stream",
          "text": [
            "Collecting pdsa\n",
            "  Downloading https://files.pythonhosted.org/packages/8d/c8/314237de481d7a5f92f37090dafa8a4ddaeeb17a580be60a01f413515a64/pdsa-0.5.0.tar.gz\n",
            "Requirement already satisfied: cython>=0.28 in /usr/local/lib/python3.6/dist-packages (from pdsa) (0.29.21)\n",
            "Building wheels for collected packages: pdsa\n",
            "  Building wheel for pdsa (setup.py) ... \u001b[?25l\u001b[?25hdone\n",
            "  Created wheel for pdsa: filename=pdsa-0.5.0-cp36-cp36m-linux_x86_64.whl size=2613666 sha256=ee4fb567f8d245ff629c7280ede8c508ca5898c3163e373c00bbee3b45a66625\n",
            "  Stored in directory: /root/.cache/pip/wheels/7e/45/12/58fe9be197ae164c9cf17615ffea5944bdbf71ae28ebb9eae1\n",
            "Successfully built pdsa\n",
            "Installing collected packages: pdsa\n",
            "Successfully installed pdsa-0.5.0\n"
          ],
          "name": "stdout"
        }
      ]
    },
    {
      "cell_type": "code",
      "metadata": {
        "id": "ig22l-rsbC4x",
        "outputId": "8bb03d06-7bb1-454a-d8c4-f87096bac26a",
        "colab": {
          "base_uri": "https://localhost:8080/"
        }
      },
      "source": [
        "!pip install murmurhash3"
      ],
      "execution_count": 3,
      "outputs": [
        {
          "output_type": "stream",
          "text": [
            "Collecting murmurhash3\n",
            "  Downloading https://files.pythonhosted.org/packages/b5/f4/1f9c4851667a2541bd151b8d9efef707495816274fada365fa6a31085a32/murmurhash3-2.3.5.tar.gz\n",
            "Building wheels for collected packages: murmurhash3\n",
            "  Building wheel for murmurhash3 (setup.py) ... \u001b[?25l\u001b[?25hdone\n",
            "  Created wheel for murmurhash3: filename=murmurhash3-2.3.5-cp36-cp36m-linux_x86_64.whl size=25331 sha256=a65505f00d9d1cf86ca96afbe34070445b3ec2fbc3dbcb848777a608367c8e1a\n",
            "  Stored in directory: /root/.cache/pip/wheels/06/eb/e4/f57324cd9c1bf001c9ba6d6926ad5231eca80964ed80b3610e\n",
            "Successfully built murmurhash3\n",
            "Installing collected packages: murmurhash3\n",
            "Successfully installed murmurhash3-2.3.5\n"
          ],
          "name": "stdout"
        }
      ]
    },
    {
      "cell_type": "markdown",
      "metadata": {
        "id": "c0M4ZLatPNjM"
      },
      "source": [
        "# Setup"
      ]
    },
    {
      "cell_type": "code",
      "metadata": {
        "id": "6jx7kwH2X2qu"
      },
      "source": [
        "import sys\n",
        "import random\n",
        "import string\n",
        "\n",
        "import pandas as pd\n",
        "import numpy as np\n",
        "import matplotlib.pyplot as plt\n",
        "import seaborn as sns\n",
        "\n",
        "import mmh3\n",
        "\n",
        "from pdsa.membership.bloom_filter import BloomFilter\n",
        "from pdsa.cardinality.hyperloglog import HyperLogLog\n",
        "from pdsa.frequency.count_min_sketch import CountMinSketch\n",
        "from pdsa.rank.qdigest import QuantileDigest"
      ],
      "execution_count": 4,
      "outputs": []
    },
    {
      "cell_type": "markdown",
      "metadata": {
        "id": "zWKawkZ1W_sK"
      },
      "source": [
        "# Hashing Objects\n",
        "* Maps from an infinite space to a defined space\n",
        "* For examples the range of names is infinite\n",
        "* However, a hash to 32 bits will be fixed in the range 0 .. 4,294,967,295\n",
        "* Hashes are one-way - we can't go from name -> hash -> name"
      ]
    },
    {
      "cell_type": "code",
      "metadata": {
        "id": "nOBkbqVmXCPL",
        "outputId": "e757ffa1-0bdd-431b-f284-9eaf9c5bd364",
        "colab": {
          "base_uri": "https://localhost:8080/"
        }
      },
      "source": [
        "print(f'Hashing Hello:    {mmh3.hash(\"hello\")}')"
      ],
      "execution_count": 5,
      "outputs": [
        {
          "output_type": "stream",
          "text": [
            "Hashing Hello:    613153351\n"
          ],
          "name": "stdout"
        }
      ]
    },
    {
      "cell_type": "markdown",
      "metadata": {
        "id": "DB1K-mNhySnh"
      },
      "source": [
        "# Sizing Objects"
      ]
    },
    {
      "cell_type": "markdown",
      "metadata": {
        "id": "4KUonCwdczQP"
      },
      "source": [
        "## GetSizeOf\n",
        "* getsizeof tells us the memory taken up by an object\n",
        "* For complex objects it doesn't recursively gather sizes"
      ]
    },
    {
      "cell_type": "code",
      "metadata": {
        "id": "uMw_RYEBdM2X",
        "outputId": "d0e49a65-1e56-465d-c559-e1917209f656",
        "colab": {
          "base_uri": "https://localhost:8080/"
        }
      },
      "source": [
        "obj = \"123\"\n",
        "sys.getsizeof(obj)"
      ],
      "execution_count": 6,
      "outputs": [
        {
          "output_type": "execute_result",
          "data": {
            "text/plain": [
              "52"
            ]
          },
          "metadata": {
            "tags": []
          },
          "execution_count": 6
        }
      ]
    },
    {
      "cell_type": "code",
      "metadata": {
        "id": "pr7HbVbVdS0V",
        "outputId": "5595d201-95d5-45f0-9e05-ef7e12c8cc46",
        "colab": {
          "base_uri": "https://localhost:8080/"
        }
      },
      "source": [
        "class Simple():\n",
        "  pass\n",
        "\n",
        "simple = Simple()\n",
        "sys.getsizeof(simple)"
      ],
      "execution_count": 7,
      "outputs": [
        {
          "output_type": "execute_result",
          "data": {
            "text/plain": [
              "56"
            ]
          },
          "metadata": {
            "tags": []
          },
          "execution_count": 7
        }
      ]
    },
    {
      "cell_type": "code",
      "metadata": {
        "id": "51I4Bh1ZdliU",
        "outputId": "81e4512c-3ae6-4aba-ef46-73b52f46b202",
        "colab": {
          "base_uri": "https://localhost:8080/"
        }
      },
      "source": [
        "simple.text = 'Holding a string'\n",
        "sys.getsizeof(simple)"
      ],
      "execution_count": 8,
      "outputs": [
        {
          "output_type": "execute_result",
          "data": {
            "text/plain": [
              "56"
            ]
          },
          "metadata": {
            "tags": []
          },
          "execution_count": 8
        }
      ]
    },
    {
      "cell_type": "markdown",
      "metadata": {
        "id": "OQ-cVv0pd3Un"
      },
      "source": [
        "## Recursive GetSizeOf\n"
      ]
    },
    {
      "cell_type": "code",
      "metadata": {
        "id": "r6_fYm9kd528"
      },
      "source": [
        "def getsizeof_r(obj, seen=None):\n",
        "    size = sys.getsizeof(obj)\n",
        "    if seen is None:\n",
        "        seen = set()\n",
        "    \n",
        "    obj_id = id(obj)\n",
        "    # Exit recursion if we've seen this object before\n",
        "    if obj_id in seen:\n",
        "        return 0\n",
        "    \n",
        "    # Take care of newly visited objects\n",
        "    seen.add(obj_id)\n",
        "    if isinstance(obj, dict):\n",
        "        size += sum([getsizeof_r(v, seen) for v in obj.values()])\n",
        "        size += sum([getsizeof_r(k, seen) for k in obj.keys()])\n",
        "    elif hasattr(obj, '__dict__'):\n",
        "        size += getsizeof_r(obj.__dict__, seen)\n",
        "    elif hasattr(obj, '__iter__') and not isinstance(obj, (str, bytes, bytearray)):\n",
        "        size += sum([getsizeof_r(i, seen) for i in obj])\n",
        "    return size"
      ],
      "execution_count": 9,
      "outputs": []
    },
    {
      "cell_type": "code",
      "metadata": {
        "id": "eE_if4d2eCul",
        "outputId": "d078ab7b-6df6-41e6-b3ac-4f0d6d618b9a",
        "colab": {
          "base_uri": "https://localhost:8080/"
        }
      },
      "source": [
        "simple = Simple()\n",
        "simple.text = 'Holding a string'\n",
        "getsizeof_r(simple)"
      ],
      "execution_count": 10,
      "outputs": [
        {
          "output_type": "execute_result",
          "data": {
            "text/plain": [
              "286"
            ]
          },
          "metadata": {
            "tags": []
          },
          "execution_count": 10
        }
      ]
    },
    {
      "cell_type": "markdown",
      "metadata": {
        "id": "N16hexFob082"
      },
      "source": [
        "## Dictionaries\n",
        "* Dicts allocate memory in steps\n",
        "* Dicts don't report recursive memory usage"
      ]
    },
    {
      "cell_type": "code",
      "metadata": {
        "id": "NR2nvb8Ob2RI",
        "outputId": "56628fc6-1acb-4a70-ce5e-125f42c8709f",
        "colab": {
          "base_uri": "https://localhost:8080/"
        }
      },
      "source": [
        "d = {}\n",
        "for letter in 'abcdefghijklmnopqrstuvwxyz':\n",
        "  d[letter] = letter\n",
        "  print(f'Dictionary Size: {len(d)}, sys.getsizeof(d) = {sys.getsizeof(d)}')"
      ],
      "execution_count": 11,
      "outputs": [
        {
          "output_type": "stream",
          "text": [
            "Dictionary Size: 1, sys.getsizeof(d) = 240\n",
            "Dictionary Size: 2, sys.getsizeof(d) = 240\n",
            "Dictionary Size: 3, sys.getsizeof(d) = 240\n",
            "Dictionary Size: 4, sys.getsizeof(d) = 240\n",
            "Dictionary Size: 5, sys.getsizeof(d) = 240\n",
            "Dictionary Size: 6, sys.getsizeof(d) = 368\n",
            "Dictionary Size: 7, sys.getsizeof(d) = 368\n",
            "Dictionary Size: 8, sys.getsizeof(d) = 368\n",
            "Dictionary Size: 9, sys.getsizeof(d) = 368\n",
            "Dictionary Size: 10, sys.getsizeof(d) = 368\n",
            "Dictionary Size: 11, sys.getsizeof(d) = 648\n",
            "Dictionary Size: 12, sys.getsizeof(d) = 648\n",
            "Dictionary Size: 13, sys.getsizeof(d) = 648\n",
            "Dictionary Size: 14, sys.getsizeof(d) = 648\n",
            "Dictionary Size: 15, sys.getsizeof(d) = 648\n",
            "Dictionary Size: 16, sys.getsizeof(d) = 648\n",
            "Dictionary Size: 17, sys.getsizeof(d) = 648\n",
            "Dictionary Size: 18, sys.getsizeof(d) = 648\n",
            "Dictionary Size: 19, sys.getsizeof(d) = 648\n",
            "Dictionary Size: 20, sys.getsizeof(d) = 648\n",
            "Dictionary Size: 21, sys.getsizeof(d) = 648\n",
            "Dictionary Size: 22, sys.getsizeof(d) = 1184\n",
            "Dictionary Size: 23, sys.getsizeof(d) = 1184\n",
            "Dictionary Size: 24, sys.getsizeof(d) = 1184\n",
            "Dictionary Size: 25, sys.getsizeof(d) = 1184\n",
            "Dictionary Size: 26, sys.getsizeof(d) = 1184\n"
          ],
          "name": "stdout"
        }
      ]
    },
    {
      "cell_type": "code",
      "metadata": {
        "id": "Huuiy4ute1P7",
        "outputId": "ca071d20-c897-4684-cf12-6c3152e63450",
        "colab": {
          "base_uri": "https://localhost:8080/"
        }
      },
      "source": [
        "d = {}\n",
        "for letter in 'abcdefghijklmnopqrstuvwxyz':\n",
        "  d[letter] = letter\n",
        "  print(f'Dictionary Size: {len(d)}, sys.getsizeof(d) = {sys.getsizeof(d)}, getsizeof_r(d) = {getsizeof_r(d)}')"
      ],
      "execution_count": 12,
      "outputs": [
        {
          "output_type": "stream",
          "text": [
            "Dictionary Size: 1, sys.getsizeof(d) = 240, getsizeof_r(d) = 298\n",
            "Dictionary Size: 2, sys.getsizeof(d) = 240, getsizeof_r(d) = 356\n",
            "Dictionary Size: 3, sys.getsizeof(d) = 240, getsizeof_r(d) = 414\n",
            "Dictionary Size: 4, sys.getsizeof(d) = 240, getsizeof_r(d) = 472\n",
            "Dictionary Size: 5, sys.getsizeof(d) = 240, getsizeof_r(d) = 530\n",
            "Dictionary Size: 6, sys.getsizeof(d) = 368, getsizeof_r(d) = 716\n",
            "Dictionary Size: 7, sys.getsizeof(d) = 368, getsizeof_r(d) = 774\n",
            "Dictionary Size: 8, sys.getsizeof(d) = 368, getsizeof_r(d) = 832\n",
            "Dictionary Size: 9, sys.getsizeof(d) = 368, getsizeof_r(d) = 890\n",
            "Dictionary Size: 10, sys.getsizeof(d) = 368, getsizeof_r(d) = 948\n",
            "Dictionary Size: 11, sys.getsizeof(d) = 648, getsizeof_r(d) = 1286\n",
            "Dictionary Size: 12, sys.getsizeof(d) = 648, getsizeof_r(d) = 1344\n",
            "Dictionary Size: 13, sys.getsizeof(d) = 648, getsizeof_r(d) = 1402\n",
            "Dictionary Size: 14, sys.getsizeof(d) = 648, getsizeof_r(d) = 1460\n",
            "Dictionary Size: 15, sys.getsizeof(d) = 648, getsizeof_r(d) = 1518\n",
            "Dictionary Size: 16, sys.getsizeof(d) = 648, getsizeof_r(d) = 1576\n",
            "Dictionary Size: 17, sys.getsizeof(d) = 648, getsizeof_r(d) = 1634\n",
            "Dictionary Size: 18, sys.getsizeof(d) = 648, getsizeof_r(d) = 1692\n",
            "Dictionary Size: 19, sys.getsizeof(d) = 648, getsizeof_r(d) = 1750\n",
            "Dictionary Size: 20, sys.getsizeof(d) = 648, getsizeof_r(d) = 1808\n",
            "Dictionary Size: 21, sys.getsizeof(d) = 648, getsizeof_r(d) = 1866\n",
            "Dictionary Size: 22, sys.getsizeof(d) = 1184, getsizeof_r(d) = 2460\n",
            "Dictionary Size: 23, sys.getsizeof(d) = 1184, getsizeof_r(d) = 2518\n",
            "Dictionary Size: 24, sys.getsizeof(d) = 1184, getsizeof_r(d) = 2576\n",
            "Dictionary Size: 25, sys.getsizeof(d) = 1184, getsizeof_r(d) = 2634\n",
            "Dictionary Size: 26, sys.getsizeof(d) = 1184, getsizeof_r(d) = 2692\n"
          ],
          "name": "stdout"
        }
      ]
    },
    {
      "cell_type": "markdown",
      "metadata": {
        "id": "8fN4W-DsPJ-L"
      },
      "source": [
        "# BloomFilter\n",
        "* BloomFilters help identify members in a set.\n",
        "* They answer the question probabilisticly:\n",
        "  * They can tell you definitively no it is not a member. \n",
        "  * They can tell you possibly it is a member.\n",
        "  * Can have false positives but not false negatives\n",
        "* Examples:\n",
        "  * Have I seen this user before?\n",
        "  * Is this a new flight in a radar tracking system?\n",
        "* Works by hashing the value to a smaller space\n",
        "  * If the hash exists, it could be in the set\n",
        "  * It can't tell you definitely, because there could be hash collisions\n",
        "  * If the hash isn't in the bloom filter, you definitively know it's not a member\n",
        "* Key decisions:\n",
        "  * How much space should the filter offer?\n",
        "  * What likelhood of false positive can you tolerate?\n",
        "  * Need deletes?  Look at Cuckoo Filter"
      ]
    },
    {
      "cell_type": "markdown",
      "metadata": {
        "id": "SxegYAT0vyil"
      },
      "source": [
        "## Internals\n",
        "* https://www.interviewcake.com/concept/java/bloom-filter\n",
        "\n",
        "\n",
        "### Initialize\n",
        "![](https://www.interviewcake.com/images/svgs/python__bloom_filter__overview.svg?bust=209)\n",
        "\n",
        "### Addition\n",
        "![](https://www.interviewcake.com/images/svgs/python__bloom_filter__add_a_new_word.svg?bust=209)\n",
        "\n",
        "### Testing\n",
        "\n",
        "![](https://www.interviewcake.com/images/svgs/python__bloom_filter__check_a_word_in_the_set.svg?bust=209)"
      ]
    },
    {
      "cell_type": "markdown",
      "metadata": {
        "id": "onInxNfQt5Ni"
      },
      "source": [
        "## Implementation\n",
        "* Trivial Implementation of a Filter"
      ]
    },
    {
      "cell_type": "markdown",
      "metadata": {
        "id": "6ndrImEiuvnm"
      },
      "source": [
        "### Tools - Hashing & Binary"
      ]
    },
    {
      "cell_type": "code",
      "metadata": {
        "id": "r2CZ1csWuoqK",
        "outputId": "3e91f9f3-31d5-4c82-e6a3-877bb0b1cfab",
        "colab": {
          "base_uri": "https://localhost:8080/"
        }
      },
      "source": [
        "for i in range(8):\n",
        "  print(bin(i))"
      ],
      "execution_count": 13,
      "outputs": [
        {
          "output_type": "stream",
          "text": [
            "0b0\n",
            "0b1\n",
            "0b10\n",
            "0b11\n",
            "0b100\n",
            "0b101\n",
            "0b110\n",
            "0b111\n"
          ],
          "name": "stdout"
        }
      ]
    },
    {
      "cell_type": "code",
      "metadata": {
        "id": "mbwDzpJIuQ7w",
        "outputId": "58d9b325-0744-4928-c6d3-1e1e4ad77533",
        "colab": {
          "base_uri": "https://localhost:8080/"
        }
      },
      "source": [
        "print(f'Hashing Hello:    {mmh3.hash(\"hello\")}')\n",
        "print(f'Bin Hashed Hello: {bin(mmh3.hash(\"hello\"))}')"
      ],
      "execution_count": 14,
      "outputs": [
        {
          "output_type": "stream",
          "text": [
            "Hashing Hello:    613153351\n",
            "Bin Hashed Hello: 0b100100100010111111101001000111\n"
          ],
          "name": "stdout"
        }
      ]
    },
    {
      "cell_type": "markdown",
      "metadata": {
        "id": "xMzD6sJuueDK"
      },
      "source": [
        "### Hashing to Fixed Length"
      ]
    },
    {
      "cell_type": "code",
      "metadata": {
        "id": "d1J00zofvRUg",
        "outputId": "b06957f2-1468-4279-9e5c-85f402abeae6",
        "colab": {
          "base_uri": "https://localhost:8080/"
        }
      },
      "source": [
        "length = 8\n",
        "bloom = [0 for x in range(length)]\n",
        "print(bloom)"
      ],
      "execution_count": 15,
      "outputs": [
        {
          "output_type": "stream",
          "text": [
            "[0, 0, 0, 0, 0, 0, 0, 0]\n"
          ],
          "name": "stdout"
        }
      ]
    },
    {
      "cell_type": "code",
      "metadata": {
        "id": "Pa6VaIjevbpn",
        "outputId": "969c2e94-20b4-498f-ca8e-47b6225054a1",
        "colab": {
          "base_uri": "https://localhost:8080/"
        }
      },
      "source": [
        "hashed = mmh3.hash(\"hello\")\n",
        "position = hashed % length\n",
        "bloom[position] = 1\n",
        "print(bloom)"
      ],
      "execution_count": 16,
      "outputs": [
        {
          "output_type": "stream",
          "text": [
            "[0, 0, 0, 0, 0, 0, 0, 1]\n"
          ],
          "name": "stdout"
        }
      ]
    },
    {
      "cell_type": "markdown",
      "metadata": {
        "id": "d9XsbjIsv4C2"
      },
      "source": [
        "### Testing Presence"
      ]
    },
    {
      "cell_type": "code",
      "metadata": {
        "id": "2NmZTY_RxpUt",
        "outputId": "9b23d965-40aa-4a08-e420-a25d977d49c2",
        "colab": {
          "base_uri": "https://localhost:8080/"
        }
      },
      "source": [
        "test = mmh3.hash(\"world\")\n",
        "position = test % length\n",
        "print(f'Hashed value {test}, position {position}')\n",
        "if bloom[position] == 1:\n",
        "  print('Possibly Present')\n",
        "else:\n",
        "  print('Definitively Not Present')"
      ],
      "execution_count": 17,
      "outputs": [
        {
          "output_type": "stream",
          "text": [
            "Hashed value -74040069, position 3\n",
            "Definitively Not Present\n"
          ],
          "name": "stdout"
        }
      ]
    },
    {
      "cell_type": "code",
      "metadata": {
        "id": "hH3bVn9KyqFm",
        "outputId": "e840ae82-ba0a-4366-fb1b-6fd3ddc9ff0e",
        "colab": {
          "base_uri": "https://localhost:8080/"
        }
      },
      "source": [
        "test = mmh3.hash(\"ninja\")\n",
        "position = test % length\n",
        "print(f'Hashed value {test}, position {position}')\n",
        "if bloom[position] == 1:\n",
        "  print('Possibly Present')\n",
        "else:\n",
        "  print('Definitively Not Present')"
      ],
      "execution_count": 18,
      "outputs": [
        {
          "output_type": "stream",
          "text": [
            "Hashed value -531200449, position 7\n",
            "Possibly Present\n"
          ],
          "name": "stdout"
        }
      ]
    },
    {
      "cell_type": "markdown",
      "metadata": {
        "id": "l5JMwTrFzFDB"
      },
      "source": [
        "### Extensions\n",
        "* Multiple hashes (use mmh3 with seed)\n",
        "* Increase filter length (more space)"
      ]
    },
    {
      "cell_type": "markdown",
      "metadata": {
        "id": "2RFdCQNxwBox"
      },
      "source": [
        "## Examples"
      ]
    },
    {
      "cell_type": "code",
      "metadata": {
        "id": "zqik4IqkY6ZU",
        "outputId": "d2201bc3-01eb-4a63-d4c3-4d73c8c7345d",
        "colab": {
          "base_uri": "https://localhost:8080/"
        }
      },
      "source": [
        "bf = BloomFilter(100000, 5) #100,000 Positions, 5 Hashes\n",
        "print(bf)\n",
        "bf.add('hello')\n",
        "\n",
        "print('Test Hello', bf.test('hello'))\n",
        "print('Test World', bf.test('world'))\n",
        "print('Test Ninja', bf.test('ninja'))"
      ],
      "execution_count": 19,
      "outputs": [
        {
          "output_type": "stream",
          "text": [
            "<BloomFilter (length: 100000, hashes: 5)>\n",
            "Test Hello True\n",
            "Test World False\n",
            "Test Ninja False\n"
          ],
          "name": "stdout"
        }
      ]
    },
    {
      "cell_type": "code",
      "metadata": {
        "id": "_Qe29LeT9mmV",
        "outputId": "fe43316c-87d7-4eeb-d515-5d956c283caa",
        "colab": {
          "base_uri": "https://localhost:8080/"
        }
      },
      "source": [
        "# Initial State\n",
        "bf = BloomFilter(100000, 5)\n",
        "d  = {}\n",
        "print(f'Size BloomFilter {getsizeof_r(bf)}')\n",
        "print(f'Size Dict {getsizeof_r(d)}')"
      ],
      "execution_count": 20,
      "outputs": [
        {
          "output_type": "stream",
          "text": [
            "Size BloomFilter 296\n",
            "Size Dict 240\n"
          ],
          "name": "stdout"
        }
      ]
    },
    {
      "cell_type": "code",
      "metadata": {
        "id": "3g1B9aoY9svE",
        "outputId": "e42033f1-c5e6-4bb5-adb0-b7a3457091e5",
        "colab": {
          "base_uri": "https://localhost:8080/"
        }
      },
      "source": [
        "# Insert 10000\n",
        "letters = string.ascii_lowercase\n",
        "for i in range(10000):\n",
        "  value = ''.join(random.choice(letters) for i in range(5))\n",
        "  bf.add(value)\n",
        "  d[value] = 1\n",
        "print(f'Size BloomFilter {getsizeof_r(bf):,}')\n",
        "print(f'Size Dict {getsizeof_r(d):,}')"
      ],
      "execution_count": 21,
      "outputs": [
        {
          "output_type": "stream",
          "text": [
            "Size BloomFilter 296\n",
            "Size Dict 834,874\n"
          ],
          "name": "stdout"
        }
      ]
    },
    {
      "cell_type": "code",
      "metadata": {
        "id": "KSAKUVc0-wX0",
        "outputId": "376baeab-dca2-4674-fffe-c90322d181eb",
        "colab": {
          "base_uri": "https://localhost:8080/"
        }
      },
      "source": [
        "# Collisions\n",
        "tp = 0\n",
        "fp = 0\n",
        "tn = 0\n",
        "fn = 0\n",
        "for i in range(100000):\n",
        "  value = ''.join(random.choice(letters) for i in range(5))\n",
        "  present_bf = bf.test(value)\n",
        "  present_d  = value in d\n",
        "\n",
        "  if present_bf and present_d:\n",
        "    tp += 1\n",
        "  elif present_bf and not present_d:\n",
        "    fp += 1\n",
        "  elif not present_bf and present_d:\n",
        "    fn += 1\n",
        "  else:\n",
        "    tn += 1\n",
        "  \n",
        "print(f'True  Positives {tp:,}')\n",
        "print(f'False Positives {fp:,}')\n",
        "print(f'True  Negatives {tn:,}')\n",
        "print(f'False Negatives {fn:,}')"
      ],
      "execution_count": 22,
      "outputs": [
        {
          "output_type": "stream",
          "text": [
            "True  Positives 84\n",
            "False Positives 977\n",
            "True  Negatives 98,939\n",
            "False Negatives 0\n"
          ],
          "name": "stdout"
        }
      ]
    },
    {
      "cell_type": "markdown",
      "metadata": {
        "id": "37HFE6npwvtr"
      },
      "source": [
        "## Considerations\n",
        "* Advantages\n",
        "  * Bloom filters take up O(1) space \n",
        "  * Insert and lookup operations are both O(1)\n",
        "  * Bloom filters can identify true negatives. \n",
        "* Disadvantages\n",
        "  * Accuracy goes down as more elements are added\n",
        "  * Cannot identify true positives\n",
        "  * Cannot iterate through the items in the filter\n",
        "  * Cannot delete items."
      ]
    },
    {
      "cell_type": "markdown",
      "metadata": {
        "id": "zo97JcCfPBhk"
      },
      "source": [
        "# HyperLogLog\n",
        "* Answers how many distinct items are there in a list?\n",
        "* HyperLogLog answers this question probabilistically\n",
        "* An exact count requires memory proportional to the cardinality (think dict)\n"
      ]
    },
    {
      "cell_type": "markdown",
      "metadata": {
        "id": "reH2V1BhdUgp"
      },
      "source": [
        "## Internals\n",
        "* http://blog.notdot.net/2012/09/Dam-Cool-Algorithms-Cardinality-Estimation\n",
        "* https://engineering.fb.com/2018/12/13/data-infrastructure/hyperloglog/\n",
        "* https://towardsdatascience.com/big-data-with-sketchy-structures-part-2-hyperloglog-and-bloom-filters-73b1c4a2e6ad"
      ]
    },
    {
      "cell_type": "markdown",
      "metadata": {
        "id": "NgNuQdNu_pbV"
      },
      "source": [
        "![](https://miro.medium.com/max/571/1*U0GjwE-zxNs5zkzQY0p4XA.png)"
      ]
    },
    {
      "cell_type": "markdown",
      "metadata": {
        "id": "OURqTZWxAYeE"
      },
      "source": [
        "## Implementation"
      ]
    },
    {
      "cell_type": "code",
      "metadata": {
        "id": "R--ynZSKCzfm"
      },
      "source": [
        "def trailing_zeros(num):\n",
        "  \"\"\"Trivial implementation to count the number of trailing zeros\"\"\"\n",
        "  return len(str(num)) - len(str(num).rstrip('0'))"
      ],
      "execution_count": 23,
      "outputs": []
    },
    {
      "cell_type": "markdown",
      "metadata": {
        "id": "Bxw1OSZRP8kY"
      },
      "source": [
        "### Splitting hash"
      ]
    },
    {
      "cell_type": "code",
      "metadata": {
        "id": "s9LeWL2PAalt"
      },
      "source": [
        "length = 3\n",
        "hash_length = 32"
      ],
      "execution_count": 24,
      "outputs": []
    },
    {
      "cell_type": "code",
      "metadata": {
        "id": "yncJeDL6Apof",
        "outputId": "0295ba18-b9a2-45dd-dc59-7240cf7ecd4a",
        "colab": {
          "base_uri": "https://localhost:8080/"
        }
      },
      "source": [
        "hashed = mmh3.hash(\"hello\")\n",
        "\n",
        "hashed_bin = bin(hashed)\n",
        "bucket_bin = bin(hashed)[-length :]\n",
        "zeros_bin  = bin(hashed)[: -length]\n",
        "bucket_num = int(bucket_bin, 2)\n",
        "zeros_num  = int(zeros_bin, 2)\n",
        "\n",
        "print(f'Hashed {hashed}')\n",
        "print(f'Hashed Binary  {hashed_bin}')\n",
        "print(f'Bucket Binary  {bucket_bin:>32}')\n",
        "print(f'Zeros  Binary  {zeros_bin}')\n",
        "print(f'Bucket Number  {bucket_num}')\n",
        "print(f'Zeros  Number  {zeros_num}')\n",
        "print(f'Trailing Zeros {trailing_zeros(zeros_num)}')"
      ],
      "execution_count": 25,
      "outputs": [
        {
          "output_type": "stream",
          "text": [
            "Hashed 613153351\n",
            "Hashed Binary  0b100100100010111111101001000111\n",
            "Bucket Binary                               111\n",
            "Zeros  Binary  0b100100100010111111101001000\n",
            "Bucket Number  7\n",
            "Zeros  Number  76644168\n",
            "Trailing Zeros 0\n"
          ],
          "name": "stdout"
        }
      ]
    },
    {
      "cell_type": "markdown",
      "metadata": {
        "id": "fCi3SpADQE7Z"
      },
      "source": [
        "### Estimating Cardinality"
      ]
    },
    {
      "cell_type": "code",
      "metadata": {
        "id": "d5MqGCiOApr3"
      },
      "source": [
        "def cardinality(length):\n",
        "  d = {}\n",
        "  buckets = [0 for x in range(2 ** length)]\n",
        "\n",
        "  letters = string.ascii_lowercase\n",
        "  for i in range(10000):\n",
        "    value = ''.join(random.choice(letters) for i in range(3))\n",
        "    d[value] = 1\n",
        "\n",
        "    hashed = mmh3.hash(value)\n",
        "    hashed_bin = bin(hashed)\n",
        "    bucket_bin = bin(hashed)[-length :]\n",
        "    zeros_bin  = bin(hashed)[: -length]\n",
        "    bucket_num = int(bucket_bin, 2)\n",
        "    zeros_num  = int(zeros_bin, 2)\n",
        "    zeros      = trailing_zeros(zeros_bin)\n",
        "\n",
        "    if zeros > buckets[bucket_num]:\n",
        "      buckets[bucket_num] = zeros\n",
        "\n",
        "  print(f'Buckets {2 ** length}') \n",
        "  print(f'Actual Cardinality    : {len(d):,}')\n",
        "\n",
        "  num_buckets = len(buckets)\n",
        "  print(f'Estimated Cardinality : {2 ** (float(sum(buckets)) / num_buckets) * num_buckets * 0.79402:,.0f}')"
      ],
      "execution_count": 26,
      "outputs": []
    },
    {
      "cell_type": "markdown",
      "metadata": {
        "id": "ztReC_TNQK3z"
      },
      "source": [
        "### Comparing Precision"
      ]
    },
    {
      "cell_type": "code",
      "metadata": {
        "id": "b1aovZyqG-tZ",
        "outputId": "36316571-b1d6-4f37-cf2c-94b55ce08911",
        "colab": {
          "base_uri": "https://localhost:8080/"
        }
      },
      "source": [
        "# With 8 (2 ** 3) Buckets there's higher levels of error\n",
        "cardinality(3)"
      ],
      "execution_count": 27,
      "outputs": [
        {
          "output_type": "stream",
          "text": [
            "Buckets 8\n",
            "Actual Cardinality    : 7,574\n",
            "Estimated Cardinality : 5,016\n"
          ],
          "name": "stdout"
        }
      ]
    },
    {
      "cell_type": "code",
      "metadata": {
        "id": "ZGU2P6EAPJA-",
        "outputId": "8667ffd9-e93b-47b4-9b32-aac012ae9280",
        "colab": {
          "base_uri": "https://localhost:8080/"
        }
      },
      "source": [
        "# With larger number of buckets 256 (2 ** 8) the estimate is more accurate\n",
        "cardinality(8)"
      ],
      "execution_count": 28,
      "outputs": [
        {
          "output_type": "stream",
          "text": [
            "Buckets 256\n",
            "Actual Cardinality    : 7,672\n",
            "Estimated Cardinality : 8,322\n"
          ],
          "name": "stdout"
        }
      ]
    },
    {
      "cell_type": "markdown",
      "metadata": {
        "id": "zaD4Y5mndUaV"
      },
      "source": [
        "## Examples"
      ]
    },
    {
      "cell_type": "code",
      "metadata": {
        "id": "TrscV-tb2ncI",
        "outputId": "7db5d16e-f990-4226-d93f-46ae56018b3d",
        "colab": {
          "base_uri": "https://localhost:8080/"
        }
      },
      "source": [
        "hll = HyperLogLog(10)\n",
        "hll.add('Hello')\n",
        "hll.count()"
      ],
      "execution_count": 29,
      "outputs": [
        {
          "output_type": "execute_result",
          "data": {
            "text/plain": [
              "1"
            ]
          },
          "metadata": {
            "tags": []
          },
          "execution_count": 29
        }
      ]
    },
    {
      "cell_type": "code",
      "metadata": {
        "id": "41EOYIB13eRq",
        "outputId": "71e9eb44-5669-4a36-bb03-28a7249fc450",
        "colab": {
          "base_uri": "https://localhost:8080/"
        }
      },
      "source": [
        "# Initial State\n",
        "hll = HyperLogLog(10)\n",
        "d   = {}\n",
        "print(f'Size HyperLogLog {getsizeof_r(hll)}')\n",
        "print(f'Size Dict {getsizeof_r(d)}')"
      ],
      "execution_count": 30,
      "outputs": [
        {
          "output_type": "stream",
          "text": [
            "Size HyperLogLog 72\n",
            "Size Dict 240\n"
          ],
          "name": "stdout"
        }
      ]
    },
    {
      "cell_type": "code",
      "metadata": {
        "id": "I8QXmnfp3X8f",
        "outputId": "9eb8ea36-3fe1-403d-feb4-a5410893a4cf",
        "colab": {
          "base_uri": "https://localhost:8080/"
        }
      },
      "source": [
        "# Insert 10000\n",
        "letters = string.ascii_lowercase\n",
        "for i in range(10000):\n",
        "  value = ''.join(random.choice(letters) for i in range(5))\n",
        "  hll.add(value)\n",
        "  d[value] = 1\n",
        "\n",
        "print(f'Unique Items HyperLogLog {hll.count():,}')\n",
        "print(f'Unique Items Dict        {len(d):,}')"
      ],
      "execution_count": 31,
      "outputs": [
        {
          "output_type": "stream",
          "text": [
            "Unique Items HyperLogLog 10,289\n",
            "Unique Items Dict        9,997\n"
          ],
          "name": "stdout"
        }
      ]
    },
    {
      "cell_type": "code",
      "metadata": {
        "id": "mxeRB6jc4Ln4",
        "outputId": "99a8a596-d0f8-4718-9c54-3ff6bb8cf9c7",
        "colab": {
          "base_uri": "https://localhost:8080/"
        }
      },
      "source": [
        "# Memory\n",
        "print(f'Size HyperLogLog {getsizeof_r(hll):,}')\n",
        "print(f'Size Dict {getsizeof_r(d):,}')"
      ],
      "execution_count": 32,
      "outputs": [
        {
          "output_type": "stream",
          "text": [
            "Size HyperLogLog 72\n",
            "Size Dict 834,874\n"
          ],
          "name": "stdout"
        }
      ]
    },
    {
      "cell_type": "code",
      "metadata": {
        "id": "9mK5qYVh4RvU",
        "outputId": "97ade298-6536-441f-fa37-24bc1ab8bfba",
        "colab": {
          "base_uri": "https://localhost:8080/"
        }
      },
      "source": [
        "precision_min, precision_max, items = 4, 16, 10000\n",
        "hlls = []\n",
        "d    = {}\n",
        "\n",
        "for x in range(precision_min, precision_max):\n",
        "  hlls.append( HyperLogLog(x) )\n",
        "\n",
        "letters = string.ascii_lowercase\n",
        "for i in range(items):\n",
        "  value = ''.join(random.choice(letters) for i in range(5))\n",
        "  d[value] = 1\n",
        "\n",
        "  for hll in hlls:\n",
        "    hll.add(value)\n",
        "\n",
        "print(f'Actual Items {len(d):,}')\n",
        "for x, hll in zip( range(precision_min, precision_max), hlls ):\n",
        "  diff     = len(d) - hll.count()\n",
        "  diff_per = diff / items * 100. \n",
        "  print(f'HyperLogLog Precision {x:<2}  Length {len(hll):<6} Size {getsizeof_r(hll)}  Unique {hll.count():<6} ({diff:<6} {diff_per:.2f}%)')"
      ],
      "execution_count": 33,
      "outputs": [
        {
          "output_type": "stream",
          "text": [
            "Actual Items 9,993\n",
            "HyperLogLog Precision 4   Length 16     Size 72  Unique 18740  (-8747  -87.47%)\n",
            "HyperLogLog Precision 5   Length 32     Size 72  Unique 7994   (1999   19.99%)\n",
            "HyperLogLog Precision 6   Length 64     Size 72  Unique 9280   (713    7.13%)\n",
            "HyperLogLog Precision 7   Length 128    Size 72  Unique 11768  (-1775  -17.75%)\n",
            "HyperLogLog Precision 8   Length 256    Size 72  Unique 9504   (489    4.89%)\n",
            "HyperLogLog Precision 9   Length 512    Size 72  Unique 10339  (-346   -3.46%)\n",
            "HyperLogLog Precision 10  Length 1024   Size 72  Unique 9878   (115    1.15%)\n",
            "HyperLogLog Precision 11  Length 2048   Size 72  Unique 9470   (523    5.23%)\n",
            "HyperLogLog Precision 12  Length 4096   Size 72  Unique 10253  (-260   -2.60%)\n",
            "HyperLogLog Precision 13  Length 8192   Size 72  Unique 9996   (-3     -0.03%)\n",
            "HyperLogLog Precision 14  Length 16384  Size 72  Unique 10011  (-18    -0.18%)\n",
            "HyperLogLog Precision 15  Length 32768  Size 72  Unique 9904   (89     0.89%)\n"
          ],
          "name": "stdout"
        }
      ]
    },
    {
      "cell_type": "markdown",
      "metadata": {
        "id": "QFM76KjvdUok"
      },
      "source": [
        "## Considerations\n",
        "* Advantages\n",
        "  * O(log(log(n)) complexity for space\n",
        "  * O(1) for insertion\n",
        "  * Higher precision improves accuracy (at expense of space)\n",
        "* Disadvantages\n",
        "  * A poor hashing function can distort\n",
        "  * The algorithm can suffer from variance"
      ]
    },
    {
      "cell_type": "markdown",
      "metadata": {
        "id": "WRQXqW_SPFyz"
      },
      "source": [
        "# CountMinSketch\n",
        "* What is the frequency of items appearing in a stream?\n",
        "* Quality is driven by the number of cells in the structure\n",
        "* Examples:\n",
        "  * View counts of website pages\n",
        "  * Songs played \n",
        "  * Not best structure for tracking ad impressions (need accurate counts)\n",
        "* Complexity\n",
        "  * Dictionaries grow at O(n) complexity\n",
        "  * O(1) Space (Memory = d * w = number of hashes * number of counters)\n",
        "  * O(1) Insertion \n",
        "* Variations exist to reduce bias"
      ]
    },
    {
      "cell_type": "markdown",
      "metadata": {
        "id": "kf9ji3hWMBZ6"
      },
      "source": [
        "## Internals\n",
        "\n",
        "![](https://www.waitingforcode.com/public/images/articles/count_min_sketch.png)"
      ]
    },
    {
      "cell_type": "markdown",
      "metadata": {
        "id": "Xeo_ysadMBoT"
      },
      "source": [
        "## Implementation"
      ]
    },
    {
      "cell_type": "markdown",
      "metadata": {
        "id": "8fINPQVHB3NJ"
      },
      "source": [
        "### Dictionary"
      ]
    },
    {
      "cell_type": "code",
      "metadata": {
        "id": "lDP3YrPlOIJC",
        "outputId": "e418526b-9f2c-4e0c-b21c-34767c4d995b",
        "colab": {
          "base_uri": "https://localhost:8080/"
        }
      },
      "source": [
        "items = 50000\n",
        "hashes = 5\n",
        "width  = 20\n",
        "\n",
        "animals = ['dog', 'cat', 'mouse', 'bird', 'tiger', 'lion', 'otter', 'rat', 'toad', 'elephant',\n",
        "           'eagle', 'beaver', 'yak', 'fish', 'rabbit', 'cow', 'goat', 'monkey', 'shark', 'turtle']\n",
        "parade = [random.choice(animals) for i in range(items)]\n",
        "\n",
        "d = {}\n",
        "for animal in parade:\n",
        "  d.setdefault(animal, 0)\n",
        "  d[animal] = d[animal] + 1\n",
        "print(f'Size of {getsizeof_r(d)}')"
      ],
      "execution_count": 34,
      "outputs": [
        {
          "output_type": "stream",
          "text": [
            "Size of 2280\n"
          ],
          "name": "stdout"
        }
      ]
    },
    {
      "cell_type": "code",
      "metadata": {
        "id": "O3oJc1xwXkJK",
        "outputId": "bb864935-6517-4cf0-baf7-17296de380fe",
        "colab": {
          "base_uri": "https://localhost:8080/"
        }
      },
      "source": [
        "d"
      ],
      "execution_count": 35,
      "outputs": [
        {
          "output_type": "execute_result",
          "data": {
            "text/plain": [
              "{'beaver': 2625,\n",
              " 'bird': 2460,\n",
              " 'cat': 2524,\n",
              " 'cow': 2560,\n",
              " 'dog': 2468,\n",
              " 'eagle': 2572,\n",
              " 'elephant': 2521,\n",
              " 'fish': 2429,\n",
              " 'goat': 2537,\n",
              " 'lion': 2562,\n",
              " 'monkey': 2461,\n",
              " 'mouse': 2455,\n",
              " 'otter': 2474,\n",
              " 'rabbit': 2514,\n",
              " 'rat': 2409,\n",
              " 'shark': 2502,\n",
              " 'tiger': 2484,\n",
              " 'toad': 2474,\n",
              " 'turtle': 2518,\n",
              " 'yak': 2451}"
            ]
          },
          "metadata": {
            "tags": []
          },
          "execution_count": 35
        }
      ]
    },
    {
      "cell_type": "markdown",
      "metadata": {
        "id": "mZ6HseJqB6wt"
      },
      "source": [
        "### Hashing"
      ]
    },
    {
      "cell_type": "code",
      "metadata": {
        "id": "NkBCYreiWTzm",
        "outputId": "556182ae-bac5-44b1-e711-82f1c83a01fe",
        "colab": {
          "base_uri": "https://localhost:8080/"
        }
      },
      "source": [
        "sketch = np.repeat(0, hashes * width)\n",
        "getsizeof_r(sketch)\n",
        "\n",
        "for animal in parade:\n",
        "  for h in range(hashes):\n",
        "    hashed = mmh3.hash(animal, seed=h)\n",
        "    index = hashed % width\n",
        "    sketch[h * width + index] = sketch[h * width + index] + 1\n",
        "print(f'Size of {getsizeof_r(sketch)}')"
      ],
      "execution_count": 36,
      "outputs": [
        {
          "output_type": "stream",
          "text": [
            "Size of 960\n"
          ],
          "name": "stdout"
        }
      ]
    },
    {
      "cell_type": "markdown",
      "metadata": {
        "id": "SBI5ZNuJCBOg"
      },
      "source": [
        "### Estimating Counts"
      ]
    },
    {
      "cell_type": "code",
      "metadata": {
        "id": "IQe40f-fX9SL",
        "outputId": "f570d8dc-59b9-48d9-ca64-f20c446ac1f5",
        "colab": {
          "base_uri": "https://localhost:8080/"
        }
      },
      "source": [
        "results = {}\n",
        "for animal in animals:\n",
        "  min = items\n",
        "  for h in range(hashes):\n",
        "    hashed = mmh3.hash(animal, seed=h)\n",
        "    index = hashed % width\n",
        "    value = sketch[h * width + index]\n",
        "    if value < min:\n",
        "      min = value\n",
        "  results[animal] = min\n",
        "results"
      ],
      "execution_count": 37,
      "outputs": [
        {
          "output_type": "execute_result",
          "data": {
            "text/plain": [
              "{'beaver': 2625,\n",
              " 'bird': 4921,\n",
              " 'cat': 4984,\n",
              " 'cow': 2560,\n",
              " 'dog': 2468,\n",
              " 'eagle': 5001,\n",
              " 'elephant': 2521,\n",
              " 'fish': 4884,\n",
              " 'goat': 2537,\n",
              " 'lion': 2562,\n",
              " 'monkey': 2461,\n",
              " 'mouse': 2455,\n",
              " 'otter': 2474,\n",
              " 'rabbit': 2514,\n",
              " 'rat': 2409,\n",
              " 'shark': 2502,\n",
              " 'tiger': 2484,\n",
              " 'toad': 2474,\n",
              " 'turtle': 2518,\n",
              " 'yak': 2451}"
            ]
          },
          "metadata": {
            "tags": []
          },
          "execution_count": 37
        }
      ]
    },
    {
      "cell_type": "markdown",
      "metadata": {
        "id": "KckG6ZE5MBla"
      },
      "source": [
        "## Examples"
      ]
    },
    {
      "cell_type": "code",
      "metadata": {
        "id": "iRDIRgpzbC7E",
        "outputId": "15c66c5e-0109-490c-97bf-e43e7015c230",
        "colab": {
          "base_uri": "https://localhost:8080/"
        }
      },
      "source": [
        "cms = CountMinSketch(5, 20)\n",
        "d = {}\n",
        "\n",
        "for animal in parade:\n",
        "  d.setdefault(animal, 0)\n",
        "  d[animal] = d[animal] + 1\n",
        "  cms.add(animal)\n",
        "\n",
        "for animal in animals:\n",
        "  print(animal, cms.frequency(animal))"
      ],
      "execution_count": 38,
      "outputs": [
        {
          "output_type": "stream",
          "text": [
            "dog 2468\n",
            "cat 4998\n",
            "mouse 2455\n",
            "bird 2460\n",
            "tiger 7475\n",
            "lion 7475\n",
            "otter 2474\n",
            "rat 4946\n",
            "toad 4998\n",
            "elephant 2521\n",
            "eagle 2572\n",
            "beaver 2625\n",
            "yak 2451\n",
            "fish 7475\n",
            "rabbit 2514\n",
            "cow 2560\n",
            "goat 4946\n",
            "monkey 2461\n",
            "shark 2502\n",
            "turtle 2518\n"
          ],
          "name": "stdout"
        }
      ]
    },
    {
      "cell_type": "code",
      "metadata": {
        "id": "LInG0srVc6Fd",
        "outputId": "5725d76e-154c-4a21-d72c-ee4c35a535a2",
        "colab": {
          "base_uri": "https://localhost:8080/"
        }
      },
      "source": [
        "cms = CountMinSketch(5, 100)\n",
        "d = {}\n",
        "\n",
        "for animal in parade:\n",
        "  d.setdefault(animal, 0)\n",
        "  d[animal] = d[animal] + 1\n",
        "  cms.add(animal)\n",
        "\n",
        "for animal in animals:\n",
        "  print(animal, cms.frequency(animal))"
      ],
      "execution_count": 39,
      "outputs": [
        {
          "output_type": "stream",
          "text": [
            "dog 2468\n",
            "cat 2524\n",
            "mouse 2455\n",
            "bird 2460\n",
            "tiger 4913\n",
            "lion 2562\n",
            "otter 2474\n",
            "rat 2409\n",
            "toad 2474\n",
            "elephant 2521\n",
            "eagle 2572\n",
            "beaver 2625\n",
            "yak 2451\n",
            "fish 4913\n",
            "rabbit 2514\n",
            "cow 2560\n",
            "goat 2537\n",
            "monkey 2461\n",
            "shark 2502\n",
            "turtle 2518\n"
          ],
          "name": "stdout"
        }
      ]
    },
    {
      "cell_type": "markdown",
      "metadata": {
        "id": "8pU_ykXDMBiN"
      },
      "source": [
        "## Considerations\n",
        "* Advantages\n",
        "  * Similar to Bloom Filters\n",
        "  * By design, they can never undercount\n",
        "  * Parallelizable\n",
        "* Disadvantages\n",
        "  * Biased estimator\n",
        "  * They are prone to overcount when not sized\n",
        "  * There are variations to counter bias"
      ]
    },
    {
      "cell_type": "markdown",
      "metadata": {
        "id": "o95zsB84CjNJ"
      },
      "source": [
        "# Q-Digest\n",
        "* Addresses the quantile problem\n",
        "* To perfectly compute a quantile, we need to keep a list of the values in sorted order\n",
        "* That requires a large memory space, and computationally intensive to keep sorted"
      ]
    },
    {
      "cell_type": "markdown",
      "metadata": {
        "id": "GiOXyoKCV4NT"
      },
      "source": [
        "## Internals\n",
        "* Tackles quantile problem using a histogram\n",
        "* Implemented with a binary tree structure\n",
        "* The leaf nodes of the tree are values\n",
        "* The tree maintains the buckets (values) by:\n",
        "  * Merging small buckets\n",
        "  * Splitting large buckets"
      ]
    },
    {
      "cell_type": "markdown",
      "metadata": {
        "id": "IBdguNWZV7hY"
      },
      "source": [
        "## Examples"
      ]
    },
    {
      "cell_type": "code",
      "metadata": {
        "id": "BugZNJwnWuge",
        "outputId": "bbfea7bd-0212-413f-abc4-fb8ede559ea6",
        "colab": {
          "base_uri": "https://localhost:8080/"
        }
      },
      "source": [
        "values = []\n",
        "qd     = QuantileDigest(7, 10) # Bytes, Depth\n",
        "\n",
        "for i in range(100000):\n",
        "  item = random.randrange(0, 100)\n",
        "  qd.add(item)\n",
        "  values.append(item)\n",
        "qd.compress()\n",
        "\n",
        "print(f'Median   {qd.quantile_query(0.5)}')\n",
        "print(f'Inverse  {qd.inverse_quantile_query(50):,}')\n",
        "print(f'Interval {qd.interval_query(0, 25):,}')"
      ],
      "execution_count": 43,
      "outputs": [
        {
          "output_type": "stream",
          "text": [
            "Median   55\n",
            "Inverse  47,508\n",
            "Interval 23,754\n"
          ],
          "name": "stdout"
        }
      ]
    },
    {
      "cell_type": "code",
      "metadata": {
        "id": "Nv3_rqtTbwK-",
        "outputId": "467f734b-7ef1-4236-d60d-ff9f9654e182",
        "colab": {
          "base_uri": "https://localhost:8080/"
        }
      },
      "source": [
        "print(f'Array   {sys.getsizeof(values)}')\n",
        "print(f'QDigest {sys.getsizeof(qd)}')"
      ],
      "execution_count": 46,
      "outputs": [
        {
          "output_type": "stream",
          "text": [
            "Array   824464\n",
            "QDigest 96\n"
          ],
          "name": "stdout"
        }
      ]
    },
    {
      "cell_type": "markdown",
      "metadata": {
        "id": "bcddxfPWV8zB"
      },
      "source": [
        "## Considerations\n",
        "* Advantages\n",
        "  * Fixed space\n",
        "  * Probabilistic quantiles\n",
        "  * Fast insert time\n",
        "  * Have to compress\n",
        "* Disadvantages\n",
        "  * Trade-off precision"
      ]
    },
    {
      "cell_type": "code",
      "metadata": {
        "id": "TQz0XvRaV91X"
      },
      "source": [
        ""
      ],
      "execution_count": 40,
      "outputs": []
    }
  ]
}