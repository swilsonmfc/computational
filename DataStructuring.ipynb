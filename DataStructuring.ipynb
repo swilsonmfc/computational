{
  "nbformat": 4,
  "nbformat_minor": 0,
  "metadata": {
    "colab": {
      "name": "DataStructuring.ipynb",
      "provenance": [],
      "authorship_tag": "ABX9TyPiANes6HmARZHT10O0Bs1z",
      "include_colab_link": true
    },
    "kernelspec": {
      "name": "python3",
      "display_name": "Python 3"
    }
  },
  "cells": [
    {
      "cell_type": "markdown",
      "metadata": {
        "id": "view-in-github",
        "colab_type": "text"
      },
      "source": [
        "<a href=\"https://colab.research.google.com/github/swilsonmfc/computational/blob/master/DataStructuring.ipynb\" target=\"_parent\"><img src=\"https://colab.research.google.com/assets/colab-badge.svg\" alt=\"Open In Colab\"/></a>"
      ]
    },
    {
      "cell_type": "markdown",
      "metadata": {
        "id": "i_oZdlXsjTl5",
        "colab_type": "text"
      },
      "source": [
        "# Data Structuring\n",
        "* Parsing & processing data for machine learning\n",
        "  * Needs can move past pandas\n",
        "  * Nested structures\n",
        "  * Real-time systems\n",
        "* Options - Lots of structures to choose from\n",
        "  * Dictionaries\n",
        "  * Tuples, Named Tuples\n",
        "  * Classes\n",
        "  * Data Classes\n",
        "  * Attrs\n",
        "* Evaluation Concerns\n",
        "  * Type Safety  - Can we enforce numeric / string\n",
        "  * Readability  - Degree to which we can understand the code\n",
        "  * Immuatable   - Can we guard against accidental changes\n",
        "  * Construction - Easy it easy to build our structure"
      ]
    },
    {
      "cell_type": "markdown",
      "metadata": {
        "id": "ajN6Zi8nlKHK",
        "colab_type": "text"
      },
      "source": [
        "# Setup"
      ]
    },
    {
      "cell_type": "code",
      "metadata": {
        "id": "EQePYVI6QZ9Y",
        "colab_type": "code",
        "colab": {
          "base_uri": "https://localhost:8080/",
          "height": 34
        },
        "outputId": "597ec0c4-82f1-43e8-aaf0-d711d224d051"
      },
      "source": [
        "pip install attrs"
      ],
      "execution_count": 1,
      "outputs": [
        {
          "output_type": "stream",
          "text": [
            "Requirement already satisfied: attrs in /usr/local/lib/python3.6/dist-packages (19.3.0)\n"
          ],
          "name": "stdout"
        }
      ]
    },
    {
      "cell_type": "code",
      "metadata": {
        "id": "C-Q10-RQlK87",
        "colab_type": "code",
        "colab": {}
      },
      "source": [
        "import sys\n",
        "from pprint import pprint as pp\n",
        "from collections import namedtuple\n",
        "\n",
        "from dataclasses import dataclass\n",
        "from dataclasses import field\n",
        "from typing import List\n",
        "\n",
        "import attr"
      ],
      "execution_count": 2,
      "outputs": []
    },
    {
      "cell_type": "markdown",
      "metadata": {
        "id": "_D_hd-UzQEAw",
        "colab_type": "text"
      },
      "source": [
        "# Trip Model\n",
        "* A trip has flights, hotels and car rentals\n",
        "* Flight\n",
        "  * Departure Airport, Date, Time\n",
        "  * Arrival Airport, Date, Time\n",
        "  * Airline, Flight Number\n",
        "* Hotel\n",
        "  * Property\n",
        "  * Room Type\n",
        "  * Checkin, Checkout\n",
        "* Car\n",
        "  * Company\n",
        "  * Location\n",
        "  * Car type\n",
        "  * Pickup, Dropoff"
      ]
    },
    {
      "cell_type": "markdown",
      "metadata": {
        "id": "zKwd-jdujhIq",
        "colab_type": "text"
      },
      "source": [
        "# Tuples\n",
        "* Tuples offer a way of grouping data together\n",
        "* Tuples are immutable\n",
        "* They lack type safety\n",
        "* They lack readability"
      ]
    },
    {
      "cell_type": "code",
      "metadata": {
        "id": "8-gDp8_JSkN3",
        "colab_type": "code",
        "colab": {}
      },
      "source": [
        "flight = ('PDX', 'LAX', '2020-10-01 12:00', '2020-10-01 15:00', 'AS', '231')\n",
        "hotel  = ('Marriott', 'King', '2020-10-01', '2020-10-05')\n",
        "trip = [flight, hotel]"
      ],
      "execution_count": 3,
      "outputs": []
    },
    {
      "cell_type": "code",
      "metadata": {
        "id": "bvBZP-QqTCom",
        "colab_type": "code",
        "colab": {
          "base_uri": "https://localhost:8080/",
          "height": 51
        },
        "outputId": "1f25f467-406f-4f05-fa0d-6ef0f892fc9c"
      },
      "source": [
        "pp(trip)"
      ],
      "execution_count": 4,
      "outputs": [
        {
          "output_type": "stream",
          "text": [
            "[('PDX', 'LAX', '2020-10-01 12:00', '2020-10-01 15:00', 'AS', '231'),\n",
            " ('Marriott', 'King', '2020-10-01', '2020-10-05')]\n"
          ],
          "name": "stdout"
        }
      ]
    },
    {
      "cell_type": "code",
      "metadata": {
        "id": "cGtAY1n9UCZQ",
        "colab_type": "code",
        "colab": {}
      },
      "source": [
        "# Add a car"
      ],
      "execution_count": 5,
      "outputs": []
    },
    {
      "cell_type": "markdown",
      "metadata": {
        "id": "4tFbC0wIjbaM",
        "colab_type": "text"
      },
      "source": [
        "# Dictionary\n",
        "* Advantages\n",
        "  * Allow for flexible modeling\n",
        "  * Easy to capture new / different requirements\n",
        "  * Key - Value pairs add to expressiveness\n",
        "* Disadvantages\n",
        "  * Construction defines structure\n",
        "  * Doesn't offer type safety\n",
        "  * Mutable data type\n",
        "* Fine for prototyping\n",
        "* Avoid when complexity increases"
      ]
    },
    {
      "cell_type": "code",
      "metadata": {
        "id": "HnTemwJYQ2fb",
        "colab_type": "code",
        "colab": {}
      },
      "source": [
        "trip = {}\n",
        "trip['Flights'] = []\n",
        "trip['Hotels']  = []\n",
        "trip['Cars']    = []\n",
        "\n",
        "flight = {}\n",
        "flight['Departure'] = {}\n",
        "flight['Departure']['Airport'] = 'PDX'\n",
        "flight['Departure']['Departs'] = '2020-10-01 12:00'\n",
        "flight['Arrival']  = {}\n",
        "flight['Arrival']['Airport'] = 'LAX'\n",
        "flight['Arrival']['Arrives'] = '2020-10-01 15:00'\n",
        "flight['Airline'] = 'AS'\n",
        "flight['FlightNumber'] = '231'\n",
        "trip['Flights'].append(flight)\n",
        "\n",
        "hotel = {}\n",
        "hotel['Property'] = 'Marriott'\n",
        "hotel['Room'] = 'King'\n",
        "hotel['Checkin']  = '2020-10-01'\n",
        "hotel['Checkout'] = '2020-10-05'\n",
        "trip['Hotels'].append(hotel)"
      ],
      "execution_count": 6,
      "outputs": []
    },
    {
      "cell_type": "code",
      "metadata": {
        "id": "GoUzvpVsTgVd",
        "colab_type": "code",
        "colab": {
          "base_uri": "https://localhost:8080/",
          "height": 170
        },
        "outputId": "e938c083-567b-4e50-898f-f8e033b0989e"
      },
      "source": [
        "pp(trip)"
      ],
      "execution_count": 7,
      "outputs": [
        {
          "output_type": "stream",
          "text": [
            "{'Cars': [],\n",
            " 'Flights': [{'Airline': 'AS',\n",
            "              'Arrival': {'Airport': 'LAX', 'Arrives': '2020-10-01 15:00'},\n",
            "              'Departure': {'Airport': 'PDX', 'Departs': '2020-10-01 12:00'},\n",
            "              'FlightNumber': '231'}],\n",
            " 'Hotels': [{'Checkin': '2020-10-01',\n",
            "             'Checkout': '2020-10-05',\n",
            "             'Property': 'Marriott',\n",
            "             'Room': 'King'}]}\n"
          ],
          "name": "stdout"
        }
      ]
    },
    {
      "cell_type": "code",
      "metadata": {
        "id": "_WJmJGapUAB-",
        "colab_type": "code",
        "colab": {}
      },
      "source": [
        "# Add a car"
      ],
      "execution_count": 8,
      "outputs": []
    },
    {
      "cell_type": "markdown",
      "metadata": {
        "id": "LgdtZa2sjiV_",
        "colab_type": "text"
      },
      "source": [
        "# Named Tuples\n",
        "* Named tuples allow us to merge readability with immutability\n",
        "* They're more friendly for construction"
      ]
    },
    {
      "cell_type": "code",
      "metadata": {
        "id": "zbzt3KncUdpP",
        "colab_type": "code",
        "colab": {}
      },
      "source": [
        "Departure = namedtuple('Departure', 'Airport Departs')\n",
        "Arrival   = namedtuple('Arrival', 'Airport Arrives')\n",
        "Flight    = namedtuple('Flight', 'Departure Arrival Airline FlightNumber')\n",
        "Hotel     = namedtuple('Hotel', 'Property Room Checkin Checkout')"
      ],
      "execution_count": 9,
      "outputs": []
    },
    {
      "cell_type": "code",
      "metadata": {
        "id": "6E-vSn_CV6oQ",
        "colab_type": "code",
        "colab": {}
      },
      "source": [
        "flight = Flight(Departure('PDX', '2020-10-01 12:00'), Arrival('LAX', '2020-10-01 15:00'), 'AS', '231')\n",
        "hotel  = Hotel('Marriott', 'King', '2020-10-01', '2020-10-05')\n",
        "trip   = [flight, hotel]"
      ],
      "execution_count": 10,
      "outputs": []
    },
    {
      "cell_type": "code",
      "metadata": {
        "id": "NCyugPAdWruO",
        "colab_type": "code",
        "colab": {
          "base_uri": "https://localhost:8080/",
          "height": 71
        },
        "outputId": "4fb4c3da-bb5e-402d-b4e0-2d646d855594"
      },
      "source": [
        "pp(trip)"
      ],
      "execution_count": 11,
      "outputs": [
        {
          "output_type": "stream",
          "text": [
            "[Flight(Departure=Departure(Airport='PDX', Departs='2020-10-01 12:00'), Arrival=Arrival(Airport='LAX', Arrives='2020-10-01 15:00'), Airline='AS', FlightNumber='231'),\n",
            " Hotel(Property='Marriott', Room='King', Checkin='2020-10-01', Checkout='2020-10-05')]\n"
          ],
          "name": "stdout"
        }
      ]
    },
    {
      "cell_type": "code",
      "metadata": {
        "id": "ljSRiJjDW1bk",
        "colab_type": "code",
        "colab": {}
      },
      "source": [
        "# Add a car"
      ],
      "execution_count": 12,
      "outputs": []
    },
    {
      "cell_type": "markdown",
      "metadata": {
        "id": "MasMP8O8jiSR",
        "colab_type": "text"
      },
      "source": [
        "# Classes\n",
        "* Classes allow up to dramatically increase our readability\n",
        "* We can add behaviors (with functions)\n",
        "* We can avoid duplication (Departure / Arrival)\n",
        "* Amount of code increases "
      ]
    },
    {
      "cell_type": "code",
      "metadata": {
        "id": "e3AMWpyzXlGE",
        "colab_type": "code",
        "colab": {}
      },
      "source": [
        "class Airport():\n",
        "  def __init__(self, code):\n",
        "    self.code = code\n",
        "\n",
        "class Location():\n",
        "  def __init__(self, airport, date):\n",
        "    self.airport = airport\n",
        "    self.date = date\n",
        "\n",
        "class Flight():\n",
        "  def __init__(self, departure, arrival, airline, flight_number):\n",
        "    self.departure = departure\n",
        "    self.arrival = arrival\n",
        "    self.airline = airline\n",
        "    self.flight_number = flight_number\n",
        "\n",
        "class Hotel():\n",
        "  def __init__(self, property, room, checkin, checkout):\n",
        "    self.property = property\n",
        "    self.room = room\n",
        "    self.checkin = checkin\n",
        "    self.checkout = checkout\n",
        "\n",
        "class Trip():\n",
        "  def __init__(self):\n",
        "    self.flights = []\n",
        "    self.hotels  = []\n",
        "  \n",
        "  def add_flight(self, flight):\n",
        "    self.flights.append(flight)\n",
        "  \n",
        "  def add_hotel(self, hotel):\n",
        "    self.hotels.append(hotel)"
      ],
      "execution_count": 13,
      "outputs": []
    },
    {
      "cell_type": "code",
      "metadata": {
        "id": "aT2KolheYnva",
        "colab_type": "code",
        "colab": {}
      },
      "source": [
        "flight = Flight(departure=Location('PDX', '2020-10-01 12:00'),\n",
        "                arrival=Location('LAX', '2020-10-01 15:00'),\n",
        "                airline='AS',\n",
        "                flight_number='231')\n",
        "hotel = Hotel('Marriott', 'King', '2020-10-01', '2020-10-05')\n",
        "\n",
        "trip = Trip()\n",
        "trip.add_flight(flight)\n",
        "trip.add_hotel(hotel)"
      ],
      "execution_count": 14,
      "outputs": []
    },
    {
      "cell_type": "code",
      "metadata": {
        "id": "hAwphHP0ZVBK",
        "colab_type": "code",
        "colab": {
          "base_uri": "https://localhost:8080/",
          "height": 34
        },
        "outputId": "05ae1332-49b5-43b0-f958-521b66f32d49"
      },
      "source": [
        "pp(trip)"
      ],
      "execution_count": 15,
      "outputs": [
        {
          "output_type": "stream",
          "text": [
            "<__main__.Trip object at 0x7fcae44d0278>\n"
          ],
          "name": "stdout"
        }
      ]
    },
    {
      "cell_type": "code",
      "metadata": {
        "id": "wGKZmjtelceX",
        "colab_type": "code",
        "colab": {}
      },
      "source": [
        "# Add a car"
      ],
      "execution_count": 16,
      "outputs": []
    },
    {
      "cell_type": "markdown",
      "metadata": {
        "id": "xaoKiK-jQRtr",
        "colab_type": "text"
      },
      "source": [
        "# Data Classes\n",
        "* Reduces python class semantics with easy to follow variables\n",
        "* Easy to annotate (appear more like structures)\n",
        "* Type safety hints\n",
        "* Collections require new syntax"
      ]
    },
    {
      "cell_type": "code",
      "metadata": {
        "id": "U_eTBjBmlmxz",
        "colab_type": "code",
        "colab": {}
      },
      "source": [
        "@dataclass\n",
        "class Location:\n",
        "    airport: str\n",
        "    date: str\n",
        "\n",
        "@dataclass\n",
        "class Flight:\n",
        "  departure: Location\n",
        "  arrival: Location\n",
        "  airline: str\n",
        "  flight_number: str\n",
        "\n",
        "@dataclass\n",
        "class Hotel:\n",
        "  property: str\n",
        "  room: str\n",
        "  checkin: str\n",
        "  checkout: str\n",
        "\n",
        "@dataclass\n",
        "class Trip:\n",
        "  flights: List[Flight] = field(default_factory=list)\n",
        "  hotels:  List[Hotel] = field(default_factory=list)\n",
        "\n",
        "  def add_flight(self, flight):\n",
        "    self.flights.append(flight)\n",
        "\n",
        "  def add_hotel(self, hotel):\n",
        "    self.hotels.append(hotel)"
      ],
      "execution_count": 17,
      "outputs": []
    },
    {
      "cell_type": "code",
      "metadata": {
        "id": "n8MrDI2cmdwo",
        "colab_type": "code",
        "colab": {
          "base_uri": "https://localhost:8080/",
          "height": 54
        },
        "outputId": "950fed33-42be-484f-e7ff-93ddc7a62a72"
      },
      "source": [
        "flight = Flight(Location('PDX', '2020-10-01 12:00'),\n",
        "                Location('LAX', '2020-10-01 15:00'),\n",
        "                'AS',\n",
        "                '231')\n",
        "hotel = Hotel('Marriott', 'King', '2020-10-01', '2020-10-05')\n",
        "\n",
        "trip = Trip()\n",
        "trip.add_flight(flight)\n",
        "trip.add_hotel(hotel)\n",
        "\n",
        "pp(trip)"
      ],
      "execution_count": 18,
      "outputs": [
        {
          "output_type": "stream",
          "text": [
            "Trip(flights=[Flight(departure=Location(airport='PDX', date='2020-10-01 12:00'), arrival=Location(airport='LAX', date='2020-10-01 15:00'), airline='AS', flight_number='231')], hotels=[Hotel(property='Marriott', room='King', checkin='2020-10-01', checkout='2020-10-05')])\n"
          ],
          "name": "stdout"
        }
      ]
    },
    {
      "cell_type": "code",
      "metadata": {
        "id": "IPvWahPrpN2p",
        "colab_type": "code",
        "colab": {}
      },
      "source": [
        "# Add car"
      ],
      "execution_count": 19,
      "outputs": []
    },
    {
      "cell_type": "markdown",
      "metadata": {
        "id": "8UMzFfPPjiPM",
        "colab_type": "text"
      },
      "source": [
        "# Attrs\n",
        "* Classes without boilerplate\n",
        "* Similar to dataclasses\n",
        "* Support immutable (Frozen)\n",
        "* Support for validators"
      ]
    },
    {
      "cell_type": "code",
      "metadata": {
        "id": "vSqYKxKvp6ij",
        "colab_type": "code",
        "colab": {}
      },
      "source": [
        "@attr.s\n",
        "class Trip:\n",
        "  flights = attr.ib(default=attr.Factory(list))\n",
        "  hotels  = attr.ib(default=attr.Factory(list))\n",
        "\n",
        "  def add_flight(self, flight):\n",
        "    self.flights.append(flight)\n",
        "\n",
        "  def add_hotel(self, hotel):\n",
        "    self.hotels.append(hotel)\n",
        "\n",
        "@attr.s\n",
        "class Location:\n",
        "  airport = attr.ib()\n",
        "  date = attr.ib()\n",
        "\n",
        "@attr.s\n",
        "class Flight:\n",
        "  departure = attr.ib(Location)\n",
        "  arrival = attr.ib(Location)\n",
        "  airline = attr.ib(str)\n",
        "  flight_number = attr.ib(str)\n",
        "\n",
        "@attr.s\n",
        "class Hotel:\n",
        "  property = attr.ib()\n",
        "  room = attr.ib()\n",
        "  checkin = attr.ib()\n",
        "  checkout = attr.ib()"
      ],
      "execution_count": 20,
      "outputs": []
    },
    {
      "cell_type": "code",
      "metadata": {
        "id": "yAMPNPTGqvCY",
        "colab_type": "code",
        "colab": {
          "base_uri": "https://localhost:8080/",
          "height": 54
        },
        "outputId": "1fba5d63-779d-45ff-d410-7ce9bbeca623"
      },
      "source": [
        "flight = Flight(Location('PDX', '2020-10-01 12:00'),\n",
        "                Location('LAX', '2020-10-01 15:00'),\n",
        "                'AS',\n",
        "                '231')\n",
        "hotel = Hotel('Marriott', 'King', '2020-10-01', '2020-10-05')\n",
        "\n",
        "trip = Trip()\n",
        "trip.add_flight(flight)\n",
        "trip.add_hotel(hotel)\n",
        "\n",
        "pp(trip)"
      ],
      "execution_count": 21,
      "outputs": [
        {
          "output_type": "stream",
          "text": [
            "Trip(flights=[Flight(departure=Location(airport='PDX', date='2020-10-01 12:00'), arrival=Location(airport='LAX', date='2020-10-01 15:00'), airline='AS', flight_number='231')], hotels=[Hotel(property='Marriott', room='King', checkin='2020-10-01', checkout='2020-10-05')])\n"
          ],
          "name": "stdout"
        }
      ]
    },
    {
      "cell_type": "code",
      "metadata": {
        "id": "ZkiEYyLtsBJF",
        "colab_type": "code",
        "colab": {}
      },
      "source": [
        "# Add car"
      ],
      "execution_count": 22,
      "outputs": []
    },
    {
      "cell_type": "markdown",
      "metadata": {
        "id": "g-t_NzqjsC-Z",
        "colab_type": "text"
      },
      "source": [
        "## Immutable"
      ]
    },
    {
      "cell_type": "code",
      "metadata": {
        "id": "9wT0xWvwq-us",
        "colab_type": "code",
        "colab": {}
      },
      "source": [
        "@attr.s(frozen=True)\n",
        "class ImmutableFlight:\n",
        "  departure = attr.ib(Location)\n",
        "  arrival = attr.ib(Location)\n",
        "  airline = attr.ib(str)\n",
        "  flight_number = attr.ib(str)\n",
        "\n",
        "f = ImmutableFlight(Location('PDX', '2020-10-01 12:00'),\n",
        "                    Location('LAX', '2020-10-01 15:00'),\n",
        "                    airline='AS',\n",
        "                    flight_number='231')\n",
        "# f.flight_number = '2231'"
      ],
      "execution_count": 23,
      "outputs": []
    },
    {
      "cell_type": "markdown",
      "metadata": {
        "id": "aHc8QIIWssPP",
        "colab_type": "text"
      },
      "source": [
        "## Validation"
      ]
    },
    {
      "cell_type": "code",
      "metadata": {
        "id": "w3t09Gz4sueA",
        "colab_type": "code",
        "colab": {}
      },
      "source": [
        "\n",
        "@attr.s(frozen=True)\n",
        "class ImmutableValidatingFlight:\n",
        "  departure = attr.ib(Location)\n",
        "  arrival = attr.ib(Location)\n",
        "  airline = attr.ib(str)\n",
        "  flight_number = attr.ib(str)\n",
        "\n",
        "  @flight_number.validator\n",
        "  def valid_flight(self, attribute, value):\n",
        "    num = int(value)\n",
        "    if num < 0 or num > 9999:\n",
        "      raise ValueError('Flight must be integer from 1 and 9999')\n",
        "\n",
        "f = ImmutableValidatingFlight(Location('PDX', '2020-10-01 12:00'),\n",
        "                    Location('LAX', '2020-10-01 15:00'),\n",
        "                    airline='AS',\n",
        "                    flight_number=231)"
      ],
      "execution_count": 24,
      "outputs": []
    }
  ]
}