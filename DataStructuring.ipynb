{
  "nbformat": 4,
  "nbformat_minor": 0,
  "metadata": {
    "colab": {
      "name": "DataStructuring.ipynb",
      "provenance": [],
      "collapsed_sections": [],
      "authorship_tag": "ABX9TyM6LAU5OLJpnrSi2540syNP",
      "include_colab_link": true
    },
    "kernelspec": {
      "name": "python3",
      "display_name": "Python 3"
    }
  },
  "cells": [
    {
      "cell_type": "markdown",
      "metadata": {
        "id": "view-in-github",
        "colab_type": "text"
      },
      "source": [
        "<a href=\"https://colab.research.google.com/github/swilsonmfc/computational/blob/master/DataStructuring.ipynb\" target=\"_parent\"><img src=\"https://colab.research.google.com/assets/colab-badge.svg\" alt=\"Open In Colab\"/></a>"
      ]
    },
    {
      "cell_type": "markdown",
      "metadata": {
        "id": "i_oZdlXsjTl5",
        "colab_type": "text"
      },
      "source": [
        "# Data Structuring\n",
        "* Parsing & processing data for machine learning\n",
        "  * Needs can move past pandas\n",
        "  * Nested structures\n",
        "  * Real-time systems\n",
        "* Options - Lots of structures to choose from\n",
        "  * Dictionaries\n",
        "  * Tuples, Named Tuples\n",
        "  * Classes\n",
        "  * Data Classes\n",
        "  * Attrs\n",
        "* Evaluation Concerns\n",
        "  * Type Safety  - Can we enforce numeric / string\n",
        "  * Readability  - Degree to which we can understand the code\n",
        "  * Immuatable   - Can we guard against accidental changes\n",
        "  * Construction - Easy it easy to build our structure"
      ]
    },
    {
      "cell_type": "markdown",
      "metadata": {
        "id": "ajN6Zi8nlKHK",
        "colab_type": "text"
      },
      "source": [
        "# Setup"
      ]
    },
    {
      "cell_type": "code",
      "metadata": {
        "id": "EQePYVI6QZ9Y",
        "colab_type": "code",
        "colab": {
          "base_uri": "https://localhost:8080/",
          "height": 34
        },
        "outputId": "25cd6868-3096-4a1d-9cbd-08a9ab7816e2"
      },
      "source": [
        "pip install attrs"
      ],
      "execution_count": 65,
      "outputs": [
        {
          "output_type": "stream",
          "text": [
            "Requirement already satisfied: attrs in /usr/local/lib/python3.6/dist-packages (19.3.0)\n"
          ],
          "name": "stdout"
        }
      ]
    },
    {
      "cell_type": "code",
      "metadata": {
        "id": "oiDSHepSorCk",
        "colab_type": "code",
        "colab": {
          "base_uri": "https://localhost:8080/",
          "height": 51
        },
        "outputId": "3b97ad0f-088c-4d39-dc8d-887249112e91"
      },
      "source": [
        "pip install pydantic"
      ],
      "execution_count": 66,
      "outputs": [
        {
          "output_type": "stream",
          "text": [
            "Requirement already satisfied: pydantic in /usr/local/lib/python3.6/dist-packages (1.6.1)\n",
            "Requirement already satisfied: dataclasses>=0.6; python_version < \"3.7\" in /usr/local/lib/python3.6/dist-packages (from pydantic) (0.7)\n"
          ],
          "name": "stdout"
        }
      ]
    },
    {
      "cell_type": "code",
      "metadata": {
        "id": "C-Q10-RQlK87",
        "colab_type": "code",
        "colab": {}
      },
      "source": [
        "import sys\n",
        "from pprint import pprint as pp\n",
        "from collections import namedtuple\n",
        "\n",
        "from dataclasses import dataclass\n",
        "from dataclasses import field\n",
        "\n",
        "from typing import Optional\n",
        "from typing import List\n",
        "\n",
        "from pydantic import BaseModel\n",
        "\n",
        "import attr "
      ],
      "execution_count": 67,
      "outputs": []
    },
    {
      "cell_type": "markdown",
      "metadata": {
        "id": "_D_hd-UzQEAw",
        "colab_type": "text"
      },
      "source": [
        "# Trip Model\n",
        "* A trip has flights, hotels and car rentals\n",
        "* Flight\n",
        "  * Departure Airport, Date, Time\n",
        "  * Arrival Airport, Date, Time\n",
        "  * Airline, Flight Number\n",
        "* Hotel\n",
        "  * Property\n",
        "  * Room Type\n",
        "  * Checkin, Checkout\n",
        "* Car\n",
        "  * Company\n",
        "  * Location\n",
        "  * Car type\n",
        "  * Pickup, Dropoff"
      ]
    },
    {
      "cell_type": "markdown",
      "metadata": {
        "id": "zKwd-jdujhIq",
        "colab_type": "text"
      },
      "source": [
        "# Tuples\n",
        "* Tuples offer a way of grouping data together\n",
        "* Tuples are immutable\n",
        "* They lack type safety\n",
        "* They lack readability"
      ]
    },
    {
      "cell_type": "code",
      "metadata": {
        "id": "8-gDp8_JSkN3",
        "colab_type": "code",
        "colab": {}
      },
      "source": [
        "flight = ('PDX', 'LAX', '2020-10-01 12:00', '2020-10-01 15:00', 'AS', '231')\n",
        "hotel  = ('Marriott', 'King', '2020-10-01', '2020-10-05')\n",
        "trip = [flight, hotel]"
      ],
      "execution_count": 68,
      "outputs": []
    },
    {
      "cell_type": "code",
      "metadata": {
        "id": "bvBZP-QqTCom",
        "colab_type": "code",
        "colab": {
          "base_uri": "https://localhost:8080/",
          "height": 51
        },
        "outputId": "ce41f83a-acf6-4cc8-f2f1-77fa0cf40467"
      },
      "source": [
        "pp(trip)"
      ],
      "execution_count": 69,
      "outputs": [
        {
          "output_type": "stream",
          "text": [
            "[('PDX', 'LAX', '2020-10-01 12:00', '2020-10-01 15:00', 'AS', '231'),\n",
            " ('Marriott', 'King', '2020-10-01', '2020-10-05')]\n"
          ],
          "name": "stdout"
        }
      ]
    },
    {
      "cell_type": "code",
      "metadata": {
        "id": "cGtAY1n9UCZQ",
        "colab_type": "code",
        "colab": {}
      },
      "source": [
        "# Add a car"
      ],
      "execution_count": 70,
      "outputs": []
    },
    {
      "cell_type": "markdown",
      "metadata": {
        "id": "4tFbC0wIjbaM",
        "colab_type": "text"
      },
      "source": [
        "# Dictionary\n",
        "* Advantages\n",
        "  * Allow for flexible modeling\n",
        "  * Easy to capture new / different requirements\n",
        "  * Key - Value pairs add to expressiveness\n",
        "* Disadvantages\n",
        "  * Construction defines structure\n",
        "  * Doesn't offer type safety\n",
        "  * Mutable data type\n",
        "* Fine for prototyping\n",
        "* Avoid when complexity increases"
      ]
    },
    {
      "cell_type": "code",
      "metadata": {
        "id": "HnTemwJYQ2fb",
        "colab_type": "code",
        "colab": {}
      },
      "source": [
        "trip = {}\n",
        "trip['Flights'] = []\n",
        "trip['Hotels']  = []\n",
        "trip['Cars']    = []\n",
        "\n",
        "flight = {}\n",
        "flight['Departure'] = {}\n",
        "flight['Departure']['Airport'] = 'PDX'\n",
        "flight['Departure']['Departs'] = '2020-10-01 12:00'\n",
        "flight['Arrival']  = {}\n",
        "flight['Arrival']['Airport'] = 'LAX'\n",
        "flight['Arrival']['Arrives'] = '2020-10-01 15:00'\n",
        "flight['Airline'] = 'AS'\n",
        "flight['FlightNumber'] = '231'\n",
        "trip['Flights'].append(flight)\n",
        "\n",
        "hotel = {}\n",
        "hotel['Property'] = 'Marriott'\n",
        "hotel['Room'] = 'King'\n",
        "hotel['Checkin']  = '2020-10-01'\n",
        "hotel['Checkout'] = '2020-10-05'\n",
        "trip['Hotels'].append(hotel)"
      ],
      "execution_count": 71,
      "outputs": []
    },
    {
      "cell_type": "code",
      "metadata": {
        "id": "GoUzvpVsTgVd",
        "colab_type": "code",
        "colab": {
          "base_uri": "https://localhost:8080/",
          "height": 170
        },
        "outputId": "389ba977-f778-40f3-f73c-0d079ac7fc41"
      },
      "source": [
        "pp(trip)"
      ],
      "execution_count": 72,
      "outputs": [
        {
          "output_type": "stream",
          "text": [
            "{'Cars': [],\n",
            " 'Flights': [{'Airline': 'AS',\n",
            "              'Arrival': {'Airport': 'LAX', 'Arrives': '2020-10-01 15:00'},\n",
            "              'Departure': {'Airport': 'PDX', 'Departs': '2020-10-01 12:00'},\n",
            "              'FlightNumber': '231'}],\n",
            " 'Hotels': [{'Checkin': '2020-10-01',\n",
            "             'Checkout': '2020-10-05',\n",
            "             'Property': 'Marriott',\n",
            "             'Room': 'King'}]}\n"
          ],
          "name": "stdout"
        }
      ]
    },
    {
      "cell_type": "code",
      "metadata": {
        "id": "_WJmJGapUAB-",
        "colab_type": "code",
        "colab": {}
      },
      "source": [
        "# Add a car"
      ],
      "execution_count": 73,
      "outputs": []
    },
    {
      "cell_type": "markdown",
      "metadata": {
        "id": "LgdtZa2sjiV_",
        "colab_type": "text"
      },
      "source": [
        "# Named Tuples\n",
        "* Named tuples allow us to merge readability with immutability\n",
        "* They're more friendly for construction"
      ]
    },
    {
      "cell_type": "code",
      "metadata": {
        "id": "zbzt3KncUdpP",
        "colab_type": "code",
        "colab": {}
      },
      "source": [
        "Departure = namedtuple('Departure', 'Airport Departs')\n",
        "Arrival   = namedtuple('Arrival', 'Airport Arrives')\n",
        "Flight    = namedtuple('Flight', 'Departure Arrival Airline FlightNumber')\n",
        "Hotel     = namedtuple('Hotel', 'Property Room Checkin Checkout')"
      ],
      "execution_count": 74,
      "outputs": []
    },
    {
      "cell_type": "code",
      "metadata": {
        "id": "6E-vSn_CV6oQ",
        "colab_type": "code",
        "colab": {}
      },
      "source": [
        "flight = Flight(Departure('PDX', '2020-10-01 12:00'), Arrival('LAX', '2020-10-01 15:00'), 'AS', '231')\n",
        "hotel  = Hotel('Marriott', 'King', '2020-10-01', '2020-10-05')\n",
        "trip   = [flight, hotel]"
      ],
      "execution_count": 75,
      "outputs": []
    },
    {
      "cell_type": "code",
      "metadata": {
        "id": "NCyugPAdWruO",
        "colab_type": "code",
        "colab": {
          "base_uri": "https://localhost:8080/",
          "height": 51
        },
        "outputId": "fd14ad8e-eab4-43a3-cb3e-4ee47a118e4e"
      },
      "source": [
        "pp(trip)"
      ],
      "execution_count": 76,
      "outputs": [
        {
          "output_type": "stream",
          "text": [
            "[Flight(Departure=Departure(Airport='PDX', Departs='2020-10-01 12:00'), Arrival=Arrival(Airport='LAX', Arrives='2020-10-01 15:00'), Airline='AS', FlightNumber='231'),\n",
            " Hotel(Property='Marriott', Room='King', Checkin='2020-10-01', Checkout='2020-10-05')]\n"
          ],
          "name": "stdout"
        }
      ]
    },
    {
      "cell_type": "code",
      "metadata": {
        "id": "ljSRiJjDW1bk",
        "colab_type": "code",
        "colab": {}
      },
      "source": [
        "# Add a car"
      ],
      "execution_count": 77,
      "outputs": []
    },
    {
      "cell_type": "markdown",
      "metadata": {
        "id": "MasMP8O8jiSR",
        "colab_type": "text"
      },
      "source": [
        "# Classes\n",
        "* Classes allow up to dramatically increase our readability\n",
        "* We can add behaviors (with functions)\n",
        "* We can avoid duplication (Departure / Arrival)\n",
        "* Amount of code increases "
      ]
    },
    {
      "cell_type": "code",
      "metadata": {
        "id": "e3AMWpyzXlGE",
        "colab_type": "code",
        "colab": {}
      },
      "source": [
        "class Airport():\n",
        "  def __init__(self, code):\n",
        "    self.code = code\n",
        "\n",
        "class Location():\n",
        "  def __init__(self, airport, date):\n",
        "    self.airport = airport\n",
        "    self.date = date\n",
        "\n",
        "class Flight():\n",
        "  def __init__(self, departure, arrival, airline, flight_number):\n",
        "    self.departure = departure\n",
        "    self.arrival = arrival\n",
        "    self.airline = airline\n",
        "    self.flight_number = flight_number\n",
        "\n",
        "class Hotel():\n",
        "  def __init__(self, property, room, checkin, checkout):\n",
        "    self.property = property\n",
        "    self.room = room\n",
        "    self.checkin = checkin\n",
        "    self.checkout = checkout\n",
        "\n",
        "class Trip():\n",
        "  def __init__(self):\n",
        "    self.flights = []\n",
        "    self.hotels  = []\n",
        "  \n",
        "  def add_flight(self, flight):\n",
        "    self.flights.append(flight)\n",
        "  \n",
        "  def add_hotel(self, hotel):\n",
        "    self.hotels.append(hotel)"
      ],
      "execution_count": 78,
      "outputs": []
    },
    {
      "cell_type": "code",
      "metadata": {
        "id": "aT2KolheYnva",
        "colab_type": "code",
        "colab": {}
      },
      "source": [
        "flight = Flight(departure=Location('PDX', '2020-10-01 12:00'),\n",
        "                arrival=Location('LAX', '2020-10-01 15:00'),\n",
        "                airline='AS',\n",
        "                flight_number='231')\n",
        "hotel = Hotel('Marriott', 'King', '2020-10-01', '2020-10-05')\n",
        "\n",
        "trip = Trip()\n",
        "trip.add_flight(flight)\n",
        "trip.add_hotel(hotel)"
      ],
      "execution_count": 79,
      "outputs": []
    },
    {
      "cell_type": "code",
      "metadata": {
        "id": "hAwphHP0ZVBK",
        "colab_type": "code",
        "colab": {
          "base_uri": "https://localhost:8080/",
          "height": 34
        },
        "outputId": "31901ccf-bd72-42e2-acf0-3ab89ae12752"
      },
      "source": [
        "pp(trip)"
      ],
      "execution_count": 80,
      "outputs": [
        {
          "output_type": "stream",
          "text": [
            "<__main__.Trip object at 0x7fc9f10beda0>\n"
          ],
          "name": "stdout"
        }
      ]
    },
    {
      "cell_type": "code",
      "metadata": {
        "id": "wGKZmjtelceX",
        "colab_type": "code",
        "colab": {}
      },
      "source": [
        "# Add a car"
      ],
      "execution_count": 81,
      "outputs": []
    },
    {
      "cell_type": "markdown",
      "metadata": {
        "id": "xaoKiK-jQRtr",
        "colab_type": "text"
      },
      "source": [
        "# Data Classes\n",
        "* Reduces python class semantics with easy to follow variables\n",
        "* Easy to annotate (appear more like structures)\n",
        "* Type safety hints\n",
        "* Collections require new syntax"
      ]
    },
    {
      "cell_type": "code",
      "metadata": {
        "id": "U_eTBjBmlmxz",
        "colab_type": "code",
        "colab": {}
      },
      "source": [
        "@dataclass\n",
        "class Location:\n",
        "    airport: str\n",
        "    date: str\n",
        "\n",
        "@dataclass\n",
        "class Flight:\n",
        "  departure: Location\n",
        "  arrival: Location\n",
        "  airline: str\n",
        "  flight_number: str\n",
        "\n",
        "@dataclass\n",
        "class Hotel:\n",
        "  property: str\n",
        "  room: str\n",
        "  checkin: str\n",
        "  checkout: str\n",
        "\n",
        "@dataclass\n",
        "class Trip:\n",
        "  flights: List[Flight] = field(default_factory=list)\n",
        "  hotels:  List[Hotel] = field(default_factory=list)\n",
        "\n",
        "  def add_flight(self, flight):\n",
        "    self.flights.append(flight)\n",
        "\n",
        "  def add_hotel(self, hotel):\n",
        "    self.hotels.append(hotel)"
      ],
      "execution_count": 82,
      "outputs": []
    },
    {
      "cell_type": "code",
      "metadata": {
        "id": "n8MrDI2cmdwo",
        "colab_type": "code",
        "colab": {
          "base_uri": "https://localhost:8080/",
          "height": 54
        },
        "outputId": "cc5fcdd8-7bb2-42e4-f7ca-9c2481130c34"
      },
      "source": [
        "flight = Flight(Location('PDX', '2020-10-01 12:00'),\n",
        "                Location('LAX', '2020-10-01 15:00'),\n",
        "                'AS',\n",
        "                '231')\n",
        "hotel = Hotel('Marriott', 'King', '2020-10-01', '2020-10-05')\n",
        "\n",
        "trip = Trip()\n",
        "trip.add_flight(flight)\n",
        "trip.add_hotel(hotel)\n",
        "\n",
        "pp(trip)"
      ],
      "execution_count": 83,
      "outputs": [
        {
          "output_type": "stream",
          "text": [
            "Trip(flights=[Flight(departure=Location(airport='PDX', date='2020-10-01 12:00'), arrival=Location(airport='LAX', date='2020-10-01 15:00'), airline='AS', flight_number='231')], hotels=[Hotel(property='Marriott', room='King', checkin='2020-10-01', checkout='2020-10-05')])\n"
          ],
          "name": "stdout"
        }
      ]
    },
    {
      "cell_type": "code",
      "metadata": {
        "id": "IPvWahPrpN2p",
        "colab_type": "code",
        "colab": {}
      },
      "source": [
        "# Add car"
      ],
      "execution_count": 84,
      "outputs": []
    },
    {
      "cell_type": "markdown",
      "metadata": {
        "id": "8UMzFfPPjiPM",
        "colab_type": "text"
      },
      "source": [
        "# Attrs\n",
        "* Classes without boilerplate\n",
        "* Similar to dataclasses\n",
        "* Support immutable (Frozen)\n",
        "* Support for validators"
      ]
    },
    {
      "cell_type": "code",
      "metadata": {
        "id": "vSqYKxKvp6ij",
        "colab_type": "code",
        "colab": {}
      },
      "source": [
        "@attr.s\n",
        "class Trip:\n",
        "  flights = attr.ib(default=attr.Factory(list))\n",
        "  hotels  = attr.ib(default=attr.Factory(list))\n",
        "\n",
        "  def add_flight(self, flight):\n",
        "    self.flights.append(flight)\n",
        "\n",
        "  def add_hotel(self, hotel):\n",
        "    self.hotels.append(hotel)\n",
        "\n",
        "@attr.s\n",
        "class Location:\n",
        "  airport = attr.ib()\n",
        "  date = attr.ib()\n",
        "\n",
        "@attr.s\n",
        "class Flight:\n",
        "  departure = attr.ib(Location)\n",
        "  arrival = attr.ib(Location)\n",
        "  airline = attr.ib(str)\n",
        "  flight_number = attr.ib(str)\n",
        "\n",
        "@attr.s\n",
        "class Hotel:\n",
        "  property = attr.ib()\n",
        "  room = attr.ib()\n",
        "  checkin = attr.ib()\n",
        "  checkout = attr.ib()"
      ],
      "execution_count": 85,
      "outputs": []
    },
    {
      "cell_type": "code",
      "metadata": {
        "id": "yAMPNPTGqvCY",
        "colab_type": "code",
        "colab": {
          "base_uri": "https://localhost:8080/",
          "height": 54
        },
        "outputId": "57d3e0a6-a25e-44bf-b083-fee65a65caaa"
      },
      "source": [
        "flight = Flight(Location('PDX', '2020-10-01 12:00'),\n",
        "                Location('LAX', '2020-10-01 15:00'),\n",
        "                'AS',\n",
        "                '231')\n",
        "hotel = Hotel('Marriott', 'King', '2020-10-01', '2020-10-05')\n",
        "\n",
        "trip = Trip()\n",
        "trip.add_flight(flight)\n",
        "trip.add_hotel(hotel)\n",
        "\n",
        "pp(trip)"
      ],
      "execution_count": 86,
      "outputs": [
        {
          "output_type": "stream",
          "text": [
            "Trip(flights=[Flight(departure=Location(airport='PDX', date='2020-10-01 12:00'), arrival=Location(airport='LAX', date='2020-10-01 15:00'), airline='AS', flight_number='231')], hotels=[Hotel(property='Marriott', room='King', checkin='2020-10-01', checkout='2020-10-05')])\n"
          ],
          "name": "stdout"
        }
      ]
    },
    {
      "cell_type": "code",
      "metadata": {
        "id": "ZkiEYyLtsBJF",
        "colab_type": "code",
        "colab": {}
      },
      "source": [
        "# Add car"
      ],
      "execution_count": 87,
      "outputs": []
    },
    {
      "cell_type": "markdown",
      "metadata": {
        "id": "g-t_NzqjsC-Z",
        "colab_type": "text"
      },
      "source": [
        "## Immutable"
      ]
    },
    {
      "cell_type": "code",
      "metadata": {
        "id": "9wT0xWvwq-us",
        "colab_type": "code",
        "colab": {}
      },
      "source": [
        "@attr.s(frozen=True)\n",
        "class ImmutableFlight:\n",
        "  departure = attr.ib(Location)\n",
        "  arrival = attr.ib(Location)\n",
        "  airline = attr.ib(str)\n",
        "  flight_number = attr.ib(str)\n",
        "\n",
        "f = ImmutableFlight(Location('PDX', '2020-10-01 12:00'),\n",
        "                    Location('LAX', '2020-10-01 15:00'),\n",
        "                    airline='AS',\n",
        "                    flight_number='231')\n",
        "# f.flight_number = '2231'"
      ],
      "execution_count": 88,
      "outputs": []
    },
    {
      "cell_type": "markdown",
      "metadata": {
        "id": "aHc8QIIWssPP",
        "colab_type": "text"
      },
      "source": [
        "## Validation"
      ]
    },
    {
      "cell_type": "code",
      "metadata": {
        "id": "w3t09Gz4sueA",
        "colab_type": "code",
        "colab": {}
      },
      "source": [
        "\n",
        "@attr.s(frozen=True)\n",
        "class ImmutableValidatingFlight:\n",
        "  departure = attr.ib(Location)\n",
        "  arrival = attr.ib(Location)\n",
        "  airline = attr.ib(str)\n",
        "  flight_number = attr.ib(str)\n",
        "\n",
        "  @flight_number.validator\n",
        "  def valid_flight(self, attribute, value):\n",
        "    num = int(value)\n",
        "    if num < 0 or num > 9999:\n",
        "      raise ValueError('Flight must be integer from 1 and 9999')\n",
        "\n",
        "f = ImmutableValidatingFlight(Location('PDX', '2020-10-01 12:00'),\n",
        "                    Location('LAX', '2020-10-01 15:00'),\n",
        "                    airline='AS',\n",
        "                    flight_number=231)"
      ],
      "execution_count": 89,
      "outputs": []
    },
    {
      "cell_type": "markdown",
      "metadata": {
        "id": "5on3OQESo6Xh",
        "colab_type": "text"
      },
      "source": [
        "# Pydantic\n",
        "* Good validation \n",
        "* Simple to follow \n",
        "* Requires inheriting from BaseModel\n",
        "* Needs named parameters for constructor (optionals can be omitted)"
      ]
    },
    {
      "cell_type": "code",
      "metadata": {
        "id": "s2AUWxkDo6I8",
        "colab_type": "code",
        "colab": {}
      },
      "source": [
        "class Location(BaseModel):\n",
        "  airport : str \n",
        "  date : str \n",
        "\n",
        "class Flight(BaseModel):\n",
        "  departure : Location \n",
        "  arrival : Location \n",
        "  airline : str\n",
        "  flight_number : str \n",
        "\n",
        "class Hotel(BaseModel):\n",
        "  property : str \n",
        "  room : str\n",
        "  checkin : str\n",
        "  checkout : str\n",
        "\n",
        "class Trip(BaseModel):\n",
        "  flights : List[Flight] = []\n",
        "  hotels  : List[Hotel]  = []\n",
        "\n",
        "  def add_flight(self, flight):\n",
        "    self.flights.append(flight)\n",
        "\n",
        "  def add_hotel(self, hotel):\n",
        "    self.hotels.append(hotel)"
      ],
      "execution_count": 90,
      "outputs": []
    },
    {
      "cell_type": "code",
      "metadata": {
        "id": "gp5-nGkSpy8j",
        "colab_type": "code",
        "colab": {
          "base_uri": "https://localhost:8080/",
          "height": 54
        },
        "outputId": "9a8c0e2f-c8f8-46f0-e357-5dc1e7b7aaf4"
      },
      "source": [
        "flight = Flight(departure = Location(airport='PDX', date='2020-10-01 12:00'),\n",
        "                arrival = Location(airport='LAX', date='2020-10-01 15:00'),\n",
        "                airline = 'AS',\n",
        "                flight_number = '231')\n",
        "hotel = Hotel(property='Marriott', room='King', checkin='2020-10-01', checkout='2020-10-05')\n",
        "\n",
        "trip = Trip()\n",
        "trip.add_flight(flight)\n",
        "trip.add_hotel(hotel)\n",
        "\n",
        "pp(trip)"
      ],
      "execution_count": 91,
      "outputs": [
        {
          "output_type": "stream",
          "text": [
            "Trip(flights=[Flight(departure=Location(airport='PDX', date='2020-10-01 12:00'), arrival=Location(airport='LAX', date='2020-10-01 15:00'), airline='AS', flight_number='231')], hotels=[Hotel(property='Marriott', room='King', checkin='2020-10-01', checkout='2020-10-05')])\n"
          ],
          "name": "stdout"
        }
      ]
    },
    {
      "cell_type": "code",
      "metadata": {
        "id": "cTJcGP3yp9D-",
        "colab_type": "code",
        "colab": {}
      },
      "source": [
        "# Add car"
      ],
      "execution_count": 92,
      "outputs": []
    },
    {
      "cell_type": "code",
      "metadata": {
        "id": "D1WtMj1PsL1N",
        "colab_type": "code",
        "colab": {}
      },
      "source": [
        ""
      ],
      "execution_count": 92,
      "outputs": []
    }
  ]
}