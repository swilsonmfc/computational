{
 "cells": [
  {
   "cell_type": "markdown",
   "metadata": {},
   "source": [
    "# Asyncio\n",
    "* Asyncio is a related to multiprocessing and threading\n",
    "* Threading\n",
    "    * Achieves concurrent computing through the creation of multiple threads \n",
    "    * Restricted by the GIL (Global Interpreter Lock)\n",
    "    * The GIL hampers the ability of threads to run in parallel\n",
    "    * Useful for IO related tasks\n",
    "* Multiprocessing\n",
    "    * Achieves concurrent computing through multiple operating system processes\n",
    "    * Operating system scheduling of processes on CPUs allows multiprocessing to achieve parallelism\n",
    "    * Useful for CPU related tasks\n",
    "* Asyncio\n",
    "    * Achieves concurrent computing through thr use of \"coroutines\"\n",
    "    * Built around the idea of cooperative multitasking \n",
    "    * Code can be scheduled / paused allowing other routines to execute\n",
    "    * By avoiding blocking, tasks run when needed and yield when waiting\n",
    "    * Features the feeling of concurrent code, but is single threaded"
   ]
  },
  {
   "cell_type": "markdown",
   "metadata": {},
   "source": [
    "# Setup"
   ]
  },
  {
   "cell_type": "code",
   "execution_count": 13,
   "metadata": {},
   "outputs": [],
   "source": [
    "#conda install aiohttp --yes"
   ]
  },
  {
   "cell_type": "code",
   "execution_count": 35,
   "metadata": {},
   "outputs": [],
   "source": [
    "import asyncio\n",
    "import aiohttp\n",
    "import random\n",
    "import requests\n",
    "import time\n",
    "import queue\n",
    "import concurrent.futures\n",
    "from contextlib import asynccontextmanager"
   ]
  },
  {
   "cell_type": "code",
   "execution_count": 15,
   "metadata": {},
   "outputs": [
    {
     "name": "stdout",
     "output_type": "stream",
     "text": [
      "DEBUG:root:Hello\n"
     ]
    }
   ],
   "source": [
    "import logging\n",
    "import sys\n",
    "logging.basicConfig(stream=sys.stdout, level=logging.DEBUG)\n",
    "logger = logging.getLogger()\n",
    "#logger.setLevel(logging.DEBUG)\n",
    "logger.debug('Hello')"
   ]
  },
  {
   "cell_type": "markdown",
   "metadata": {},
   "source": [
    "# Async, Await, Coroutine & Event Loops\n",
    "* Async creates a coroutine \n",
    "* A coroutine is a generator representing a schedulable block of code\n",
    "* When you call a coroutine, you await the results\n",
    "* An event loop manages the execution of coroutines"
   ]
  },
  {
   "cell_type": "code",
   "execution_count": 16,
   "metadata": {},
   "outputs": [
    {
     "name": "stdout",
     "output_type": "stream",
     "text": [
      "DEBUG:root:Work Started\n",
      "DEBUG:root:Work Finished\n"
     ]
    }
   ],
   "source": [
    "async def work():\n",
    "    logger.debug('Work Started')\n",
    "    await asyncio.sleep(1)\n",
    "    logger.debug('Work Finished')\n",
    "    \n",
    "await work()"
   ]
  },
  {
   "cell_type": "markdown",
   "metadata": {},
   "source": [
    "## Return\n",
    "* If we want the results, we can assign the return value"
   ]
  },
  {
   "cell_type": "code",
   "execution_count": 17,
   "metadata": {},
   "outputs": [
    {
     "name": "stdout",
     "output_type": "stream",
     "text": [
      "DEBUG:root:Work Started\n",
      "DEBUG:root:Work Finished\n",
      "1\n"
     ]
    }
   ],
   "source": [
    "async def work():\n",
    "    logger.debug('Work Started')\n",
    "    await asyncio.sleep(1)\n",
    "    logger.debug('Work Finished')\n",
    "    return 1\n",
    "    \n",
    "reply = await work()\n",
    "print(reply)"
   ]
  },
  {
   "cell_type": "markdown",
   "metadata": {},
   "source": [
    "## Gather\n",
    "* For multiple responses, we can gather them"
   ]
  },
  {
   "cell_type": "code",
   "execution_count": 18,
   "metadata": {},
   "outputs": [
    {
     "name": "stdout",
     "output_type": "stream",
     "text": [
      "DEBUG:root:Work Started\n",
      "DEBUG:root:Work Started\n",
      "DEBUG:root:Work Finished\n",
      "DEBUG:root:Work Finished\n",
      "[1, 1]\n"
     ]
    }
   ],
   "source": [
    "async def work():\n",
    "    logger.debug('Work Started')\n",
    "    await asyncio.sleep(1)\n",
    "    logger.debug('Work Finished')\n",
    "    return 1\n",
    "    \n",
    "reply = await asyncio.gather(*[work(), work()])\n",
    "print(reply)"
   ]
  },
  {
   "cell_type": "markdown",
   "metadata": {},
   "source": [
    "# Example\n",
    "* We have some work to do\n",
    "* We log starting and completion\n",
    "* To simulate the work, we sleep for 2 seconds\n",
    "* We have 5 work tasks to complete"
   ]
  },
  {
   "cell_type": "code",
   "execution_count": 19,
   "metadata": {},
   "outputs": [
    {
     "name": "stdout",
     "output_type": "stream",
     "text": [
      "DEBUG:root:  Starting Work 0\n",
      "DEBUG:root:  Starting Work 1\n",
      "DEBUG:root:  Starting Work 2\n",
      "DEBUG:root:  Starting Work 3\n",
      "DEBUG:root:  Starting Work 4\n",
      "DEBUG:root:  Finished Work 0\n",
      "DEBUG:root:  Finished Work 1\n",
      "DEBUG:root:  Finished Work 2\n",
      "DEBUG:root:  Finished Work 3\n",
      "DEBUG:root:  Finished Work 4\n"
     ]
    }
   ],
   "source": [
    "async def work(task):\n",
    "    logger.debug(f'  Starting Work {task}')\n",
    "    await asyncio.sleep(2)\n",
    "    logger.debug(f'  Finished Work {task}')\n",
    "  \n",
    "async def schedule(tasks):\n",
    "    replies = await asyncio.gather(*(work(task) for task in range(tasks)))\n",
    "    return replies\n",
    "\n",
    "# Call if running in plain python\n",
    "#if __name__ == '__main__':\n",
    "#    asyncio.run(schedule(5))\n",
    "\n",
    "reply = await schedule(5)"
   ]
  },
  {
   "cell_type": "markdown",
   "metadata": {},
   "source": [
    "# Patterns\n",
    "* In this next section, we look at several common patterns & uses\n",
    "* Chained Jobs - Piping coroutines\n",
    "* Callback - Getting a callback when complete\n",
    "* Queue - Passing data between coroutines\n",
    "* Polling - Periodically checking on a value\n",
    "* Fire & Forget - Run a task in the background\n",
    "* Context Manager - Processing a web page with context managers "
   ]
  },
  {
   "cell_type": "markdown",
   "metadata": {},
   "source": [
    "# Chained Jobs\n",
    "* Chained coroutines is similar to piping commands in a shell\n",
    "* In this trivial example we have:\n",
    "    * Job3 --> Loops num of times\n",
    "    * Job3 --> Calls Job2\n",
    "    * Job2 --> Doubles the Value\n",
    "    * Job2 --> Calls Job1\n",
    "    * Job1 --> Adds One"
   ]
  },
  {
   "cell_type": "code",
   "execution_count": 20,
   "metadata": {},
   "outputs": [
    {
     "name": "stdout",
     "output_type": "stream",
     "text": [
      "DEBUG:root:0 --> 1\n",
      "DEBUG:root:1 --> 3\n",
      "DEBUG:root:2 --> 5\n",
      "DEBUG:root:3 --> 7\n",
      "DEBUG:root:4 --> 9\n",
      "DEBUG:root:5 --> 11\n",
      "DEBUG:root:6 --> 13\n",
      "DEBUG:root:7 --> 15\n",
      "DEBUG:root:8 --> 17\n",
      "DEBUG:root:9 --> 19\n"
     ]
    }
   ],
   "source": [
    "async def job3(y):\n",
    "    # Add 1 to value\n",
    "    return y + 1\n",
    "\n",
    "async def job2(x):\n",
    "    # Double\n",
    "    x = x * 2\n",
    "    response = await job3(x)\n",
    "    return response\n",
    "\n",
    "async def job1(num):\n",
    "    # Run num of times\n",
    "    for value in range(num):\n",
    "        response = await job2(value)\n",
    "        logger.debug(f'{value} --> {response}')\n",
    "        \n",
    "j = await job1(10)"
   ]
  },
  {
   "cell_type": "markdown",
   "metadata": {},
   "source": [
    "# Callback\n",
    "* We have a long / slow task to perform\n",
    "* When the task finishes we would like to perform an action\n",
    "* A callback works well for this use case\n",
    "* In the example, we'll fire a task and a future for the slow work"
   ]
  },
  {
   "cell_type": "code",
   "execution_count": 31,
   "metadata": {},
   "outputs": [
    {
     "name": "stdout",
     "output_type": "stream",
     "text": [
      "DEBUG:root:Create Task\n",
      "DEBUG:root:Create Future\n",
      "DEBUG:root:  Slow Task Task Started\n",
      "DEBUG:root:  Slow Task Future Started\n",
      "DEBUG:root:  Slow Task Future Completed\n",
      "DEBUG:root:  Slow Task Future Result 1\n",
      "DEBUG:root:Callback:  Received notice of completion\n",
      "DEBUG:root:Callback:  Value : ('Future', 1)\n",
      "DEBUG:root:  Slow Task Task Completed\n",
      "DEBUG:root:  Slow Task Task Result 3\n",
      "DEBUG:root:Callback:  Received notice of completion\n",
      "DEBUG:root:Callback:  Value : ('Task', 3)\n"
     ]
    }
   ],
   "source": [
    "async def slow_task(name):\n",
    "    logger.debug(f'  Slow Task {name} Started')\n",
    "    result = random.randint(1,5)\n",
    "    await asyncio.sleep(result)\n",
    "    logger.debug(f'  Slow Task {name} Completed')\n",
    "    logger.debug(f'  Slow Task {name} Result {result}')\n",
    "    return name, result\n",
    "    \n",
    "def handle(future):\n",
    "    logger.debug(f'Callback:  Received notice of completion')\n",
    "    logger.debug(f'Callback:  Value : {future.result()}')\n",
    "\n",
    "# Processing the Task\n",
    "logger.debug('Create Task')\n",
    "task = asyncio.create_task(slow_task('Task'))\n",
    "task.add_done_callback(handle)\n",
    "\n",
    "await asyncio.sleep(5)"
   ]
  },
  {
   "cell_type": "markdown",
   "metadata": {},
   "source": [
    "# Queues"
   ]
  },
  {
   "cell_type": "code",
   "execution_count": 32,
   "metadata": {},
   "outputs": [
    {
     "name": "stdout",
     "output_type": "stream",
     "text": [
      "DEBUG:root:Main Creating Queue, Producer, Consumer\n",
      "DEBUG:root:-->  Producer Creating 1\n",
      "DEBUG:root:-->  Producer Creating 2\n",
      "DEBUG:root:<--  Consumer Handling 1\n",
      "DEBUG:root:-->  Producer Creating 3\n",
      "DEBUG:root:<--  Consumer Handling 2\n",
      "DEBUG:root:-->  Producer Creating 4\n",
      "DEBUG:root:-->  Producer Creating 5\n",
      "DEBUG:root:-->  Producer Creating 6\n",
      "DEBUG:root:-->  Producer Creating 7\n",
      "DEBUG:root:-->  Producer Creating 8\n",
      "DEBUG:root:<--  Consumer Handling 3\n",
      "DEBUG:root:-->  Producer Creating 9\n",
      "DEBUG:root:-->  Producer Creating 10\n",
      "DEBUG:root:-->  Producer Creating 11\n",
      "DEBUG:root:-->  Producer Creating 12\n",
      "DEBUG:root:-->  Producer Creating 13\n",
      "DEBUG:root:<--  Consumer Handling 4\n",
      "DEBUG:root:<--  Consumer Handling 5\n",
      "DEBUG:root:-->  Producer Creating 14\n",
      "DEBUG:root:<--  Consumer Handling 6\n",
      "DEBUG:root:<--  Consumer Handling 7\n",
      "DEBUG:root:-->  Producer Creating 15\n",
      "DEBUG:root:-->  Producer Creating 16\n",
      "DEBUG:root:-->  Producer Creating 17\n",
      "DEBUG:root:<--  Consumer Handling 8\n",
      "DEBUG:root:-->  Producer Creating 18\n",
      "DEBUG:root:-->  Producer Creating 19\n",
      "DEBUG:root:-->  Producer Creating 20\n",
      "DEBUG:root:<--  Consumer Handling 9\n",
      "DEBUG:root:-->  Producer Creating 21\n",
      "DEBUG:root:<--  Consumer Handling 10\n",
      "DEBUG:root:-->  Producer Creating 22\n",
      "DEBUG:root:-->  Producer Creating 23\n",
      "DEBUG:root:-->  Producer Creating 24\n",
      "DEBUG:root:Main Stopping Producer\n",
      "DEBUG:root:Draining Queue & Stopping Consumer\n",
      "DEBUG:root:<--  Consumer Handling 11\n",
      "DEBUG:root:<--  Consumer Handling 12\n",
      "DEBUG:root:<--  Consumer Handling 13\n",
      "DEBUG:root:<--  Consumer Handling 14\n",
      "DEBUG:root:<--  Consumer Handling 15\n",
      "DEBUG:root:<--  Consumer Handling 16\n",
      "DEBUG:root:<--  Consumer Handling 17\n",
      "DEBUG:root:<--  Consumer Handling 18\n",
      "DEBUG:root:<--  Consumer Handling 19\n",
      "DEBUG:root:<--  Consumer Handling 20\n",
      "DEBUG:root:<--  Consumer Handling 21\n",
      "DEBUG:root:<--  Consumer Handling 22\n",
      "DEBUG:root:<--  Consumer Handling 23\n",
      "DEBUG:root:<--  Consumer Handling 24\n",
      "DEBUG:root:Completed\n"
     ]
    }
   ],
   "source": [
    "async def consume(q):\n",
    "    while True:\n",
    "        job = await q.get()\n",
    "        logger.debug(f'<--  Consumer Handling {job}')\n",
    "        q.task_done()\n",
    "        await asyncio.sleep(.5)\n",
    "\n",
    "async def produce(q):\n",
    "    job_counter = 1\n",
    "    while True:\n",
    "        jobs = random.randint(1,3)\n",
    "        for j in range(jobs):\n",
    "            logger.debug(f'-->  Producer Creating {job_counter}')\n",
    "            await q.put(str(job_counter))\n",
    "            job_counter += 1\n",
    "        await asyncio.sleep(random.random())\n",
    "    \n",
    "logger.debug('Main Creating Queue, Producer, Consumer')\n",
    "q = asyncio.Queue()\n",
    "consumer = asyncio.create_task(consume(q))\n",
    "producer = asyncio.create_task(produce(q))\n",
    "\n",
    "await asyncio.sleep(5)\n",
    "\n",
    "logger.debug('Main Stopping Producer')\n",
    "producer.cancel()\n",
    "\n",
    "logger.debug('Draining Queue & Stopping Consumer')\n",
    "await q.join()\n",
    "consumer.cancel()\n",
    "\n",
    "logger.debug('Completed')"
   ]
  },
  {
   "cell_type": "markdown",
   "metadata": {},
   "source": [
    "# Polling\n",
    "* In this example, we create a poll task\n",
    "* That task runs in a while loop, periodically sleeping\n",
    "* When we want to quit, we cancel the task"
   ]
  },
  {
   "cell_type": "code",
   "execution_count": 23,
   "metadata": {},
   "outputs": [
    {
     "name": "stdout",
     "output_type": "stream",
     "text": [
      "DEBUG:root:Main Starting Poller\n",
      "DEBUG:root:  Poller Running\n",
      "DEBUG:root:  Poller Running\n",
      "DEBUG:root:  Poller Running\n",
      "DEBUG:root:  Poller Running\n",
      "DEBUG:root:  Poller Running\n",
      "DEBUG:root:  Poller Running\n",
      "DEBUG:root:  Poller Running\n",
      "DEBUG:root:  Poller Running\n",
      "DEBUG:root:  Poller Running\n",
      "DEBUG:root:  Poller Running\n",
      "DEBUG:root:Main Cancelling Poller\n"
     ]
    }
   ],
   "source": [
    "async def poll():\n",
    "    while True:\n",
    "        logger.debug('  Poller Running')\n",
    "        await asyncio.sleep(.5)\n",
    "\n",
    "async def main():\n",
    "    logger.debug('Main Starting Poller')\n",
    "    loop = asyncio.get_running_loop()\n",
    "    task = loop.create_task(poll())\n",
    "    await asyncio.sleep(5)\n",
    "    logger.debug('Main Cancelling Poller')\n",
    "    task.cancel()\n",
    "    \n",
    "await main()"
   ]
  },
  {
   "cell_type": "markdown",
   "metadata": {},
   "source": [
    "# Fire & Forget\n",
    "* In this pattern we want to setup a task to operate in the background\n",
    "* We won't won't be concerned about completion"
   ]
  },
  {
   "cell_type": "code",
   "execution_count": 33,
   "metadata": {},
   "outputs": [
    {
     "name": "stdout",
     "output_type": "stream",
     "text": [
      "DEBUG:root:Fire off Background Task\n",
      "DEBUG:root:Continuing On\n",
      "DEBUG:root:  Starting Background Task : Cleanup\n",
      "DEBUG:root:  Completed Task : Cleanup\n"
     ]
    }
   ],
   "source": [
    "async def background_task(type):\n",
    "    logger.debug(f'  Starting Background Task : {type}')\n",
    "    await asyncio.sleep(5)\n",
    "    logger.debug(f'  Completed Task : {type}')\n",
    "    \n",
    "logger.debug('Fire off Background Task')\n",
    "asyncio.create_task(background_task('Cleanup')) \n",
    "logger.debug('Continuing On')"
   ]
  },
  {
   "cell_type": "markdown",
   "metadata": {},
   "source": [
    "# Context Manager\n",
    "* We'll use an annotation wrapping the process method which will handle:\n",
    "    * dunder aentet\n",
    "    * dunder aexit\n",
    "* Process will be responsible for:\n",
    "    * Pulling the web page (with requests)\n",
    "    * Yielding the page data\n",
    "* Caller will be responsible for:\n",
    "    * Invoking process in an asynch with block\n",
    "    * Calling parse on the response"
   ]
  },
  {
   "cell_type": "code",
   "execution_count": 44,
   "metadata": {},
   "outputs": [
    {
     "name": "stdout",
     "output_type": "stream",
     "text": [
      "DEBUG:root:Processing http://www.microsoft.com\n",
      "DEBUG:root:Pulling http://www.microsoft.com\n",
      "DEBUG:urllib3.connectionpool:Starting new HTTP connection (1): www.microsoft.com:80\n",
      "DEBUG:urllib3.connectionpool:http://www.microsoft.com:80 \"GET / HTTP/1.1\" 302 0\n",
      "DEBUG:urllib3.connectionpool:Starting new HTTPS connection (1): www.microsoft.com:443\n",
      "DEBUG:urllib3.connectionpool:https://www.microsoft.com:443 \"GET /en-us/ HTTP/1.1\" 200 39438\n",
      "DEBUG:root:Handling Response\n"
     ]
    }
   ],
   "source": [
    "@asynccontextmanager  \n",
    "async def process(url):  \n",
    "    logger.debug(f'Processing {url}')\n",
    "    page = pull(url)  \n",
    "    yield page  \n",
    "    \n",
    "def pull(url):\n",
    "    logger.debug(f'Pulling {url}')\n",
    "    r = requests.get(url)\n",
    "    return r.text\n",
    "    \n",
    "def parse(page):\n",
    "    logger.debug(f'Handling Response')\n",
    "\n",
    "async with process('http://www.microsoft.com') as page:\n",
    "    parse(page)"
   ]
  },
  {
   "cell_type": "markdown",
   "metadata": {},
   "source": [
    "## Jupyter Environment\n",
    "* We're running a notebook and asyncio.get_event_loop returns an active loop\n",
    "* That prevents us from calling run_until_complete\n",
    "* We have two options:\n",
    "    * Add a task to the Jupyter event loop (task is a future that wraps completion of a coroutine)\n",
    "    * Use run_coroutine_threadsafe (returns a future)"
   ]
  },
  {
   "cell_type": "code",
   "execution_count": 25,
   "metadata": {},
   "outputs": [
    {
     "name": "stdout",
     "output_type": "stream",
     "text": [
      "Exception : This event loop is already running\n"
     ]
    }
   ],
   "source": [
    "# Exception\n",
    "try:\n",
    "    loop = asyncio.get_event_loop()\n",
    "    loop.run_until_complete(background_task('Jupyter'))\n",
    "except Exception as fail:\n",
    "    print(f'Exception : {fail}')"
   ]
  },
  {
   "cell_type": "code",
   "execution_count": 26,
   "metadata": {},
   "outputs": [
    {
     "data": {
      "text/plain": [
       "<Task pending coro=<background_task() running at <ipython-input-24-3515b96dc3aa>:1>>"
      ]
     },
     "execution_count": 26,
     "metadata": {},
     "output_type": "execute_result"
    }
   ],
   "source": [
    "loop = asyncio.get_event_loop()\n",
    "loop.create_task(background_task('Jupyter'))"
   ]
  },
  {
   "cell_type": "code",
   "execution_count": 27,
   "metadata": {},
   "outputs": [
    {
     "data": {
      "text/plain": [
       "<Future at 0x10d809090 state=pending>"
      ]
     },
     "execution_count": 27,
     "metadata": {},
     "output_type": "execute_result"
    }
   ],
   "source": [
    "loop = asyncio.get_event_loop()\n",
    "asyncio.run_coroutine_threadsafe(background_task('Jupyter'), loop)"
   ]
  },
  {
   "cell_type": "markdown",
   "metadata": {},
   "source": [
    "# Worker Pool\n",
    "* Rather than running the requests in the main loop\n",
    "* We'll create an executor pool and execute the coroutines in the pool"
   ]
  },
  {
   "cell_type": "code",
   "execution_count": 28,
   "metadata": {},
   "outputs": [
    {
     "name": "stdout",
     "output_type": "stream",
     "text": [
      "DEBUG:root:  Starting Background Task : Cleanup\n",
      "DEBUG:root:  Starting Background Task : Jupyter\n",
      "DEBUG:root:  Starting Background Task : Jupyter\n",
      "DEBUG:root:Pulling\n",
      "DEBUG:root:Pulling\n",
      "DEBUG:root:Pulling\n",
      "DEBUG:root:Pulling\n",
      "DEBUG:root:Pulling\n",
      "DEBUG:root:  Starting Background Task : Jupyter\n",
      "DEBUG:urllib3.connectionpool:Starting new HTTP connection (1): www.microsoft.com:80\n",
      "DEBUG:urllib3.connectionpool:Starting new HTTP connection (1): www.microsoft.com:80\n",
      "DEBUG:urllib3.connectionpool:Starting new HTTP connection (1): www.microsoft.com:80\n",
      "DEBUG:urllib3.connectionpool:Starting new HTTP connection (1): www.microsoft.com:80\n",
      "DEBUG:urllib3.connectionpool:Starting new HTTP connection (1): www.microsoft.com:80\n",
      "DEBUG:urllib3.connectionpool:http://www.microsoft.com:80 \"GET / HTTP/1.1\" 302 0\n",
      "DEBUG:urllib3.connectionpool:Starting new HTTPS connection (1): www.microsoft.com:443\n",
      "DEBUG:urllib3.connectionpool:http://www.microsoft.com:80 \"GET / HTTP/1.1\" 302 0\n",
      "DEBUG:urllib3.connectionpool:http://www.microsoft.com:80 \"GET / HTTP/1.1\" 302 0\n",
      "DEBUG:urllib3.connectionpool:Starting new HTTPS connection (1): www.microsoft.com:443\n",
      "DEBUG:urllib3.connectionpool:http://www.microsoft.com:80 \"GET / HTTP/1.1\" 302 0\n",
      "DEBUG:urllib3.connectionpool:http://www.microsoft.com:80 \"GET / HTTP/1.1\" 302 0\n",
      "DEBUG:urllib3.connectionpool:Starting new HTTPS connection (1): www.microsoft.com:443\n",
      "DEBUG:urllib3.connectionpool:Starting new HTTPS connection (1): www.microsoft.com:443\n",
      "DEBUG:urllib3.connectionpool:Starting new HTTPS connection (1): www.microsoft.com:443\n",
      "DEBUG:urllib3.connectionpool:https://www.microsoft.com:443 \"GET /en-us/ HTTP/1.1\" 200 39402\n",
      "DEBUG:urllib3.connectionpool:https://www.microsoft.com:443 \"GET /en-us/ HTTP/1.1\" 200 39401\n",
      "DEBUG:urllib3.connectionpool:https://www.microsoft.com:443 \"GET /en-us/ HTTP/1.1\" 200 39406\n",
      "DEBUG:urllib3.connectionpool:https://www.microsoft.com:443 \"GET /en-us/ HTTP/1.1\" 200 39425\n",
      "DEBUG:urllib3.connectionpool:https://www.microsoft.com:443 \"GET /en-us/ HTTP/1.1\" 200 39412\n",
      "DEBUG:root:Pulling\n",
      "DEBUG:root:Pulling\n",
      "DEBUG:root:Pulling\n",
      "DEBUG:urllib3.connectionpool:Starting new HTTP connection (1): www.microsoft.com:80\n",
      "DEBUG:urllib3.connectionpool:Starting new HTTP connection (1): www.microsoft.com:80\n",
      "DEBUG:root:Pulling\n",
      "DEBUG:urllib3.connectionpool:Starting new HTTP connection (1): www.microsoft.com:80\n",
      "DEBUG:root:Pulling\n",
      "DEBUG:urllib3.connectionpool:Starting new HTTP connection (1): www.microsoft.com:80\n",
      "DEBUG:urllib3.connectionpool:Starting new HTTP connection (1): www.microsoft.com:80\n",
      "DEBUG:urllib3.connectionpool:http://www.microsoft.com:80 \"GET / HTTP/1.1\" 302 0\n",
      "DEBUG:urllib3.connectionpool:http://www.microsoft.com:80 \"GET / HTTP/1.1\" 302 0\n",
      "DEBUG:urllib3.connectionpool:Starting new HTTPS connection (1): www.microsoft.com:443\n",
      "DEBUG:urllib3.connectionpool:Starting new HTTPS connection (1): www.microsoft.com:443\n",
      "DEBUG:urllib3.connectionpool:http://www.microsoft.com:80 \"GET / HTTP/1.1\" 302 0\n",
      "DEBUG:urllib3.connectionpool:http://www.microsoft.com:80 \"GET / HTTP/1.1\" 302 0\n",
      "DEBUG:urllib3.connectionpool:http://www.microsoft.com:80 \"GET / HTTP/1.1\" 302 0\n",
      "DEBUG:urllib3.connectionpool:Starting new HTTPS connection (1): www.microsoft.com:443\n",
      "DEBUG:urllib3.connectionpool:Starting new HTTPS connection (1): www.microsoft.com:443\n",
      "DEBUG:urllib3.connectionpool:Starting new HTTPS connection (1): www.microsoft.com:443\n",
      "DEBUG:urllib3.connectionpool:https://www.microsoft.com:443 \"GET /en-us/ HTTP/1.1\" 200 39407\n",
      "DEBUG:urllib3.connectionpool:https://www.microsoft.com:443 \"GET /en-us/ HTTP/1.1\" 200 39427\n",
      "DEBUG:urllib3.connectionpool:https://www.microsoft.com:443 \"GET /en-us/ HTTP/1.1\" 200 39407\n",
      "DEBUG:urllib3.connectionpool:https://www.microsoft.com:443 \"GET /en-us/ HTTP/1.1\" 200 39400\n",
      "DEBUG:urllib3.connectionpool:https://www.microsoft.com:443 \"GET /en-us/ HTTP/1.1\" 200 39406\n"
     ]
    }
   ],
   "source": [
    "def pull(url):\n",
    "    logger.debug('Pulling')\n",
    "    r = requests.get(url)\n",
    "    return r\n",
    "\n",
    "with concurrent.futures.ThreadPoolExecutor(max_workers=5) as executor:\n",
    "    loop = asyncio.get_event_loop()   \n",
    "    futures = [\n",
    "        loop.run_in_executor(executor, pull, 'http://www.microsoft.com') \n",
    "            for _ in range(10)\n",
    "    ]\n",
    "    await asyncio.gather(*futures)"
   ]
  },
  {
   "cell_type": "markdown",
   "metadata": {},
   "source": [
    "# Web Crawling - Scraping "
   ]
  },
  {
   "cell_type": "markdown",
   "metadata": {},
   "source": [
    "## Synchronous Approach\n",
    "* Create \"n\" synchronous tasks that pull a url\n",
    "* Each task uses requests' get method on the url\n",
    "* We time each HTTP request & the overall time"
   ]
  },
  {
   "cell_type": "code",
   "execution_count": 29,
   "metadata": {},
   "outputs": [
    {
     "name": "stdout",
     "output_type": "stream",
     "text": [
      "DEBUG:root:Running Synchronous Pulls\n",
      "DEBUG:urllib3.connectionpool:Starting new HTTP connection (1): www.microsoft.com:80\n",
      "DEBUG:urllib3.connectionpool:http://www.microsoft.com:80 \"GET / HTTP/1.1\" 302 0\n",
      "DEBUG:urllib3.connectionpool:Starting new HTTPS connection (1): www.microsoft.com:443\n",
      "DEBUG:urllib3.connectionpool:https://www.microsoft.com:443 \"GET /en-us/ HTTP/1.1\" 200 39437\n",
      "DEBUG:root:  Synchronous 0.75 seconds\n",
      "DEBUG:urllib3.connectionpool:Starting new HTTP connection (1): www.microsoft.com:80\n",
      "DEBUG:urllib3.connectionpool:http://www.microsoft.com:80 \"GET / HTTP/1.1\" 302 0\n",
      "DEBUG:urllib3.connectionpool:Starting new HTTPS connection (1): www.microsoft.com:443\n",
      "DEBUG:urllib3.connectionpool:https://www.microsoft.com:443 \"GET /en-us/ HTTP/1.1\" 200 39440\n",
      "DEBUG:root:  Synchronous 0.47 seconds\n",
      "DEBUG:urllib3.connectionpool:Starting new HTTP connection (1): www.microsoft.com:80\n",
      "DEBUG:urllib3.connectionpool:http://www.microsoft.com:80 \"GET / HTTP/1.1\" 302 0\n",
      "DEBUG:urllib3.connectionpool:Starting new HTTPS connection (1): www.microsoft.com:443\n",
      "DEBUG:urllib3.connectionpool:https://www.microsoft.com:443 \"GET /en-us/ HTTP/1.1\" 200 39409\n",
      "DEBUG:root:  Synchronous 0.38 seconds\n",
      "DEBUG:urllib3.connectionpool:Starting new HTTP connection (1): www.microsoft.com:80\n",
      "DEBUG:urllib3.connectionpool:http://www.microsoft.com:80 \"GET / HTTP/1.1\" 302 0\n",
      "DEBUG:urllib3.connectionpool:Starting new HTTPS connection (1): www.microsoft.com:443\n",
      "DEBUG:urllib3.connectionpool:https://www.microsoft.com:443 \"GET /en-us/ HTTP/1.1\" 200 39441\n",
      "DEBUG:root:  Synchronous 0.32 seconds\n",
      "DEBUG:urllib3.connectionpool:Starting new HTTP connection (1): www.microsoft.com:80\n",
      "DEBUG:urllib3.connectionpool:http://www.microsoft.com:80 \"GET / HTTP/1.1\" 302 0\n",
      "DEBUG:urllib3.connectionpool:Starting new HTTPS connection (1): www.microsoft.com:443\n",
      "DEBUG:urllib3.connectionpool:https://www.microsoft.com:443 \"GET /en-us/ HTTP/1.1\" 200 39411\n",
      "DEBUG:root:  Synchronous 0.36 seconds\n",
      "DEBUG:root:Completed in 2.28 seconds\n"
     ]
    }
   ],
   "source": [
    "def pull_sync(url):\n",
    "    res   = requests.get(url)\n",
    "\n",
    "def run_sync(url, num=5):\n",
    "    for counter in range(num):\n",
    "        start = time.time()\n",
    "        pull_sync(url)\n",
    "        end   = time.time()\n",
    "        logger.debug(f'  Synchronous {end - start:.2f} seconds')    \n",
    "   \n",
    "logger.debug('Running Synchronous Pulls')\n",
    "start = time.time()\n",
    "run_sync('http://www.microsoft.com')\n",
    "end = time.time()\n",
    "logger.debug(f'Completed in {end - start:.2f} seconds')"
   ]
  },
  {
   "cell_type": "markdown",
   "metadata": {},
   "source": [
    "## Asynchronous Approach\n",
    "* Create \"n\" asynchronous tasks that pull a url\n",
    "* Each task uses aiohttp's ClientSession to perform a get on the url\n",
    "* We time each HTTP request & the overall time"
   ]
  },
  {
   "cell_type": "code",
   "execution_count": 30,
   "metadata": {},
   "outputs": [
    {
     "name": "stdout",
     "output_type": "stream",
     "text": [
      "DEBUG:root:Running Asynchronous Pulls\n",
      "DEBUG:root:  Asynchronous 0.45 seconds\n",
      "DEBUG:root:  Asynchronous 0.42 seconds\n",
      "DEBUG:root:  Asynchronous 0.43 seconds\n",
      "DEBUG:root:  Asynchronous 0.43 seconds\n",
      "DEBUG:root:  Asynchronous 0.44 seconds\n",
      "DEBUG:root:Completed in 0.48 seconds\n",
      "DEBUG:root:  Completed Task : Cleanup\n",
      "DEBUG:root:  Completed Task : Jupyter\n",
      "DEBUG:root:  Completed Task : Jupyter\n",
      "DEBUG:root:  Completed Task : Jupyter\n"
     ]
    }
   ],
   "source": [
    "async def pull_aiohttp(url):\n",
    "    async with aiohttp.ClientSession() as session:\n",
    "        async with session.get(url) as r:\n",
    "            return r\n",
    "        \n",
    "async def pull_async(url):\n",
    "    start = time.time()\n",
    "    await pull_aiohttp(url)\n",
    "    end   = time.time()\n",
    "    logger.debug(f'  Asynchronous {end - start:.2f} seconds') \n",
    "        \n",
    "async def run_async(url, num=5):\n",
    "    pulls = [asyncio.create_task(pull_async(url)) for counter in range(num)]\n",
    "    await asyncio.wait(pulls)          \n",
    "               \n",
    "logger.debug('Running Asynchronous Pulls')\n",
    "start = time.time()\n",
    "await run_async('http://www.microsoft.com')\n",
    "end = time.time()\n",
    "logger.debug(f'Completed in {end - start:.2f} seconds')"
   ]
  }
 ],
 "metadata": {
  "kernelspec": {
   "display_name": "Python 3",
   "language": "python",
   "name": "python3"
  },
  "language_info": {
   "codemirror_mode": {
    "name": "ipython",
    "version": 3
   },
   "file_extension": ".py",
   "mimetype": "text/x-python",
   "name": "python",
   "nbconvert_exporter": "python",
   "pygments_lexer": "ipython3",
   "version": "3.7.6"
  }
 },
 "nbformat": 4,
 "nbformat_minor": 4
}
